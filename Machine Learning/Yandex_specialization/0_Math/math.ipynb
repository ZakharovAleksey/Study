{
 "cells": [
  {
   "cell_type": "code",
   "execution_count": 1,
   "metadata": {},
   "outputs": [],
   "source": [
    "import numpy as np\n",
    "import pandas as pd\n",
    "import scipy as sc\n",
    "import matplotlib.pyplot as plt"
   ]
  },
  {
   "cell_type": "markdown",
   "metadata": {},
   "source": [
    "# Математика\n",
    "\n",
    "## Предел и непрерывность функции\n",
    "\n",
    "**Опр** Число $a$ будем называть пределом последовательности $x_{i}$  если: \n",
    "\\begin{equation*}\n",
    "    \\forall \\varepsilon > 0  \\, \\exists  \\, N : \\, \\forall n > N \\, |x_{x} - a| \\leq \\varepsilon\n",
    "\\end{equation*}\n",
    "\n",
    "\n",
    "**Опр** Функцию $f(x)$ будем называть непрерывной в точке $x_{0}$, если предел $f(x)$ существует в этой точке и равен $f(x_{0})$:\n",
    "\\begin{equation*}\n",
    "    \\lim_{x\\to x_{0}}f(x) = f(\\lim_{x\\to x_{0}})=f(x_{0})\n",
    "\\end{equation*}\n",
    "\n",
    "P.S. Определение выше легко понять: *РЕАЛЬНОЕ значение функции в точке $x_{0}$ должно совпадать с ОЖИДАЕМЫМ значением функции при приближении к этой точке* \n",
    "\n",
    "**Опр** Функцию $f(x)$ будем называть непрерывной, если она определена в любой точке из области определения функции $D(f)$.\n",
    "\n"
   ]
  },
  {
   "cell_type": "code",
   "execution_count": null,
   "metadata": {},
   "outputs": [],
   "source": []
  },
  {
   "cell_type": "markdown",
   "metadata": {},
   "source": [
    "# Производная функции\n",
    "\n",
    "**Опр** Пределом функции $f(x)$ в точке $a$ называется предел приращения функции к приращению аргумента при стремлении приращения аргумента к 0:\n",
    "\n",
    "\\begin{equation*}\n",
    "    f'(x) = \\lim_{ \\Delta x\\to 0} \\frac{f(x + \\Delta x) - f(x)}{\\Delta x}\n",
    "\\end{equation*}\n",
    "\n",
    "Геометрический смысл производной --- тангенс угла наклона касательной к функции $f(x)$ в заданной точке, то есть уравнение касательной в функции $f(x)$ в точке $a$: $y = f'(a)(x - a) + f(a)$\n",
    "\n",
    "**Опр** Гладкие функции --- функции с непрерывной производной.\n",
    "\n",
    "Это значит что производная резко не меняет свой знак, и у функции нет изломов.\n",
    "\n",
    "**Теор** Необходимое условие экстремума функции $f(x)$ в точке $a$: производная функции равна нулю в этой точке, те $f'(a) = 0$.\n",
    "\n",
    "**Теор** Достаточное условие экстремума функции $f(x)$ в точке $a$: если выполнено необходимое условие экстремума функции в этой точке и \n",
    "1. $f''(x) < 0 $ --- функция \n"
   ]
  },
  {
   "cell_type": "code",
   "execution_count": 13,
   "metadata": {},
   "outputs": [],
   "source": [
    "# %run ./plot.py func"
   ]
  },
  {
   "cell_type": "code",
   "execution_count": null,
   "metadata": {},
   "outputs": [],
   "source": []
  }
 ],
 "metadata": {
  "kernelspec": {
   "display_name": "Python 3",
   "language": "python",
   "name": "python3"
  },
  "language_info": {
   "codemirror_mode": {
    "name": "ipython",
    "version": 3
   },
   "file_extension": ".py",
   "mimetype": "text/x-python",
   "name": "python",
   "nbconvert_exporter": "python",
   "pygments_lexer": "ipython3",
   "version": "3.7.4"
  }
 },
 "nbformat": 4,
 "nbformat_minor": 2
}
