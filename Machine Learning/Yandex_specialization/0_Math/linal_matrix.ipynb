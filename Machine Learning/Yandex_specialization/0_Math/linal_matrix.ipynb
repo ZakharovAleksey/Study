{
 "cells": [
  {
   "cell_type": "code",
   "execution_count": 59,
   "metadata": {},
   "outputs": [],
   "source": [
    "import numpy as np\n",
    "import scipy as sp\n",
    "import matplotlib.pyplot as plt\n",
    "from numpy.linalg import norm, det, eig"
   ]
  },
  {
   "cell_type": "markdown",
   "metadata": {},
   "source": [
    "# Матрицы\n",
    "\n",
    "## 1. Базовая информация\n",
    "Матрицы в общем случае это опрераторы, которые переводят элемент из пространства одной размерности в пространство другой размерности, например матрица $A (m\\times n)$ переводит элемент $x(n, 1)$ в элемент $y(m, 1)$: $A(m, n) \\times x(n, 1) = y(m, 1)$.\n",
    "\n",
    "Для создания матриц в `python` сужествуют несколько вариантов:\n",
    "1. Нулевая матрица: `np.zeros((3, 4))`\n",
    "2. Единичная матрица: `np.ones((3, 4))`\n",
    "3. Квадратная диагональная единичная матрица: `np.eye(3, dtype=float)`\n",
    "4. Матрица с произвольными значениями: `np.array([[1, 2, 3], [4, 5, 6]])`"
   ]
  },
  {
   "cell_type": "code",
   "execution_count": 7,
   "metadata": {},
   "outputs": [
    {
     "data": {
      "text/plain": [
       "array([[1, 2, 3],\n",
       "       [4, 5, 6]])"
      ]
     },
     "execution_count": 7,
     "metadata": {},
     "output_type": "execute_result"
    }
   ],
   "source": [
    "# как дополнительный пример создания матрицы\n",
    "np.arange(1, 7, 1).reshape((2, 3))"
   ]
  },
  {
   "cell_type": "markdown",
   "metadata": {},
   "source": [
    "## 2. Основные типы матриц\n",
    "\n",
    "**Диагональная матрица**: это матрица, у которой все элементы кроме тех что на диагонали равны 0.\n",
    "\n",
    "Диагональная матрица задает соответственно растяжение-сжатие фигуры до преобразования вдоль соответствующих осей на значение элемента на диагонали."
   ]
  },
  {
   "cell_type": "markdown",
   "metadata": {},
   "source": [
    "<img src='img/matrix_ortogonal.png'/>"
   ]
  },
  {
   "cell_type": "markdown",
   "metadata": {},
   "source": [
    "**Ортогональная матрица**: это матрица, для которой выполено условие: $AA^{T}=A^{T}A=I$.\n",
    "\n",
    "Из определения сразу вытекает ряд свойств:\n",
    "1. Ортогональная матрица обратима, причем $A^{-1}=A$\n",
    "2. Орторональная матрица сохраняет скалярное произведение:\n",
    "$$\n",
    "    (Ax, Ay) = (Ax)^{T} (Ay)=x^{T}A^{T}Ay=x^{T}y=(x,y)\n",
    "$$\n",
    "3. Ортогональная матрица сохраняет длины векторов, так как сохраняется и скалярное произведение.\n",
    "\n",
    "Ортогональная матрица задает соответственно вращение фигуры."
   ]
  },
  {
   "cell_type": "markdown",
   "metadata": {},
   "source": [
    "<img src='img/matrix_diagonal.png'/>"
   ]
  },
  {
   "cell_type": "markdown",
   "metadata": {},
   "source": [
    "**Симметричная матрица**: матрица в  которой все элементы симметричны относительно главной диагонали.\n",
    "\n",
    "**Теорема**: Любую симметричную матрицу $A$ можно представить в виде $A=Q\\times D \\times Q^{T}$, где $Q$ - ортогональная матрица, а $D$ - диагональная матрица.\n",
    "\n",
    "Поэтому, симметричная матрица задает растяжение (как диагональная матрица) и поворот (как ортогональная матрица)."
   ]
  },
  {
   "cell_type": "markdown",
   "metadata": {},
   "source": [
    "<img src='img/matrix_symmetrical.png'/>"
   ]
  },
  {
   "cell_type": "markdown",
   "metadata": {},
   "source": [
    "## 3. Определитель матрицы и ранг\n",
    "\n",
    "Очень выжным понятием для матрицы является определеитель\n",
    "\n",
    "**Опр**: Определитель матрицы это выражение, которое для квадратной матрицы $A(2, 2)$ принимает вид (ограничимся только таким определением) (вычисляется с использованием `numpy.linalg.det`):\n",
    "\n",
    "$$\n",
    "    det A = a_{11}a_{22} - a_{12}a_{21}\n",
    "$$\n",
    "\n",
    "**Смысл определителя**: показывает объем $N$-метроно паралепипида, заданного матрицей $A$, те. $S = |det A|$.\n",
    "\n",
    "Таким образом, определитель матрицы $A$ показывает как *количественно изменится площадь фигуры после преобразования этой фигуры при помощи выбранной матрицы $A$*.\n",
    "\n",
    "Например, при преобразовании единичного квадрата, построенного на векторах `x=[0, 1].T` и `y=[1, 0].T` с помощью матрицы `A = [[1, 2], [3, 1]]` получим параллелограмм с площадью $S=5$, что говорит о том, что площадь единичного квадрата увеличилась в 5 раз. \n",
    "Докажем что это верно ниже:"
   ]
  },
  {
   "cell_type": "code",
   "execution_count": 25,
   "metadata": {},
   "outputs": [
    {
     "name": "stdout",
     "output_type": "stream",
     "text": [
      "Площадь после преобразования через школьную формулу: 5.0\n",
      "Площадь после преобразования через школьную формулу: 5.0\n"
     ]
    }
   ],
   "source": [
    "x = np.array([0, 1, 1, 0]).reshape((2, 2))\n",
    "A = np.array([1, 2, 3, 1]).reshape((2, 2))\n",
    "\n",
    "y = A.dot(x)\n",
    "angle =  np.arccos(np.dot(y[0, :], y[1, :]) / norm(y[0, :], ord=2) / norm(y[1, :], ord=2))\n",
    "S_real = norm(y[0, :], ord=2) * norm(y[1, :], ord=2) * np.sin(angle)\n",
    "S_det = np.abs(det(A))\n",
    "\n",
    "print(r'Площадь после преобразования через школьную формулу: {0}'.format(round(S_real, 3)))\n",
    "print(r'Площадь после преобразования через школьную формулу: {0}'.format(round(S_det, 3)))"
   ]
  },
  {
   "cell_type": "markdown",
   "metadata": {},
   "source": [
    "**Некоторые свойства определителя**:\n",
    "1. Определитель матрицы, содержащей линейно зависимые строки равен нулю. (в друхмерном пространстве это два вектора, лежащих на одной прямой - ясно что площадь такого параллелограмма будет равна нулю)."
   ]
  },
  {
   "cell_type": "code",
   "execution_count": 47,
   "metadata": {},
   "outputs": [
    {
     "name": "stdout",
     "output_type": "stream",
     "text": [
      "Определитель матрицы A с двумя линейно зависимыми векторами: 0.0\n"
     ]
    }
   ],
   "source": [
    "A = np.array([[1, 2, 3], [2, 5, 1], [2, 4, 6]]).reshape((3, 3))\n",
    "# print('матрица A:\\n {0}'.format(A))\n",
    "print('Определитель матрицы A с двумя линейно зависимыми векторами: {0}'.format(det(A)))"
   ]
  },
  {
   "cell_type": "markdown",
   "metadata": {},
   "source": [
    "2. Определитель матрицы не меняется при транспонировании, те. `det A = det A.T`"
   ]
  },
  {
   "cell_type": "code",
   "execution_count": 51,
   "metadata": {},
   "outputs": [
    {
     "name": "stdout",
     "output_type": "stream",
     "text": [
      "Определитель матрицы A   : 10.0\n",
      "Определитель матрицы A.T : 10.0\n"
     ]
    }
   ],
   "source": [
    "A = np.array([[1, 2, 3], [2, 5, 1], [1, 4, 3]]).reshape((3, 3))\n",
    "# print('матрица A:\\n {0}'.format(A))\n",
    "print('Определитель матрицы A   : {0}'.format(round(det(A), 3)))\n",
    "print('Определитель матрицы A.T : {0}'.format(round(det(A.T), 3)))"
   ]
  },
  {
   "cell_type": "markdown",
   "metadata": {},
   "source": [
    "3. Если $A$ и $B$ квадратные матрицы одного размера, то $det(A\\times B) = det(a)\\times det(B)$."
   ]
  },
  {
   "cell_type": "code",
   "execution_count": 50,
   "metadata": {},
   "outputs": [
    {
     "name": "stdout",
     "output_type": "stream",
     "text": [
      "det(AB)       = -150.0\n",
      "det(A)*det(B) = -150.0\n"
     ]
    }
   ],
   "source": [
    "A = np.array([[1, 2, 3], [2, 5, 1], [1, 4, 3]]).reshape((3, 3))\n",
    "B = np.array([[1, 5, 3], [2, 1, 1], [1, 2, 3]]).reshape((3, 3))\n",
    "\n",
    "print('det(AB)       = {0}'.format(round(det(A.dot(B)), 3)))\n",
    "print('det(A)*det(B) = {0}'.format(round(det(A)*det(B), 3)))"
   ]
  },
  {
   "cell_type": "markdown",
   "metadata": {},
   "source": [
    "## 4. Собственный вектора и значения\n",
    "\n",
    "\n"
   ]
  },
  {
   "cell_type": "code",
   "execution_count": 80,
   "metadata": {},
   "outputs": [
    {
     "data": {
      "image/png": "[encoded data removed]",
      "text/plain": [
       "<Figure size 360x360 with 1 Axes>"
      ]
     },
     "metadata": {
      "needs_background": "light"
     },
     "output_type": "display_data"
    },
    {
     "data": {
      "text/plain": [
       "array([-0.89442719, -0.4472136 ])"
      ]
     },
     "execution_count": 80,
     "metadata": {},
     "output_type": "execute_result"
    }
   ],
   "source": [
    "A = np.array([-4, 6, -3, 5]).reshape((2, 2))\n",
    "l, v = eig(A)\n",
    "\n",
    "fig, ax = plt.subplots(figsize=(5, 5))\n",
    "\n",
    "ax.arrow(0, 0, *v[:, 0], head_width=0.05, head_length=0.1, color='r')\n",
    "new = A.dot(v[:, 0])\n",
    "ax.arrow(0, 0, *new, head_width=0.05, head_length=0.1)\n",
    "\n",
    "ax.set_xlim(-2, 2)\n",
    "ax.set_ylim(-2, 2)\n",
    "ax.grid(True)\n",
    "plt.show()\n",
    "\n",
    "v[:, 0]"
   ]
  },
  {
   "cell_type": "markdown",
   "metadata": {},
   "source": [
    "## Системы линейных уравнений\n",
    "\n"
   ]
  },
  {
   "cell_type": "code",
   "execution_count": null,
   "metadata": {},
   "outputs": [],
   "source": []
  }
 ],
 "metadata": {
  "kernelspec": {
   "display_name": "Python 3",
   "language": "python",
   "name": "python3"
  },
  "language_info": {
   "codemirror_mode": {
    "name": "ipython",
    "version": 3
   },
   "file_extension": ".py",
   "mimetype": "text/x-python",
   "name": "python",
   "nbconvert_exporter": "python",
   "pygments_lexer": "ipython3",
   "version": "3.7.4"
  }
 },
 "nbformat": 4,
 "nbformat_minor": 2
}
