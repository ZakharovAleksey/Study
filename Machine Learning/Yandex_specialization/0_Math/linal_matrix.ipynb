{
 "cells": [
  {
   "cell_type": "code",
   "execution_count": 43,
   "metadata": {},
   "outputs": [],
   "source": [
    "import numpy as np\n",
    "import scipy as sp\n",
    "import matplotlib.pyplot as plt\n",
    "from numpy.linalg import norm, det, eig, solve, matrix_rank"
   ]
  },
  {
   "cell_type": "markdown",
   "metadata": {},
   "source": [
    "# Матрицы\n",
    "\n",
    "## 1. Базовая информация\n",
    "Матрицы в общем случае это опрераторы, которые переводят элемент из пространства одной размерности в пространство другой размерности, например матрица $A (m\\times n)$ переводит элемент $x(n, 1)$ в элемент $y(m, 1)$: $A(m, n) \\times x(n, 1) = y(m, 1)$.\n",
    "\n",
    "Для создания матриц в `python` сужествуют несколько вариантов:\n",
    "1. Нулевая матрица: `np.zeros((3, 4))`\n",
    "2. Единичная матрица: `np.ones((3, 4))`\n",
    "3. Квадратная диагональная единичная матрица: `np.eye(3, dtype=float)`\n",
    "4. Матрица с произвольными значениями: `np.array([[1, 2, 3], [4, 5, 6]])`"
   ]
  },
  {
   "cell_type": "code",
   "execution_count": 2,
   "metadata": {},
   "outputs": [
    {
     "data": {
      "text/plain": [
       "array([[1, 2, 3],\n",
       "       [4, 5, 6]])"
      ]
     },
     "execution_count": 2,
     "metadata": {},
     "output_type": "execute_result"
    }
   ],
   "source": [
    "# как дополнительный пример создания матрицы\n",
    "np.arange(1, 7, 1).reshape((2, 3))"
   ]
  },
  {
   "cell_type": "markdown",
   "metadata": {},
   "source": [
    "## 2. Основные типы матриц\n",
    "\n",
    "**Диагональная матрица**: это матрица, у которой все элементы кроме тех что на диагонали равны 0.\n",
    "\n",
    "Диагональная матрица задает соответственно растяжение-сжатие фигуры до преобразования вдоль соответствующих осей на значение элемента на диагонали."
   ]
  },
  {
   "cell_type": "markdown",
   "metadata": {},
   "source": [
    "<img src='img/matrix_ortogonal.png'/>"
   ]
  },
  {
   "cell_type": "markdown",
   "metadata": {},
   "source": [
    "**Ортогональная матрица**: это матрица, для которой выполено условие: $AA^{T}=A^{T}A=I$.\n",
    "\n",
    "Из определения сразу вытекает ряд свойств:\n",
    "1. Ортогональная матрица обратима, причем $A^{-1}=A$\n",
    "2. Орторональная матрица сохраняет скалярное произведение:\n",
    "$$\n",
    "    (Ax, Ay) = (Ax)^{T} (Ay)=x^{T}A^{T}Ay=x^{T}y=(x,y)\n",
    "$$\n",
    "3. Ортогональная матрица сохраняет длины векторов, так как сохраняется и скалярное произведение.\n",
    "\n",
    "Ортогональная матрица задает соответственно вращение фигуры."
   ]
  },
  {
   "cell_type": "markdown",
   "metadata": {},
   "source": [
    "<img src='img/matrix_diagonal.png'/>"
   ]
  },
  {
   "cell_type": "markdown",
   "metadata": {},
   "source": [
    "**Симметричная матрица**: матрица в  которой все элементы симметричны относительно главной диагонали.\n",
    "\n",
    "**Теорема**: Любую симметричную матрицу $A$ можно представить в виде $A=Q\\times D \\times Q^{T}$, где $Q$ - ортогональная матрица, а $D$ - диагональная матрица.\n",
    "\n",
    "Поэтому, симметричная матрица задает растяжение (как диагональная матрица) и поворот (как ортогональная матрица)."
   ]
  },
  {
   "cell_type": "markdown",
   "metadata": {},
   "source": [
    "<img src='img/matrix_symmetrical.png'/>"
   ]
  },
  {
   "cell_type": "markdown",
   "metadata": {},
   "source": [
    "## 3. Определитель матрицы и ранг\n",
    "\n",
    "Очень выжным понятием для матрицы является определеитель\n",
    "\n",
    "**Опр**: Определитель матрицы это выражение, которое для квадратной матрицы $A(2, 2)$ принимает вид (ограничимся только таким определением) (вычисляется с использованием `numpy.linalg.det`):\n",
    "\n",
    "$$\n",
    "    det A = a_{11}a_{22} - a_{12}a_{21}\n",
    "$$\n",
    "\n",
    "**Смысл определителя**: показывает объем $N$-метроно паралепипида, заданного матрицей $A$, те. $S = |det A|$.\n",
    "\n",
    "Таким образом, определитель матрицы $A$ показывает как *количественно изменится площадь фигуры после преобразования этой фигуры при помощи выбранной матрицы $A$*.\n",
    "\n",
    "Например, при преобразовании единичного квадрата, построенного на векторах `x=[0, 1].T` и `y=[1, 0].T` с помощью матрицы `A = [[1, 2], [3, 1]]` получим параллелограмм с площадью $S=5$, что говорит о том, что площадь единичного квадрата увеличилась в 5 раз. \n",
    "Докажем что это верно ниже:"
   ]
  },
  {
   "cell_type": "code",
   "execution_count": 3,
   "metadata": {},
   "outputs": [
    {
     "name": "stdout",
     "output_type": "stream",
     "text": [
      "Площадь после преобразования через школьную формулу: 5.0\n",
      "Площадь после преобразования через школьную формулу: 5.0\n"
     ]
    }
   ],
   "source": [
    "x = np.array([0, 1, 1, 0]).reshape((2, 2))\n",
    "A = np.array([1, 2, 3, 1]).reshape((2, 2))\n",
    "\n",
    "y = A.dot(x)\n",
    "angle =  np.arccos(np.dot(y[0, :], y[1, :]) / norm(y[0, :], ord=2) / norm(y[1, :], ord=2))\n",
    "S_real = norm(y[0, :], ord=2) * norm(y[1, :], ord=2) * np.sin(angle)\n",
    "S_det = np.abs(det(A))\n",
    "\n",
    "print(r'Площадь после преобразования через школьную формулу: {0}'.format(round(S_real, 3)))\n",
    "print(r'Площадь после преобразования через школьную формулу: {0}'.format(round(S_det, 3)))"
   ]
  },
  {
   "cell_type": "markdown",
   "metadata": {},
   "source": [
    "**Некоторые свойства определителя**:\n",
    "1. Определитель матрицы, содержащей линейно зависимые строки равен нулю. (в друхмерном пространстве это два вектора, лежащих на одной прямой - ясно что площадь такого параллелограмма будет равна нулю)."
   ]
  },
  {
   "cell_type": "code",
   "execution_count": 4,
   "metadata": {},
   "outputs": [
    {
     "name": "stdout",
     "output_type": "stream",
     "text": [
      "Определитель матрицы A с двумя линейно зависимыми векторами: 0.0\n"
     ]
    }
   ],
   "source": [
    "A = np.array([[1, 2, 3], [2, 5, 1], [2, 4, 6]]).reshape((3, 3))\n",
    "# print('матрица A:\\n {0}'.format(A))\n",
    "print('Определитель матрицы A с двумя линейно зависимыми векторами: {0}'.format(det(A)))"
   ]
  },
  {
   "cell_type": "markdown",
   "metadata": {},
   "source": [
    "2. Определитель матрицы не меняется при транспонировании, те. `det A = det A.T`"
   ]
  },
  {
   "cell_type": "code",
   "execution_count": 5,
   "metadata": {},
   "outputs": [
    {
     "name": "stdout",
     "output_type": "stream",
     "text": [
      "Определитель матрицы A   : 10.0\n",
      "Определитель матрицы A.T : 10.0\n"
     ]
    }
   ],
   "source": [
    "A = np.array([[1, 2, 3], [2, 5, 1], [1, 4, 3]]).reshape((3, 3))\n",
    "# print('матрица A:\\n {0}'.format(A))\n",
    "print('Определитель матрицы A   : {0}'.format(round(det(A), 3)))\n",
    "print('Определитель матрицы A.T : {0}'.format(round(det(A.T), 3)))"
   ]
  },
  {
   "cell_type": "markdown",
   "metadata": {},
   "source": [
    "3. Если $A$ и $B$ квадратные матрицы одного размера, то $det(A\\times B) = det(a)\\times det(B)$."
   ]
  },
  {
   "cell_type": "code",
   "execution_count": 6,
   "metadata": {},
   "outputs": [
    {
     "name": "stdout",
     "output_type": "stream",
     "text": [
      "det(AB)       = -150.0\n",
      "det(A)*det(B) = -150.0\n"
     ]
    }
   ],
   "source": [
    "A = np.array([[1, 2, 3], [2, 5, 1], [1, 4, 3]]).reshape((3, 3))\n",
    "B = np.array([[1, 5, 3], [2, 1, 1], [1, 2, 3]]).reshape((3, 3))\n",
    "\n",
    "print('det(AB)       = {0}'.format(round(det(A.dot(B)), 3)))\n",
    "print('det(A)*det(B) = {0}'.format(round(det(A)*det(B), 3)))"
   ]
  },
  {
   "cell_type": "markdown",
   "metadata": {},
   "source": [
    "Важным параметром, харрактеризующим количество инфорации в матрице является ее ранг.\n",
    "\n",
    "**Опр.** Рангом матрицы $A$ называется максимально возможное число ЛН строк или стобцов (есть теорема что число ЛН строк равное числу ЛН столбцов).\n",
    "\n",
    "В `python` вычисление ранга матрицы происходит при помощи `numpy.linalg.matrix_rank`.\n"
   ]
  },
  {
   "cell_type": "markdown",
   "metadata": {},
   "source": [
    "## 4. Собственные вектора и значения\n",
    "\n",
    "Важной харрактеристикой матрицы, или же преобразования, задаваемого ее матрицей являются - Собственные Вектора (`СВ`) и Собственные Значения (`СЗ`). Они будут использоваться нами далее в Методе Главных Компонент при отборе значимых признаков (уменьшение размерности данных с минимальной потерей информации).\n",
    "\n",
    "**Опр.** СВ матрица $A$ будем называть, вектора $x$, удовлетворяющие $Ax = \\lambda x$, где $\\lambda$ некоторое действительное число.\n",
    "\n",
    "Из определения видно, что при действии оператора $A$ на СВ $x$ **не происходит изменение направления вектора**, только его растяжение или сжатие.\n",
    "Это и является особенной харрактеристикой СВ. \n",
    "\n",
    "Рассмотрим это на примере (*аналитическое решение в img*):"
   ]
  },
  {
   "cell_type": "code",
   "execution_count": 25,
   "metadata": {},
   "outputs": [
    {
     "name": "stdout",
     "output_type": "stream",
     "text": [
      "СЗ: [-1.  2.]\n",
      "CB:\n",
      " [[-0.89442719 -0.70710678]\n",
      " [-0.4472136  -0.70710678]]\n"
     ]
    }
   ],
   "source": [
    "A = np.array([-4, 6, -3, 5]).reshape((2, 2))\n",
    "eig_vals, eig_vec = eig(A)\n",
    "\n",
    "print('СЗ: {0}'.format(eig_vals))\n",
    "print('CB:\\n {0}'.format(eig_vec))"
   ]
  },
  {
   "cell_type": "markdown",
   "metadata": {},
   "source": [
    "Построим для данной матрицы:\n",
    "1. `СВ` и применим к нему преобразование $A$\n",
    "2. `не СВ` и применим к нему преобразование $A$\n",
    "\n",
    "Изучим их взаимное положение на рисунке ниже:"
   ]
  },
  {
   "cell_type": "code",
   "execution_count": 30,
   "metadata": {},
   "outputs": [
    {
     "data": {
      "image/png": "[encoded data removed]",
      "text/plain": [
       "<Figure size 360x360 with 1 Axes>"
      ]
     },
     "metadata": {
      "needs_background": "light"
     },
     "output_type": "display_data"
    }
   ],
   "source": [
    "%run ./plot.py eigen"
   ]
  },
  {
   "cell_type": "markdown",
   "metadata": {},
   "source": [
    "Как видно из рисунка, `СВ` не поменял направление, в то время как `не СВ` координального его изменил.\n",
    "\n",
    "Не у каждой матрицы существую собственные вектора, например у ортогональной матрицы поворота (что логично, так как она задает число вращение). *Замечание: есть только для углов $0, \\pi$*\n",
    "\n",
    "В примере ниже для угла $\\pi/3$ мы видем что собственные значения комплексные - значит решить задачу не удалось."
   ]
  },
  {
   "cell_type": "code",
   "execution_count": 37,
   "metadata": {},
   "outputs": [
    {
     "name": "stdout",
     "output_type": "stream",
     "text": [
      "СЗ: [0.5+0.8660254j 0.5-0.8660254j]\n"
     ]
    }
   ],
   "source": [
    "alpha = np.pi/3.\n",
    "\n",
    "A = np.array([\n",
    "    [np.cos(alpha), -np.sin(alpha)],\n",
    "    [np.sin(alpha), np.cos(alpha)]\n",
    "])\n",
    "\n",
    "eig_val, eig_vec = eig(A)\n",
    "\n",
    "print('СЗ: {0}'.format(eig_val))"
   ]
  },
  {
   "cell_type": "markdown",
   "metadata": {},
   "source": [
    "## Системы линейных уравнений\n",
    "\n"
   ]
  },
  {
   "cell_type": "markdown",
   "metadata": {},
   "source": [
    "Системы линейных уравнений записываются в общем виде как: $Ax=b$, где $x, b$ - векторы, $A$ - некоторая матрица.\n",
    "\n",
    "Система линейных уравнений может иметь:\n",
    "1. Одно решение\n",
    "2. Бесконечно много решений\n",
    "3. Не иметь решений - такая система называется несовместной\n",
    "\n",
    "**Теорема Кронкера-Каппели**: Система линейных уравнений $Ax=b$ совместна, если ранг оснонвной матрицы $A$ равен рангу расширенной матрицы $(A|b)$. Причем система имеет единственное решение если ранг матрицы равен числу неизвестных и имеет бесконечно много решений, если ранг меньше числа неизвестных.\n",
    "\n",
    "Системы линейных уравений решаются в `python` при помощи `numpy.linalg.solve`.\n",
    "\n",
    "Пример системы, которая не имеет решений:"
   ]
  },
  {
   "cell_type": "code",
   "execution_count": 45,
   "metadata": {},
   "outputs": [
    {
     "name": "stdout",
     "output_type": "stream",
     "text": [
      "rank A = 1\n",
      "rank (A|b) = 2\n",
      "Error: Singular matrix\n"
     ]
    }
   ],
   "source": [
    "A = np.ones((2, 2))\n",
    "b = np.array([1, -1])\n",
    "# Create extended matrix \n",
    "A_b = np.zeros((2, 3))\n",
    "A_b[:, :-1] = A\n",
    "A_b[:, -1] = b\n",
    "\n",
    "try:\n",
    "    x = solve(A, b)\n",
    "except Exception as e:\n",
    "    print('rank A = {0}'.format(matrix_rank(A)))\n",
    "    print('rank (A|b) = {0}'.format(matrix_rank(A_b)))\n",
    "    print('Error: {0}'.format(str(e)))"
   ]
  },
  {
   "cell_type": "markdown",
   "metadata": {},
   "source": [
    "Пример системы, которая имеет одно решение:"
   ]
  },
  {
   "cell_type": "code",
   "execution_count": 46,
   "metadata": {},
   "outputs": [
    {
     "name": "stdout",
     "output_type": "stream",
     "text": [
      "rank A = 2\n",
      "rank (A|b) = 2\n",
      "x = [1. 2.]\n"
     ]
    }
   ],
   "source": [
    "A = np.array([1, 2, 1, 1]).reshape((2, 2))\n",
    "b = np.array([5, 3])\n",
    "# Create extended matrix \n",
    "A_b = np.zeros((2, 3))\n",
    "A_b[:, :-1] = A\n",
    "A_b[:, -1] = b\n",
    "\n",
    "try:\n",
    "    x = solve(A, b)\n",
    "    print('rank A = {0}'.format(matrix_rank(A)))\n",
    "    print('rank (A|b) = {0}'.format(matrix_rank(A_b)))\n",
    "    print('x = {0}'.format(x))\n",
    "except Exception as e:\n",
    "    print('Error: {0}'.format(str(e)))"
   ]
  },
  {
   "cell_type": "markdown",
   "metadata": {},
   "source": [
    "Пример системы, которая имеет бесконечно много решений:"
   ]
  },
  {
   "cell_type": "code",
   "execution_count": 52,
   "metadata": {},
   "outputs": [
    {
     "name": "stdout",
     "output_type": "stream",
     "text": [
      "rank A = 1\n",
      "rank (A|b) = 1\n",
      "Error: Singular matrix\n"
     ]
    }
   ],
   "source": [
    "A = np.array([1, 1, 2, 2]).reshape((2, 2))\n",
    "b = np.array([2, 4])\n",
    "# Create extended matrix \n",
    "A_b = np.zeros((2, 3))\n",
    "A_b[:, :-1] = A\n",
    "A_b[:, -1] = b\n",
    "\n",
    "try:\n",
    "    x = solve(A, b)\n",
    "except Exception as e:\n",
    "    print('rank A = {0}'.format(matrix_rank(A)))\n",
    "    print('rank (A|b) = {0}'.format(matrix_rank(A_b)))\n",
    "    print('Error: {0}'.format(str(e)))"
   ]
  }
 ],
 "metadata": {
  "kernelspec": {
   "display_name": "Python 3",
   "language": "python",
   "name": "python3"
  },
  "language_info": {
   "codemirror_mode": {
    "name": "ipython",
    "version": 3
   },
   "file_extension": ".py",
   "mimetype": "text/x-python",
   "name": "python",
   "nbconvert_exporter": "python",
   "pygments_lexer": "ipython3",
   "version": "3.7.4"
  }
 },
 "nbformat": 4,
 "nbformat_minor": 2
}
