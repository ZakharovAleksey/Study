{
 "cells": [
  {
   "cell_type": "code",
   "execution_count": 138,
   "metadata": {},
   "outputs": [],
   "source": [
    "import numpy as np\n",
    "import scipy as sp\n",
    "import matplotlib.pyplot as plt\n",
    "from numpy.linalg import norm, det, eig, solve, matrix_rank"
   ]
  },
  {
   "cell_type": "markdown",
   "metadata": {},
   "source": [
    "# Матрицы\n",
    "\n",
    "## 1. Базовая информация\n",
    "Матрицы в общем случае это опрераторы, которые переводят элемент из пространства одной размерности в пространство другой размерности, например матрица $A (m\\times n)$ переводит элемент $x(n, 1)$ в элемент $y(m, 1)$: $A(m, n) \\times x(n, 1) = y(m, 1)$.\n",
    "\n",
    "Для создания матриц в `python` сужествуют несколько вариантов:\n",
    "1. Нулевая матрица: `np.zeros((3, 4))`\n",
    "2. Единичная матрица: `np.ones((3, 4))`\n",
    "3. Квадратная диагональная единичная матрица: `np.eye(3, dtype=float)`\n",
    "4. Матрица с произвольными значениями: `np.array([[1, 2, 3], [4, 5, 6]])`"
   ]
  },
  {
   "cell_type": "code",
   "execution_count": 139,
   "metadata": {},
   "outputs": [
    {
     "data": {
      "text/plain": [
       "array([[1, 2, 3],\n",
       "       [4, 5, 6]])"
      ]
     },
     "execution_count": 139,
     "metadata": {},
     "output_type": "execute_result"
    }
   ],
   "source": [
    "# как дополнительный пример создания матрицы\n",
    "np.arange(1, 7, 1).reshape((2, 3))"
   ]
  },
  {
   "cell_type": "markdown",
   "metadata": {},
   "source": [
    "## 2. Основные типы матриц\n",
    "\n",
    "**Диагональная матрица**: это матрица, у которой все элементы кроме тех что на диагонали равны 0.\n",
    "\n",
    "Диагональная матрица задает соответственно растяжение-сжатие фигуры до преобразования вдоль соответствующих осей на значение элемента на диагонали."
   ]
  },
  {
   "cell_type": "markdown",
   "metadata": {},
   "source": [
    "<img src='img/matrix_ortogonal.png'/>"
   ]
  },
  {
   "cell_type": "markdown",
   "metadata": {},
   "source": [
    "**Ортогональная матрица**: это матрица, для которой выполено условие: $AA^{T}=A^{T}A=I$.\n",
    "\n",
    "Из определения сразу вытекает ряд свойств:\n",
    "1. Ортогональная матрица обратима, причем $A^{-1}=A$\n",
    "2. Орторональная матрица сохраняет скалярное произведение:\n",
    "$$\n",
    "    (Ax, Ay) = (Ax)^{T} (Ay)=x^{T}A^{T}Ay=x^{T}y=(x,y)\n",
    "$$\n",
    "3. Ортогональная матрица сохраняет длины векторов, так как сохраняется и скалярное произведение.\n",
    "\n",
    "Ортогональная матрица задает соответственно вращение фигуры."
   ]
  },
  {
   "cell_type": "markdown",
   "metadata": {},
   "source": [
    "<img src='img/matrix_diagonal.png'/>"
   ]
  },
  {
   "cell_type": "markdown",
   "metadata": {},
   "source": [
    "**Симметричная матрица**: матрица в  которой все элементы симметричны относительно главной диагонали.\n",
    "\n",
    "**Теорема**: Любую симметричную матрицу $A$ можно представить в виде $A=Q\\times D \\times Q^{T}$, где $Q$ - ортогональная матрица, а $D$ - диагональная матрица.\n",
    "\n",
    "Поэтому, симметричная матрица задает растяжение (как диагональная матрица) и поворот (как ортогональная матрица)."
   ]
  },
  {
   "cell_type": "markdown",
   "metadata": {},
   "source": [
    "<img src='img/matrix_symmetrical.png'/>"
   ]
  },
  {
   "cell_type": "markdown",
   "metadata": {},
   "source": [
    "## 3. Определитель матрицы и ранг\n",
    "\n",
    "Очень выжным понятием для матрицы является определеитель\n",
    "\n",
    "**Опр**: Определитель матрицы это выражение, которое для квадратной матрицы $A(2, 2)$ принимает вид (ограничимся только таким определением) (вычисляется с использованием `numpy.linalg.det`):\n",
    "\n",
    "$$\n",
    "    det A = a_{11}a_{22} - a_{12}a_{21}\n",
    "$$\n",
    "\n",
    "**Смысл определителя**: показывает объем $N$-метроно паралепипида, заданного матрицей $A$, те. $S = |det A|$.\n",
    "\n",
    "Таким образом, определитель матрицы $A$ показывает как *количественно изменится площадь фигуры после преобразования этой фигуры при помощи выбранной матрицы $A$*.\n",
    "\n",
    "Например, при преобразовании единичного квадрата, построенного на векторах `x=[0, 1].T` и `y=[1, 0].T` с помощью матрицы `A = [[1, 2], [3, 1]]` получим параллелограмм с площадью $S=5$, что говорит о том, что площадь единичного квадрата увеличилась в 5 раз. \n",
    "Докажем что это верно ниже:"
   ]
  },
  {
   "cell_type": "code",
   "execution_count": 140,
   "metadata": {},
   "outputs": [
    {
     "name": "stdout",
     "output_type": "stream",
     "text": [
      "Площадь после преобразования через школьную формулу: 5.0\n",
      "Площадь после преобразования через школьную формулу: 5.0\n"
     ]
    }
   ],
   "source": [
    "x = np.array([0, 1, 1, 0]).reshape((2, 2))\n",
    "A = np.array([1, 2, 3, 1]).reshape((2, 2))\n",
    "\n",
    "y = A.dot(x)\n",
    "angle =  np.arccos(np.dot(y[0, :], y[1, :]) / norm(y[0, :], ord=2) / norm(y[1, :], ord=2))\n",
    "S_real = norm(y[0, :], ord=2) * norm(y[1, :], ord=2) * np.sin(angle)\n",
    "S_det = np.abs(det(A))\n",
    "\n",
    "print(r'Площадь после преобразования через школьную формулу: {0}'.format(round(S_real, 3)))\n",
    "print(r'Площадь после преобразования через школьную формулу: {0}'.format(round(S_det, 3)))"
   ]
  },
  {
   "cell_type": "markdown",
   "metadata": {},
   "source": [
    "**Некоторые свойства определителя**:\n",
    "1. Определитель матрицы, содержащей линейно зависимые строки равен нулю. (в друхмерном пространстве это два вектора, лежащих на одной прямой - ясно что площадь такого параллелограмма будет равна нулю)."
   ]
  },
  {
   "cell_type": "code",
   "execution_count": 141,
   "metadata": {},
   "outputs": [
    {
     "name": "stdout",
     "output_type": "stream",
     "text": [
      "Определитель матрицы A с двумя линейно зависимыми векторами: 0.0\n"
     ]
    }
   ],
   "source": [
    "A = np.array([[1, 2, 3], [2, 5, 1], [2, 4, 6]]).reshape((3, 3))\n",
    "# print('матрица A:\\n {0}'.format(A))\n",
    "print('Определитель матрицы A с двумя линейно зависимыми векторами: {0}'.format(det(A)))"
   ]
  },
  {
   "cell_type": "markdown",
   "metadata": {},
   "source": [
    "2. Определитель матрицы не меняется при транспонировании, те. `det A = det A.T`"
   ]
  },
  {
   "cell_type": "code",
   "execution_count": 142,
   "metadata": {},
   "outputs": [
    {
     "name": "stdout",
     "output_type": "stream",
     "text": [
      "Определитель матрицы A   : 10.0\n",
      "Определитель матрицы A.T : 10.0\n"
     ]
    }
   ],
   "source": [
    "A = np.array([[1, 2, 3], [2, 5, 1], [1, 4, 3]]).reshape((3, 3))\n",
    "# print('матрица A:\\n {0}'.format(A))\n",
    "print('Определитель матрицы A   : {0}'.format(round(det(A), 3)))\n",
    "print('Определитель матрицы A.T : {0}'.format(round(det(A.T), 3)))"
   ]
  },
  {
   "cell_type": "markdown",
   "metadata": {},
   "source": [
    "3. Если $A$ и $B$ квадратные матрицы одного размера, то $det(A\\times B) = det(a)\\times det(B)$."
   ]
  },
  {
   "cell_type": "code",
   "execution_count": 143,
   "metadata": {},
   "outputs": [
    {
     "name": "stdout",
     "output_type": "stream",
     "text": [
      "det(AB)       = -150.0\n",
      "det(A)*det(B) = -150.0\n"
     ]
    }
   ],
   "source": [
    "A = np.array([[1, 2, 3], [2, 5, 1], [1, 4, 3]]).reshape((3, 3))\n",
    "B = np.array([[1, 5, 3], [2, 1, 1], [1, 2, 3]]).reshape((3, 3))\n",
    "\n",
    "print('det(AB)       = {0}'.format(round(det(A.dot(B)), 3)))\n",
    "print('det(A)*det(B) = {0}'.format(round(det(A)*det(B), 3)))"
   ]
  },
  {
   "cell_type": "markdown",
   "metadata": {},
   "source": [
    "Важным параметром, харрактеризующим количество инфорации в матрице является ее ранг.\n",
    "\n",
    "**Опр.** Рангом матрицы $A$ называется максимально возможное число ЛН строк или стобцов (есть теорема что число ЛН строк равное числу ЛН столбцов).\n",
    "\n",
    "В `python` вычисление ранга матрицы происходит при помощи `numpy.linalg.matrix_rank`.\n"
   ]
  },
  {
   "cell_type": "markdown",
   "metadata": {},
   "source": [
    "## 4. Собственные вектора и значения\n",
    "\n",
    "Важной харрактеристикой матрицы, или же преобразования, задаваемого ее матрицей являются - Собственные Вектора (`СВ`) и Собственные Значения (`СЗ`). Они будут использоваться нами далее в Методе Главных Компонент при отборе значимых признаков (уменьшение размерности данных с минимальной потерей информации).\n",
    "\n",
    "**Опр.** СВ матрица $A$ будем называть, вектора $x$, удовлетворяющие $Ax = \\lambda x$, где $\\lambda$ некоторое действительное число.\n",
    "\n",
    "Из определения видно, что при действии оператора $A$ на СВ $x$ **не происходит изменение направления вектора**, только его растяжение или сжатие.\n",
    "Это и является особенной харрактеристикой СВ. \n",
    "\n",
    "Рассмотрим это на примере (*аналитическое решение в img*):"
   ]
  },
  {
   "cell_type": "code",
   "execution_count": 144,
   "metadata": {},
   "outputs": [
    {
     "name": "stdout",
     "output_type": "stream",
     "text": [
      "СЗ: [-1.  2.]\n",
      "CB:\n",
      " [[-0.89442719 -0.70710678]\n",
      " [-0.4472136  -0.70710678]]\n"
     ]
    }
   ],
   "source": [
    "A = np.array([-4, 6, -3, 5]).reshape((2, 2))\n",
    "eig_vals, eig_vec = eig(A)\n",
    "\n",
    "print('СЗ: {0}'.format(eig_vals))\n",
    "print('CB:\\n {0}'.format(eig_vec))"
   ]
  },
  {
   "cell_type": "markdown",
   "metadata": {},
   "source": [
    "Построим для данной матрицы:\n",
    "1. `СВ` и применим к нему преобразование $A$\n",
    "2. `не СВ` и применим к нему преобразование $A$\n",
    "\n",
    "Изучим их взаимное положение на рисунке ниже:"
   ]
  },
  {
   "cell_type": "code",
   "execution_count": 145,
   "metadata": {},
   "outputs": [
    {
     "data": {
      "image/png": "[encoded data removed]",
      "text/plain": [
       "<Figure size 360x360 with 1 Axes>"
      ]
     },
     "metadata": {
      "needs_background": "light"
     },
     "output_type": "display_data"
    }
   ],
   "source": [
    "%run ./plot.py eigen"
   ]
  },
  {
   "cell_type": "markdown",
   "metadata": {},
   "source": [
    "Как видно из рисунка, `СВ` не поменял направление, в то время как `не СВ` координального его изменил.\n",
    "\n",
    "Не у каждой матрицы существую собственные вектора, например у ортогональной матрицы поворота (что логично, так как она задает число вращение). *Замечание: есть только для углов $0, \\pi$*\n",
    "\n",
    "В примере ниже для угла $\\pi/3$ мы видем что собственные значения комплексные - значит решить задачу не удалось."
   ]
  },
  {
   "cell_type": "code",
   "execution_count": 146,
   "metadata": {},
   "outputs": [
    {
     "name": "stdout",
     "output_type": "stream",
     "text": [
      "СЗ: [0.5+0.8660254j 0.5-0.8660254j]\n"
     ]
    }
   ],
   "source": [
    "alpha = np.pi/3.\n",
    "\n",
    "A = np.array([\n",
    "    [np.cos(alpha), -np.sin(alpha)],\n",
    "    [np.sin(alpha), np.cos(alpha)]\n",
    "])\n",
    "\n",
    "eig_val, eig_vec = eig(A)\n",
    "\n",
    "print('СЗ: {0}'.format(eig_val))"
   ]
  },
  {
   "cell_type": "markdown",
   "metadata": {},
   "source": [
    "## Системы линейных уравнений\n",
    "\n"
   ]
  },
  {
   "cell_type": "markdown",
   "metadata": {},
   "source": [
    "Системы линейных уравнений записываются в общем виде как: $Ax=b$, где $x, b$ - векторы, $A$ - некоторая матрица.\n",
    "\n",
    "Система линейных уравнений может иметь:\n",
    "1. Одно решение\n",
    "2. Бесконечно много решений\n",
    "3. Не иметь решений - такая система называется несовместной\n",
    "\n",
    "**Теорема Кронкера-Каппели**: Система линейных уравнений $Ax=b$ совместна, если ранг оснонвной матрицы $A$ равен рангу расширенной матрицы $(A|b)$. Причем система имеет единственное решение если ранг матрицы равен числу неизвестных и имеет бесконечно много решений, если ранг меньше числа неизвестных.\n",
    "\n",
    "Системы линейных уравений решаются в `python` при помощи `numpy.linalg.solve`.\n",
    "\n",
    "Пример системы, которая не имеет решений:"
   ]
  },
  {
   "cell_type": "code",
   "execution_count": 147,
   "metadata": {},
   "outputs": [
    {
     "name": "stdout",
     "output_type": "stream",
     "text": [
      "rank A = 1\n",
      "rank (A|b) = 2\n",
      "Error: Singular matrix\n"
     ]
    }
   ],
   "source": [
    "A = np.ones((2, 2))\n",
    "b = np.array([1, -1])\n",
    "# Create extended matrix \n",
    "A_b = np.zeros((2, 3))\n",
    "A_b[:, :-1] = A\n",
    "A_b[:, -1] = b\n",
    "\n",
    "try:\n",
    "    x = solve(A, b)\n",
    "except Exception as e:\n",
    "    print('rank A = {0}'.format(matrix_rank(A)))\n",
    "    print('rank (A|b) = {0}'.format(matrix_rank(A_b)))\n",
    "    print('Error: {0}'.format(str(e)))"
   ]
  },
  {
   "cell_type": "markdown",
   "metadata": {},
   "source": [
    "Пример системы, которая имеет одно решение:"
   ]
  },
  {
   "cell_type": "code",
   "execution_count": 148,
   "metadata": {},
   "outputs": [
    {
     "name": "stdout",
     "output_type": "stream",
     "text": [
      "rank A = 2\n",
      "rank (A|b) = 2\n",
      "x = [1. 2.]\n"
     ]
    }
   ],
   "source": [
    "A = np.array([1, 2, 1, 1]).reshape((2, 2))\n",
    "b = np.array([5, 3])\n",
    "# Create extended matrix \n",
    "A_b = np.zeros((2, 3))\n",
    "A_b[:, :-1] = A\n",
    "A_b[:, -1] = b\n",
    "\n",
    "try:\n",
    "    x = solve(A, b)\n",
    "    print('rank A = {0}'.format(matrix_rank(A)))\n",
    "    print('rank (A|b) = {0}'.format(matrix_rank(A_b)))\n",
    "    print('x = {0}'.format(x))\n",
    "except Exception as e:\n",
    "    print('Error: {0}'.format(str(e)))"
   ]
  },
  {
   "cell_type": "markdown",
   "metadata": {},
   "source": [
    "Пример системы, которая имеет бесконечно много решений:"
   ]
  },
  {
   "cell_type": "code",
   "execution_count": 149,
   "metadata": {},
   "outputs": [
    {
     "name": "stdout",
     "output_type": "stream",
     "text": [
      "rank A = 1\n",
      "rank (A|b) = 1\n",
      "Error: Singular matrix\n"
     ]
    }
   ],
   "source": [
    "A = np.array([1, 1, 2, 2]).reshape((2, 2))\n",
    "b = np.array([2, 4])\n",
    "# Create extended matrix \n",
    "A_b = np.zeros((2, 3))\n",
    "A_b[:, :-1] = A\n",
    "A_b[:, -1] = b\n",
    "\n",
    "try:\n",
    "    x = solve(A, b)\n",
    "except Exception as e:\n",
    "    print('rank A = {0}'.format(matrix_rank(A)))\n",
    "    print('rank (A|b) = {0}'.format(matrix_rank(A_b)))\n",
    "    print('Error: {0}'.format(str(e)))"
   ]
  },
  {
   "cell_type": "markdown",
   "metadata": {},
   "source": [
    "# Разложение матрицы\n",
    "\n",
    "Cуществует несколько способов разложения матрицы, но точно можно утверждать что можно разложить любую матрицу $X$ на две матрицы $U$ и $V$ так, что $X=U V^{T}$.\n",
    "\n",
    "\n",
    "**Спектральное разложение**:\n",
    "как оговаривалось ранее, любую симметричную матрицу можно представить в виде $A=QDQ^{T}$, где $Q$ - ортогональная матрица и $D$ - диагональная матрица, у которой собственные значения $\\lambda_{i} \\; i=0\\dots n$ на диагонали.\n",
    "\n"
   ]
  },
  {
   "cell_type": "markdown",
   "metadata": {},
   "source": [
    "## Сингулярное разложение\n",
    "\n",
    "**Опр** Сингулярное разложение матрицы $A$ - это разложение матрицы в виде $A=UDV^{T}$, где $U, V$ - ортогональные матрицы (которые состоят из СВ матриц AA* и A\\*A соответственно) и $D$ - диагональная матрица с сингулярными СЗ матрицы $A$ на диагонали, которые отранжированы $\\sigma_{1} > \\sigma_{2} \\dots > \\sigma_{n}$\n",
    "\n",
    "\n",
    "Причем: матрица $A$ имеет размер (m,n), матрица $U$ размер (m,m), $V$ размер (n,n) и $D$ - размер (m,n).\n",
    "\n",
    "В `python` для применения сингулярного разложения матрицы исмпользуется функция `numpy.linalg.svd`.\n"
   ]
  },
  {
   "cell_type": "code",
   "execution_count": 150,
   "metadata": {},
   "outputs": [
    {
     "name": "stdout",
     "output_type": "stream",
     "text": [
      "[[3. 1. 4. 2. 5.]\n",
      " [2. 0. 2. 2. 4.]\n",
      " [1. 1. 1. 0. 1.]]\n"
     ]
    }
   ],
   "source": [
    "from numpy.linalg import svd\n",
    "A = np.array([\n",
    "    [3, 1, 4, 2, 5],\n",
    "    [2, 0, 2, 2, 4],\n",
    "    [1, 1, 1, 0, 1]\n",
    "], dtype=float)\n",
    "\n",
    "print(A)\n",
    "\n",
    "U, D, Vt = svd(A)"
   ]
  },
  {
   "cell_type": "markdown",
   "metadata": {},
   "source": [
    "## Приближение матрицы меньшей по рангу\n",
    "\n",
    "Иногда в данных может быть **много шума** что делает матрицу очень сложной (что харрактеризуется ее рангом), но мы знаем о наличии этих шумов, и поэтому хотим упростить матрицу $A$ - то есть заменить ее более простой (матрицей меньшего ранга) матрицей $\\hat{A}$, *близкой* к матрице $A$.\n",
    "\n",
    "P.S. как мы помним сложность матрицы определяется ее рангом, поэтому ранга матрицы приведет к удалению посторонних шумов.\n",
    "\n",
    "**Как определить близость матриц?** - *введем понятие нормы!*\n",
    "\n",
    "**Опр.** Нормой Фробениуса матрицы $A$ называется такое число $||A||_{F}$, которое вычисляется согласно выражению: $||A||_{F}=\\sqrt{\\sum_{i,j}a_{i,j}^{2}}$.\n",
    "\n",
    "\n",
    "Норму можно вычислить с помощью `python` используя `numpy.linalg.norm`."
   ]
  },
  {
   "cell_type": "code",
   "execution_count": 151,
   "metadata": {},
   "outputs": [
    {
     "name": "stdout",
     "output_type": "stream",
     "text": [
      "Норма матрицы А = 9.33\n"
     ]
    }
   ],
   "source": [
    "print('Норма матрицы А = {0}'.format(round(norm(A), 2)))"
   ]
  },
  {
   "cell_type": "markdown",
   "metadata": {},
   "source": [
    "Тогда, задача приближения матрицы $A$ матрицей $\\hat{A}$ меньшего ранга выглядит следующим образом: *найти оценку матрицы $A$ в виде матрицы $\\hat{A}$ ранга $k$ меньшего чем у матрицы $A$ так, что $||A-\\hat{A}||_{F}\\to min$*.\n",
    "\n",
    "**Теорема.** Матрица, полученная сингулярным разложением матрицы $A$, в котором у диагональной матрицы $D$ остались только $k$ первых (максимальных) сингулярных значений является наилучшим приближением матрицы $A$ матрицой меньшего ранга $k$ по норме Фробениуса."
   ]
  },
  {
   "cell_type": "markdown",
   "metadata": {},
   "source": [
    "<img src='img/svd.png'>"
   ]
  },
  {
   "cell_type": "markdown",
   "metadata": {},
   "source": [
    "**Пример**: рассмотрим как можно приблизить матрицу A (ранг 3) матрицей меньшего ранга 2."
   ]
  },
  {
   "cell_type": "code",
   "execution_count": 152,
   "metadata": {},
   "outputs": [
    {
     "name": "stdout",
     "output_type": "stream",
     "text": [
      "Ранг матрицы A = 3\n",
      "Ранг приближенной матрицы A_hat = 2\n",
      "Норма разности: 0.45\n",
      "\n",
      "[[ 3.08320529  1.09895997  3.82322967  1.98424533  5.06745062]\n",
      " [ 1.91931585 -0.09596145  2.17141413  2.0152773   3.93459316]\n",
      " [ 0.88512254  0.86337083  1.24405812  0.02175171  0.90687424]]\n"
     ]
    }
   ],
   "source": [
    "n_comp = 2\n",
    "A_hat = U[:, :n_comp].dot(np.diag(D[:n_comp]).dot(Vt[:n_comp, :]))\n",
    "\n",
    "print('Ранг матрицы A = {0}'.format(matrix_rank(A)))\n",
    "print('Ранг приближенной матрицы A_hat = {0}'.format(matrix_rank(A_hat)))\n",
    "print('Норма разности: {0}\\n'.format(round(norm(A-A_hat), 2)))\n",
    "\n",
    "print(A_hat)"
   ]
  },
  {
   "cell_type": "markdown",
   "metadata": {},
   "source": [
    "P.S. Стоит отметить что понижение ранга **никак не сказывается на размерности матрицы**."
   ]
  },
  {
   "cell_type": "markdown",
   "metadata": {},
   "source": [
    "## Понижение размерности\n",
    "\n",
    "Но обычно говорят вместо приближения матрицей $\\hat{A}$ - приближение матрицей $UV^{T}$, и мы далее будем говорить так же.\n",
    "\n",
    "Учитывая выше сказанное, если матрицу $U$ представить в виде $UD$ (m, k) из сингулярного разложения с $k$ компонентами, то ее можно назвать **матрицей новых признаков**, так как число строк не поменялось (число объектов в выборке) а число признаков уменьшилось с $n$ до $k$ - то есть мы **понизили размерность данных** (это и и спользуется в методе опорных векторов).\n",
    "\n",
    "Понижение размерности в `python` можно выполнить при помощи `sklearn.decomposition.TruncatedSVD`. \n",
    "\n",
    "**Пример**: понижение размерности для датасета `iris`."
   ]
  },
  {
   "cell_type": "code",
   "execution_count": 153,
   "metadata": {},
   "outputs": [
    {
     "name": "stdout",
     "output_type": "stream",
     "text": [
      "Размерность данных = (150, 4)\n"
     ]
    }
   ],
   "source": [
    "import sklearn\n",
    "from sklearn.datasets import load_iris\n",
    "\n",
    "data = load_iris()\n",
    "X = data.data\n",
    "print('Размерность данных = {0}'.format(X.shape))"
   ]
  },
  {
   "cell_type": "markdown",
   "metadata": {},
   "source": [
    "Попытаемся понизить размерность исходных данныз до двух для дальнейшей визуализации.\n",
    "То есть, после понижения у нас вместо четырех признаков будет два.\n",
    "\n",
    "Найдем матрицу пониженной размерности с использованием встроенной функциии `TruncatedSVD`."
   ]
  },
  {
   "cell_type": "code",
   "execution_count": 154,
   "metadata": {},
   "outputs": [
    {
     "name": "stdout",
     "output_type": "stream",
     "text": [
      "[95.95991387 17.76103366]\n",
      "Размерность данных = (150, 2)\n"
     ]
    }
   ],
   "source": [
    "from sklearn.decomposition import TruncatedSVD\n",
    "\n",
    "dim = TruncatedSVD(n_components=2, random_state=2)\n",
    "dim.fit(X)\n",
    "\n",
    "X_hat = dim.transform(X)\n",
    "print(dim.singular_values_)\n",
    "print('Размерность данных = {0}'.format(X_hat.shape))"
   ]
  },
  {
   "cell_type": "markdown",
   "metadata": {},
   "source": [
    "Построим распределение данных в пониженной размерности. \n",
    "Теперь оно легко визуализируется на плоскости."
   ]
  },
  {
   "cell_type": "code",
   "execution_count": 155,
   "metadata": {},
   "outputs": [
    {
     "data": {
      "image/png": "[encoded data removed]",
      "text/plain": [
       "<Figure size 504x504 with 1 Axes>"
      ]
     },
     "metadata": {
      "needs_background": "light"
     },
     "output_type": "display_data"
    }
   ],
   "source": [
    "fig, ax = plt.subplots(figsize=(7, 7))\n",
    "ax.scatter(X_hat[:, 0], X_hat[:, 1], c=data.target, alpha=0.8)\n",
    "ax.set_title('Датасет iris с пониженной размерностью', fontsize=18)\n",
    "ax.set_xlabel('Новая фича X', fontsize=15); ax.set_ylabel('Новая фича Y', fontsize=15)\n",
    "ax.grid(True)\n",
    "plt.show()"
   ]
  },
  {
   "cell_type": "markdown",
   "metadata": {},
   "source": [
    "Но как мы и говорили ранее матрицу $UD$ (m, k) можно так-же считать новой матрицой признаков. \n",
    "Попробуем понизить размерность того-же датасета `iris` но только прямо с использованием сингулярного разложения."
   ]
  },
  {
   "cell_type": "code",
   "execution_count": 156,
   "metadata": {},
   "outputs": [
    {
     "name": "stdout",
     "output_type": "stream",
     "text": [
      "Размерность данных = (150, 2)\n"
     ]
    }
   ],
   "source": [
    "U, D, Vt = svd(X)\n",
    "n_comp = 2\n",
    "X_hat1 = U[:, :n_comp].dot(np.diag(D[:n_comp]))\n",
    "print('Размерность данных = {0}'.format(X_hat1.shape))"
   ]
  },
  {
   "cell_type": "code",
   "execution_count": 157,
   "metadata": {},
   "outputs": [
    {
     "data": {
      "image/png": "[encoded data removed]",
      "text/plain": [
       "<Figure size 504x504 with 1 Axes>"
      ]
     },
     "metadata": {
      "needs_background": "light"
     },
     "output_type": "display_data"
    }
   ],
   "source": [
    "fig, ax = plt.subplots(figsize=(7, 7))\n",
    "# Pay attentions to sign\n",
    "ax.scatter(-X_hat1[:, 0], X_hat1[:, 1], c=data.target, alpha=0.8)\n",
    "ax.set_title('Датасет iris с пониженной размерностью', fontsize=18)\n",
    "ax.set_xlabel('Новая фича X', fontsize=15); ax.set_ylabel('Новая фича Y', fontsize=15)\n",
    "ax.grid(True)\n",
    "plt.show()"
   ]
  },
  {
   "cell_type": "markdown",
   "metadata": {},
   "source": [
    "**Вывод**: функция `TruncatedSVD` в первом приближении выполняет обычное сингулярное разложение (в точности до знака, см. минус при построении `scatter`).\n",
    "\n",
    "P.S. можно было по СЗ понять что для построения классификации по датасету `iris` на самом деле было достаточно 2 размерностей. Первые два много больше остиальных."
   ]
  },
  {
   "cell_type": "code",
   "execution_count": 158,
   "metadata": {},
   "outputs": [
    {
     "name": "stdout",
     "output_type": "stream",
     "text": [
      "CЗ при SVD разложении: [95.96 17.76  3.46  1.88]\n",
      "CЗ оставшиеся после понижения размерности: [95.96 17.76]\n"
     ]
    }
   ],
   "source": [
    "print('CЗ при SVD разложении: {0}'.format(np.round(D, 2)))\n",
    "print('CЗ оставшиеся после понижения размерности: {0}'.format(np.round(dim.singular_values_, 2)))"
   ]
  },
  {
   "cell_type": "markdown",
   "metadata": {},
   "source": [
    "## Рекомендательные системы\n",
    "\n",
    "СМ. [Рекомендательные системы](https://habr.com/ru/company/surfingbird/blog/139863/)\n",
    "\n",
    "Задача рекомендательных систем - спрогнозировать какой продукт понравится пользователю по имеющимсчя данным о предпочтениях пользователя. Например, спрогнозировать какую оценку пользователь поставит фильму.\n",
    "\n",
    "Составим матрицу оценок пользователей $X$ у которой харрактеризуют *пользователя* (оценки одного пользователя), столбцы харрактеризуют предлагаемые *фильмы* (оценки всех пользователей конкретным фидьмам).\n",
    "\n",
    "### Решение 1\n",
    "\n",
    "Можно решать эту задачу так - найти *\"соседей\"* выбранного пользователя (максимально близких к нему, например в рамках косинусного расстояния) а потом спрогнозировать оценку пользователя на каждый фильм, посчитав ее как взвешанную сумму оценок ближайших пользователей, с весами - это *\"удаленность\"* от выбранного пользователя.\n",
    "\n",
    "### Решение 2\n",
    "\n",
    "**Идея**: научить алгоритм мыслить категриями фильмов, которые могут понравиться пользователю, и рекомендовать именно эти категории (а не просто по похожим предпочтениям).\n",
    "\n",
    "Для этого идеально подходит SVD разложение матрицы $X$, в котором выделено в некотором роде $k$-**жанров**, и соответственно матрица $UD$ (m, k) - описывает **какие жанры нравятся пользователю**, а матрица $V^{T}$ описывает из каких жнров этот фильм состоит.\n",
    "\n",
    "P.S. под жанрами я понимаю нечно абстрактное, и не всегда интерпретируемое, например при понижении размерности может возникнуть жанр: \"боевик, в котором много красивых видов и интересный сюжет\". Это будет один из $k$ так называемых жанров.\n",
    "\n",
    "Кроме того, понижение размерности очень хорошо тут применимо, так как матрица $X$ - разряженная матрица, так как редко какой пользователь оценивает все фильмы.\n"
   ]
  }
 ],
 "metadata": {
  "kernelspec": {
   "display_name": "Python 3",
   "language": "python",
   "name": "python3"
  },
  "language_info": {
   "codemirror_mode": {
    "name": "ipython",
    "version": 3
   },
   "file_extension": ".py",
   "mimetype": "text/x-python",
   "name": "python",
   "nbconvert_exporter": "python",
   "pygments_lexer": "ipython3",
   "version": "3.7.4"
  }
 },
 "nbformat": 4,
 "nbformat_minor": 2
}
