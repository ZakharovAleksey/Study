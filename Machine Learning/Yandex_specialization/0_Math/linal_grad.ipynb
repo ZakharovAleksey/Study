{
 "cells": [
  {
   "cell_type": "code",
   "execution_count": 3,
   "metadata": {},
   "outputs": [],
   "source": [
    "import numpy as np\n",
    "import pandas as pd\n",
    "from numpy.linalg import *"
   ]
  },
  {
   "cell_type": "markdown",
   "metadata": {},
   "source": [
    "# Функции многих переменных\n",
    "\n",
    "\n",
    "## Частные производные и градиент\n",
    "\n",
    "Для функций многих переменных (мы ограничимся рассмотрением только двухмерных случаев, так как все аналогично) $f(x, y)$ существует понятие частной производной, то есть это производная по одной из переменных, в то время как все остальные переменные зафиксированны.\n",
    "\n",
    "То есть частные производные для функции $f(x, y)$:\n",
    "1. Частная производная по $x$: $f'_{x}(x, y)=\\lim_{\\Delta x\\to 0}\\frac{f(x + \\Delta x, y) - f(x, y)}{\\Delta x}$\n",
    "2. Частная производная по $x$: $f'_{y}(x, y)=\\lim_{\\Delta y\\to 0}\\frac{f(x, y + \\Delta y) - f(x, y)}{\\Delta x}$\n",
    "\n",
    "Если у функции много параметров, то значит и много частных производных, поэтому хотелось бы работать с одной сущностью, которой и стал **градиент функции**.\n",
    "\n",
    "**Опр.** Градиент функции $f(x_{1}, x_{2}, \\dots x_{n})$ - это вектор составленный из частных производных по всем параметрам функции $\\nabla f = (f'_{x_{1}}, f'_{x_{2}}, \\dots, f'_{x_{n}})^{T}$.\n",
    "\n",
    "**Теорема.** Необходимое условие экстремума функции многих переменных - равенство нулю ее градиента, то есть $\\nabla f = 0$.\n",
    "\n",
    "\n",
    "Кроме того, через частные производные можно записать и приращение функции в некоторой точке: \n",
    "\n",
    "$$\n",
    "    \\Delta f = f'_{x} \\Delta x + f'_{y} \\Delta y = (\\nabla f, (\\Delta x, \\Delta y)^{T})\n",
    "$$"
   ]
  },
  {
   "cell_type": "markdown",
   "metadata": {},
   "source": [
    "<img src='img/grad_geom.png'>"
   ]
  },
  {
   "cell_type": "markdown",
   "metadata": {},
   "source": [
    "Таким образом, линейное приближение функции многих переменных в точке задается плоскостью (аналогично для касательной в одномерном случае).\n",
    "\n",
    "При невозможности вычислить аналитически используется метод градиентного спуска, основная идея которого идти по антиградиенту функции:\n",
    " $$\n",
    "     x_{n+1} = x_{n} -\\gamma \\nabla f(\\vec{x})\n",
    " $$"
   ]
  },
  {
   "cell_type": "markdown",
   "metadata": {},
   "source": [
    "## Производная по направлению\n",
    "\n",
    "**Опр.** Производная функции многих переменных $f(\\vec{x})$ определяется как:\n",
    "$$\n",
    "    f'_{l} = \\lim_{t\\to 0}\\frac{f(\\vec{x}+t\\vec{l}) - f(\\vec{x})}{t},\n",
    "$$\n",
    "где $\\vec{l}$ и $\\vec{x}$ - вектора, а $t$ - число.\n",
    "\n",
    "Легко понять что если взять плоскость сечения функции вдоль заданного направления, то это будет обычная производная - а значит *производная по направлению показывает направление наискорейшего роста функции в данной точке*."
   ]
  },
  {
   "cell_type": "markdown",
   "metadata": {},
   "source": [
    "<img src='img/der_in_direction.png'>"
   ]
  },
  {
   "cell_type": "markdown",
   "metadata": {},
   "source": [
    "## Смысл градиента\n",
    "\n",
    "Давайте распишем прирпщение функции двух переменных $f(x, y)$:\n",
    "\n",
    "$$\n",
    "    \\Delta f(x, y) = f'_{x}\\Delta x + f'_{y} \\Delta y = (\\nabla f(x, y), (\\Delta x, \\Delta y)^{T}).\n",
    "$$\n",
    "\n",
    "\n",
    "но пусть $\\Delta x = t l_{x}$, $\\Delta y = t l_{y}$, тогда\n",
    "\n",
    "$$\n",
    "    \\Delta f(x, y) = t(\\nabla f(x, y), \\vec{l})\n",
    "$$\n",
    "\n",
    "И тогда производня по направлению:\n",
    "\n",
    "$$\n",
    "    \\frac{\\partial f}{\\partial l} = \\lim_{t \\to 0}\\frac{\\Delta f}{t} = (\\nabla f(x, y), \\vec{l})\n",
    "$$\n",
    "\n",
    "Таким образом, так как производная по напрвлению показывает направление наискорпейшего роста функции в заданном направлении, и скалярное произведенеи принимает максимальное значение при сонаправленности векторов, то значит **изменение функции $\\Delta f$ максмально, когда напрвлание наискорейшего роста функции совпадает с вектором градиента, поэтому вектор градиента и показывает направление наискорейшего роста функции**."
   ]
  },
  {
   "cell_type": "markdown",
   "metadata": {},
   "source": [
    "# Методы оптимизации\n",
    "\n",
    "Очень хорошо, когда мы имеем дело с функцией, у которой есть градиент. \n",
    "Но иногда у функции нет градиента, и в таком случае использовать градиентные методы оптимизации становится довольно затруднительно.\n",
    "\n",
    "Ниже мы рассмотрим методы оптимизации, которые могут работать как с функциями у котрых есть градиент, так и с теми, у которых градиент отсутствует.\n",
    "\n",
    "Кроме того, проверим их работу на функции, имеющей градиент:\n",
    "$$\n",
    "    f(x) = \\sin(5x)*e^{x/10}+5e^{-x/2}\n",
    "$$\n",
    "\n",
    "И на функции, очень похожей на предыдущую, но не имеющей градиента (просто целая часть от предыдущей функции):\n",
    "$$\n",
    "    h(x) = int[f(x)]=int(\\sin(5x)*e^{x/10}+5e^{-x/2})\n",
    "$$\n",
    "\n",
    "Графики функций представленын ниже.\n",
    "\n",
    "## Случайный поиск (hill climbing)"
   ]
  },
  {
   "cell_type": "code",
   "execution_count": 49,
   "metadata": {},
   "outputs": [
    {
     "name": "stdout",
     "output_type": "stream",
     "text": [
      "4763\n"
     ]
    },
    {
     "data": {
      "image/png": "[encoded data removed]",
      "text/plain": [
       "<Figure size 504x432 with 2 Axes>"
      ]
     },
     "metadata": {
      "needs_background": "light"
     },
     "output_type": "display_data"
    }
   ],
   "source": [
    "import matplotlib.pyplot as plt\n",
    "y, x = np.meshgrid(np.arange(-5., 5., 0.01), np.arange(-5.,5, 0.01))\n",
    "\n",
    "def f(x, y):\n",
    "    return np.sqrt((x - 3)**2 + (y - 2)**2)\n",
    "z = f(x, y)\n",
    "\n",
    "\n",
    "fig, ax = plt.subplots(figsize=(7, 6))\n",
    "\n",
    "c = ax.pcolormesh(x, y, z, cmap='RdBu')\n",
    "fig.colorbar(c, ax = ax)\n",
    "\n",
    "x_1 = [0.]\n",
    "y_1 = [0.]\n",
    "\n",
    "\n",
    "eps = 0.001\n",
    "start = np.array([x_1[0], y_1[0]])\n",
    "end = np.zeros(2)\n",
    "d = 0.001\n",
    "\n",
    "n = 0\n",
    "while True:\n",
    "    n += 1\n",
    "    direction = np.random.rand(2)\n",
    "    tmp = start + d * direction\n",
    "    step = (f(tmp[0], tmp[1]) - f(start[0], start[1]))/d\n",
    "    end = start + step * direction\n",
    "    x_1.append(end[0])\n",
    "    y_1.append(end[1])\n",
    "    \n",
    "    if np.abs(f(start[0], start[1]) - f(end[0], end[1])) < eps:\n",
    "        break\n",
    "    else:\n",
    "        start = end\n",
    "print(n)\n",
    "        \n",
    "# print(x_1)\n",
    "ax.plot(x_1, y_1, 'ko')\n",
    "\n",
    "plt.show()\n"
   ]
  },
  {
   "cell_type": "markdown",
   "metadata": {},
   "source": [
    "## Метод иммитации отжига"
   ]
  },
  {
   "cell_type": "code",
   "execution_count": null,
   "metadata": {},
   "outputs": [],
   "source": []
  },
  {
   "cell_type": "markdown",
   "metadata": {},
   "source": [
    "## Генетические алгоритмы"
   ]
  },
  {
   "cell_type": "code",
   "execution_count": null,
   "metadata": {},
   "outputs": [],
   "source": []
  }
 ],
 "metadata": {
  "kernelspec": {
   "display_name": "Python 3",
   "language": "python",
   "name": "python3"
  },
  "language_info": {
   "codemirror_mode": {
    "name": "ipython",
    "version": 3
   },
   "file_extension": ".py",
   "mimetype": "text/x-python",
   "name": "python",
   "nbconvert_exporter": "python",
   "pygments_lexer": "ipython3",
   "version": "3.7.4"
  }
 },
 "nbformat": 4,
 "nbformat_minor": 2
}
