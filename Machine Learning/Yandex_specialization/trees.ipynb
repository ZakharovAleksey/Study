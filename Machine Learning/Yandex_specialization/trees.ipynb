{
 "cells": [
  {
   "cell_type": "code",
   "execution_count": 1,
   "metadata": {},
   "outputs": [],
   "source": [
    "import numpy as np\n",
    "import pandas as pd\n",
    "import matplotlib.pyplot as plt\n",
    "import seaborn as sns"
   ]
  },
  {
   "cell_type": "markdown",
   "metadata": {},
   "source": [
    "## Work-flow with decision trees\n",
    "\n",
    "**Step 1.** Load data for classification.\n",
    "\n",
    "In this first example we would use only two features of `iris` dataset to perform further visualization."
   ]
  },
  {
   "cell_type": "code",
   "execution_count": 2,
   "metadata": {},
   "outputs": [],
   "source": [
    "from sklearn.datasets import load_iris\n",
    "data = load_iris()"
   ]
  },
  {
   "cell_type": "code",
   "execution_count": 3,
   "metadata": {},
   "outputs": [
    {
     "data": {
      "text/html": [
       "<div>\n",
       "<style scoped>\n",
       "    .dataframe tbody tr th:only-of-type {\n",
       "        vertical-align: middle;\n",
       "    }\n",
       "\n",
       "    .dataframe tbody tr th {\n",
       "        vertical-align: top;\n",
       "    }\n",
       "\n",
       "    .dataframe thead th {\n",
       "        text-align: right;\n",
       "    }\n",
       "</style>\n",
       "<table border=\"1\" class=\"dataframe\">\n",
       "  <thead>\n",
       "    <tr style=\"text-align: right;\">\n",
       "      <th></th>\n",
       "      <th>sepal length (cm)</th>\n",
       "      <th>sepal width (cm)</th>\n",
       "      <th>target</th>\n",
       "    </tr>\n",
       "  </thead>\n",
       "  <tbody>\n",
       "    <tr>\n",
       "      <td>0</td>\n",
       "      <td>5.1</td>\n",
       "      <td>3.5</td>\n",
       "      <td>0.0</td>\n",
       "    </tr>\n",
       "    <tr>\n",
       "      <td>1</td>\n",
       "      <td>4.9</td>\n",
       "      <td>3.0</td>\n",
       "      <td>0.0</td>\n",
       "    </tr>\n",
       "    <tr>\n",
       "      <td>2</td>\n",
       "      <td>4.7</td>\n",
       "      <td>3.2</td>\n",
       "      <td>0.0</td>\n",
       "    </tr>\n",
       "    <tr>\n",
       "      <td>3</td>\n",
       "      <td>4.6</td>\n",
       "      <td>3.1</td>\n",
       "      <td>0.0</td>\n",
       "    </tr>\n",
       "    <tr>\n",
       "      <td>4</td>\n",
       "      <td>5.0</td>\n",
       "      <td>3.6</td>\n",
       "      <td>0.0</td>\n",
       "    </tr>\n",
       "  </tbody>\n",
       "</table>\n",
       "</div>"
      ],
      "text/plain": [
       "   sepal length (cm)  sepal width (cm)  target\n",
       "0                5.1               3.5     0.0\n",
       "1                4.9               3.0     0.0\n",
       "2                4.7               3.2     0.0\n",
       "3                4.6               3.1     0.0\n",
       "4                5.0               3.6     0.0"
      ]
     },
     "execution_count": 3,
     "metadata": {},
     "output_type": "execute_result"
    }
   ],
   "source": [
    "n_features = 2\n",
    "df = pd.DataFrame(\n",
    "    data = np.hstack((data.data[:, :n_features], data.target[:, np.newaxis])),\n",
    "    columns = np.hstack((data.feature_names[:n_features], ['target']))\n",
    ")\n",
    "df.head()"
   ]
  },
  {
   "cell_type": "markdown",
   "metadata": {},
   "source": [
    "**Step 2.** Check on `np.nan` values.\n",
    "\n",
    "Result: there is no need to fill `np.nan` values."
   ]
  },
  {
   "cell_type": "code",
   "execution_count": 4,
   "metadata": {},
   "outputs": [
    {
     "data": {
      "text/plain": [
       "sepal length (cm)    False\n",
       "sepal width (cm)     False\n",
       "target               False\n",
       "dtype: bool"
      ]
     },
     "execution_count": 4,
     "metadata": {},
     "output_type": "execute_result"
    }
   ],
   "source": [
    "df.isna().any(axis=0)"
   ]
  },
  {
   "cell_type": "markdown",
   "metadata": {},
   "source": [
    "**Step 3.** Check if scaling is necessary"
   ]
  },
  {
   "cell_type": "code",
   "execution_count": 5,
   "metadata": {},
   "outputs": [
    {
     "data": {
      "text/html": [
       "<div>\n",
       "<style scoped>\n",
       "    .dataframe tbody tr th:only-of-type {\n",
       "        vertical-align: middle;\n",
       "    }\n",
       "\n",
       "    .dataframe tbody tr th {\n",
       "        vertical-align: top;\n",
       "    }\n",
       "\n",
       "    .dataframe thead th {\n",
       "        text-align: right;\n",
       "    }\n",
       "</style>\n",
       "<table border=\"1\" class=\"dataframe\">\n",
       "  <thead>\n",
       "    <tr style=\"text-align: right;\">\n",
       "      <th></th>\n",
       "      <th>sepal length (cm)</th>\n",
       "      <th>sepal width (cm)</th>\n",
       "      <th>target</th>\n",
       "    </tr>\n",
       "  </thead>\n",
       "  <tbody>\n",
       "    <tr>\n",
       "      <td>mean</td>\n",
       "      <td>5.843333</td>\n",
       "      <td>3.057333</td>\n",
       "      <td>1.000000</td>\n",
       "    </tr>\n",
       "    <tr>\n",
       "      <td>std</td>\n",
       "      <td>0.828066</td>\n",
       "      <td>0.435866</td>\n",
       "      <td>0.819232</td>\n",
       "    </tr>\n",
       "  </tbody>\n",
       "</table>\n",
       "</div>"
      ],
      "text/plain": [
       "      sepal length (cm)  sepal width (cm)    target\n",
       "mean           5.843333          3.057333  1.000000\n",
       "std            0.828066          0.435866  0.819232"
      ]
     },
     "metadata": {},
     "output_type": "display_data"
    }
   ],
   "source": [
    "display(df.describe().iloc[1:3, :])"
   ]
  },
  {
   "cell_type": "markdown",
   "metadata": {},
   "source": [
    "**Result:** the descriptive statistics of features are in different range - so, we would perform scaling\n",
    "\n",
    "Below we would try `MinMaxScaler` approach."
   ]
  },
  {
   "cell_type": "code",
   "execution_count": 6,
   "metadata": {},
   "outputs": [],
   "source": [
    "from sklearn.preprocessing import MinMaxScaler\n",
    "scaler = MinMaxScaler()\n",
    "min_max_ranges = [(0., 1.), (0.01, 0.099)]"
   ]
  },
  {
   "cell_type": "markdown",
   "metadata": {},
   "source": [
    "**Step 4** Create `DecisionTreeClassifier` classifier\n",
    "\n",
    "Plus we set several tree parameters for further learning. \n",
    "\n",
    "P.S. We would talk about parameters below further, because it is very important notes about `DecisionTreeClassifier`."
   ]
  },
  {
   "cell_type": "code",
   "execution_count": 7,
   "metadata": {},
   "outputs": [],
   "source": [
    "from sklearn.tree import DecisionTreeClassifier as DTC\n",
    "clf = DTC(random_state=1)\n",
    "\n",
    "max_depth_list = np.arange(1, 12, 2)\n",
    "criterion_list = ['gini', 'entropy']\n",
    "max_features_list = ['auto', 'sqrt', 'log2']"
   ]
  },
  {
   "cell_type": "markdown",
   "metadata": {},
   "source": [
    "**Step 5.** Split dataset on train and test."
   ]
  },
  {
   "cell_type": "code",
   "execution_count": 8,
   "metadata": {},
   "outputs": [
    {
     "data": {
      "text/html": [
       "<div>\n",
       "<style scoped>\n",
       "    .dataframe tbody tr th:only-of-type {\n",
       "        vertical-align: middle;\n",
       "    }\n",
       "\n",
       "    .dataframe tbody tr th {\n",
       "        vertical-align: top;\n",
       "    }\n",
       "\n",
       "    .dataframe thead th {\n",
       "        text-align: right;\n",
       "    }\n",
       "</style>\n",
       "<table border=\"1\" class=\"dataframe\">\n",
       "  <thead>\n",
       "    <tr style=\"text-align: right;\">\n",
       "      <th></th>\n",
       "      <th>target</th>\n",
       "    </tr>\n",
       "  </thead>\n",
       "  <tbody>\n",
       "    <tr>\n",
       "      <td>2.0</td>\n",
       "      <td>50</td>\n",
       "    </tr>\n",
       "    <tr>\n",
       "      <td>1.0</td>\n",
       "      <td>50</td>\n",
       "    </tr>\n",
       "    <tr>\n",
       "      <td>0.0</td>\n",
       "      <td>50</td>\n",
       "    </tr>\n",
       "  </tbody>\n",
       "</table>\n",
       "</div>"
      ],
      "text/plain": [
       "     target\n",
       "2.0      50\n",
       "1.0      50\n",
       "0.0      50"
      ]
     },
     "execution_count": 8,
     "metadata": {},
     "output_type": "execute_result"
    }
   ],
   "source": [
    "pd.DataFrame(df.target.value_counts())"
   ]
  },
  {
   "cell_type": "code",
   "execution_count": 9,
   "metadata": {},
   "outputs": [],
   "source": [
    "from sklearn.model_selection import train_test_split\n",
    "X = df.iloc[:, :-1].values\n",
    "y = df.target.values\n",
    "\n",
    "X_train, X_test, y_train, y_test = train_test_split(\n",
    "    X, y, test_size=0.3, shuffle=True, random_state=1, stratify=y\n",
    ")"
   ]
  },
  {
   "cell_type": "markdown",
   "metadata": {},
   "source": [
    "**Step 5.** Create pipeline object\n",
    "\n",
    "Our work-flow would consists from two steps:\n",
    "1. Scaling with `MinMaxScaler` with different parameters\n",
    "2. Learning of `DecisionTreeClassifier` with different parameters"
   ]
  },
  {
   "cell_type": "code",
   "execution_count": 10,
   "metadata": {},
   "outputs": [],
   "source": [
    "from sklearn.pipeline import Pipeline\n",
    "\n",
    "pipeline = Pipeline(\n",
    "    steps = [\n",
    "        ('scale', scaler),\n",
    "        ('algo', clf)\n",
    "    ]\n",
    ")"
   ]
  },
  {
   "cell_type": "markdown",
   "metadata": {},
   "source": [
    "**Step 6.** Create `RandomizedSearchCV`"
   ]
  },
  {
   "cell_type": "code",
   "execution_count": 11,
   "metadata": {},
   "outputs": [
    {
     "data": {
      "text/plain": [
       "dict_keys(['memory', 'steps', 'verbose', 'scale', 'algo', 'scale__copy', 'scale__feature_range', 'algo__class_weight', 'algo__criterion', 'algo__max_depth', 'algo__max_features', 'algo__max_leaf_nodes', 'algo__min_impurity_decrease', 'algo__min_impurity_split', 'algo__min_samples_leaf', 'algo__min_samples_split', 'algo__min_weight_fraction_leaf', 'algo__presort', 'algo__random_state', 'algo__splitter'])"
      ]
     },
     "execution_count": 11,
     "metadata": {},
     "output_type": "execute_result"
    }
   ],
   "source": [
    "pipeline.get_params().keys()"
   ]
  },
  {
   "cell_type": "code",
   "execution_count": 12,
   "metadata": {},
   "outputs": [],
   "source": [
    "from sklearn.model_selection import RandomizedSearchCV\n",
    "\n",
    "parameters_grid = {\n",
    "    'scale__feature_range' : min_max_ranges,\n",
    "    'algo__max_depth' : max_depth_list,\n",
    "    'algo__criterion' : criterion_list,\n",
    "    'algo__max_features' : max_features_list\n",
    "}\n",
    "\n",
    "grid_cv = RandomizedSearchCV(pipeline, parameters_grid,\n",
    "                            scoring = 'f1_micro', random_state=1, cv=10)"
   ]
  },
  {
   "cell_type": "code",
   "execution_count": 13,
   "metadata": {},
   "outputs": [
    {
     "name": "stdout",
     "output_type": "stream",
     "text": [
      "Done\n",
      "Wall time: 356 ms\n"
     ]
    },
    {
     "name": "stderr",
     "output_type": "stream",
     "text": [
      "c:\\program files\\python37\\lib\\site-packages\\sklearn\\model_selection\\_search.py:814: DeprecationWarning: The default of the `iid` parameter will change from True to False in version 0.22 and will be removed in 0.24. This will change numeric results when test-set sizes are unequal.\n",
      "  DeprecationWarning)\n"
     ]
    }
   ],
   "source": [
    "%%time\n",
    "grid_cv.fit(X_train, y_train)\n",
    "print('Done')"
   ]
  },
  {
   "cell_type": "code",
   "execution_count": 14,
   "metadata": {},
   "outputs": [
    {
     "name": "stdout",
     "output_type": "stream",
     "text": [
      "Best score : 0.78\n"
     ]
    },
    {
     "data": {
      "text/plain": [
       "{'scale__feature_range': (0.0, 1.0),\n",
       " 'algo__max_features': 'auto',\n",
       " 'algo__max_depth': 7,\n",
       " 'algo__criterion': 'entropy'}"
      ]
     },
     "execution_count": 14,
     "metadata": {},
     "output_type": "execute_result"
    }
   ],
   "source": [
    "print('Best score : {0:.2f}'.format(grid_cv.best_score_))\n",
    "grid_cv.best_params_"
   ]
  },
  {
   "cell_type": "markdown",
   "metadata": {},
   "source": [
    "**Conclusion**: we obtain that for `load_iris` data (2 features) it is better to use:\n",
    "1. Scaling in range $(0, 1)$\n",
    "2. Max tree depth = 7\n",
    "3. Split tree by edges with *entropy* criterion"
   ]
  },
  {
   "cell_type": "code",
   "execution_count": 15,
   "metadata": {},
   "outputs": [
    {
     "name": "stdout",
     "output_type": "stream",
     "text": [
      "Quality on test dataset: 0.64\n"
     ]
    }
   ],
   "source": [
    "from sklearn.metrics import f1_score\n",
    "y_pred = grid_cv.predict(X_test)\n",
    "print('Quality on test dataset: {0:.2f}'.format(\n",
    "    f1_score(y_test, y_pred, average='micro'))\n",
    ")"
   ]
  },
  {
   "cell_type": "markdown",
   "metadata": {},
   "source": [
    "**Let's visualize the decision boundary for provided solution**"
   ]
  },
  {
   "cell_type": "code",
   "execution_count": 16,
   "metadata": {},
   "outputs": [],
   "source": [
    "def plot_desicion_boundary(clf, X, Y, target, ax, title, x_label, y_label):\n",
    "    n_freq = 100\n",
    "    \n",
    "    x_ = np.linspace(0.9 * np.min(X), 1.1 * np.max(X), n_freq )\n",
    "    y_ = np.linspace(0.9 * np.min(Y), 1.1 * np.max(Y), n_freq )\n",
    "    XY_ = np.array([[i, j] for i in x_ for j in y_])\n",
    "\n",
    "    pred = np.array(clf.predict(XY_)).reshape((n_freq, n_freq))\n",
    "    \n",
    "    ax.contourf(x_, y_, pred.T, cmap = plt.cm.coolwarm, alpha = 0.5)\n",
    "    ax.scatter(X, Y, c = target)\n",
    "    ax.set_xlabel('Feature: {0}'.format(x_label), fontsize=14)\n",
    "    ax.set_ylabel('Feature: {0}'.format(y_label), fontsize=14)\n",
    "    ax.set_title(title, fontsize=14)"
   ]
  },
  {
   "cell_type": "code",
   "execution_count": 17,
   "metadata": {},
   "outputs": [
    {
     "data": {
      "image/png": "[encoded data removed]",
      "text/plain": [
       "<Figure size 432x432 with 1 Axes>"
      ]
     },
     "metadata": {
      "needs_background": "light"
     },
     "output_type": "display_data"
    }
   ],
   "source": [
    "fig, ax = plt.subplots(figsize=(6, 6))\n",
    "\n",
    "plot_desicion_boundary(\n",
    "    grid_cv, X_test[:, 0], X_test[:, 1], y_test, \n",
    "    ax, 'Desicion boundary', df.columns.values[-3], df.columns.values[-2]\n",
    ")\n",
    "\n",
    "plt.show()"
   ]
  },
  {
   "cell_type": "markdown",
   "metadata": {},
   "source": [
    "# Decision trees over-fitting \n",
    "\n",
    "## Introduction\n",
    "Decision trees could easily got over-fitted. \n",
    "\n",
    "**Example**: tree in which each leaf corresponds to one element in training dataset. \n",
    "It would give 100% accuracy on train dataset, but in the same time bad results on test dataset.\n",
    "\n",
    "On the picture below, decision boundary is much more complicated for tree with **big numbers of leafs** - tries perform classification in ares, when there is no need (little red squared in white area)."
   ]
  },
  {
   "cell_type": "code",
   "execution_count": 18,
   "metadata": {
    "code_folding": [
     5
    ]
   },
   "outputs": [
    {
     "name": "stdout",
     "output_type": "stream",
     "text": [
      "Accuracy DTC (max_leaf=5  ): Train: 0.848 Test: 0.711\n",
      "Accuracy DTC (max_leaf=106): Train: 0.933 Test: 0.667\n"
     ]
    },
    {
     "data": {
      "image/png": "[encoded data removed]",
      "text/plain": [
       "<Figure size 720x360 with 2 Axes>"
      ]
     },
     "metadata": {
      "needs_background": "light"
     },
     "output_type": "display_data"
    }
   ],
   "source": [
    "max_leaf_nodes_list = [5, y_train.shape[0] + 1]\n",
    "clfs = [DTC(max_leaf_nodes=i, random_state=1) for i in max_leaf_nodes_list]\n",
    "\n",
    "fig, ax = plt.subplots(1, 2, figsize=(10, 5))\n",
    "\n",
    "for ID, clf in enumerate(clfs):\n",
    "    clf.fit(X_train, y_train)\n",
    "    plot_desicion_boundary(\n",
    "        clf, X_test[:, 0], X_test[:, 1], y_test, ax[ID],\n",
    "        'Decision boundary for max_leaf={0}'.format(max_leaf_nodes_list[ID]),\n",
    "        df.columns.values[-3], df.columns.values[-2])\n",
    "\n",
    "    print(\n",
    "        'Accuracy DTC (max_leaf={0: <3}): Train: {1:.3f} Test: {2:.3f}'.format(\n",
    "            max_leaf_nodes_list[ID],\n",
    "            f1_score(y_train, clf.predict(X_train), average='micro'),\n",
    "            f1_score(y_test, clf.predict(X_test), average='micro')))\n",
    "\n",
    "plt.show()"
   ]
  },
  {
   "cell_type": "markdown",
   "metadata": {},
   "source": [
    "## Decision tree construction\n",
    "\n",
    "[Decision tree](https://scikit-learn.org/stable/modules/tree.html)\n",
    "\n",
    "\n",
    "Key idea - computation of Decision Tree is **greedy** algorithm.\n",
    "\n",
    "Algorithm of creation consists from the following steps (**learn more you could in my_decision_tree.py file**).\n",
    "1. Take randomly chosen single feature $x_{i}$ from $X$\n",
    "2. Calculate threshold which minimizes loss function:\n",
    "$$\n",
    "    loss(x_{l}, x_{r}, H(\\cdot)) = \\frac{x_{l}}{x_{m}} H(x_{l}) + \\frac{x_{r}}{x_{m}} H(x_{r}) \n",
    "$$\n",
    "where: \n",
    "    * $x_{l}$ - number of objects in the *left* sub-tree,\n",
    "    * $x_{r}$ - number of objects in the *right* sub-tree,\n",
    "    * $x_{m}$ - number of objects in current tree node, which is splitting on *left* and *right* sub-trees,\n",
    "    * $H(\\cdot)$  - informative criterion (dispersion for regression, **gini** or **entropy** for classification)\n",
    "3. Split objects in current node on two sub-trees:\n",
    "    * Left sub-tree: objects, where: $x_{i} \\leq threshold$\n",
    "    * Right sub-tree: objects, where: $x_{i} > threshold$"
   ]
  },
  {
   "cell_type": "code",
   "execution_count": 194,
   "metadata": {},
   "outputs": [],
   "source": [
    "from sklearn.datasets import load_iris\n",
    "from sklearn.model_selection import train_test_split\n",
    "from sklearn.tree import DecisionTreeClassifier as DTC\n",
    "from sklearn.metrics import f1_score\n",
    "\n",
    "# ---- Libraries for Graph visualization\n",
    "\n",
    "import sklearn.tree as tree\n",
    "import pydotplus\n",
    "from sklearn.externals.six import StringIO \n",
    "from IPython.display import Image\n",
    "\n",
    "\n",
    "\n",
    "def plot_points(points: list, labels: list, threshold, min_val: float, max_val: float, plot_delta=0.5):\n",
    "    fig, ax = plt.subplots(figsize=(10, 2))\n",
    "    mask_0 = np.array(labels, dtype=bool)\n",
    "    mask_1 = np.logical_not(mask_0)\n",
    "    \n",
    "    ax.scatter(points[mask_0], np.ones(len(points))[mask_0], c='C2', alpha=1., s=150, edgecolors='k')\n",
    "    ax.scatter(points[mask_1], np.ones(len(points))[mask_1], c='C3', alpha=1., s=150, edgecolors='k')\n",
    "    \n",
    "    ax.axvline(threshold, color='k', lw=3, alpha=1.)\n",
    "    ax.axvspan(min_val-plot_delta, threshold, alpha=0.5, color='red')\n",
    "    ax.axvspan(threshold, max_val+plot_delta, alpha=0.5, color='green')\n",
    "    \n",
    "    ax.set_yticks([])\n",
    "    ax.set_ylim((0.99, 1.01))\n",
    "    ax.set_xlim((min_val-plot_delta, max_val+plot_delta))\n",
    "    ax.set_xlabel('Data points', fontsize=15)\n",
    "    plt.show()"
   ]
  },
  {
   "cell_type": "markdown",
   "metadata": {},
   "source": [
    "## Impurity criteria\n",
    "\n",
    "In this section we will talk more about impurity criteria for classification to understand how construction of Decision Tree is going on.\n",
    "\n",
    "### Gini criteria\n",
    "\n",
    "Gini criteria answer the simple question: **what's the probability that we classified this object incorrectly?**\n",
    "\n",
    "It could be described with simple formula:\n",
    "$$\n",
    "    I_{G} = 1 - \\sum_{j=1}^{c}p_{j}^{2},\n",
    "$$\n",
    "where $p_{j}$ - is the proportion of objects, belongs to jth class.\n",
    "\n",
    "**Calculation example**.\n",
    "\n",
    "Let us assume, we have two classes:\n",
    "1. <font color='red'>Red</font> - values less than `5.0`\n",
    "2. <font color='green'>Green</font> - values higher than `5.0`\n",
    "\n",
    "Let's say, we have chosen set of 10 points, threshold value is equal to `2.5` instead of correct `5.0`.\n",
    "\n",
    "In this case, decision boundary (for classification task) would be as described below."
   ]
  },
  {
   "cell_type": "code",
   "execution_count": 200,
   "metadata": {},
   "outputs": [
    {
     "data": {
      "image/png": "[encoded data removed]",
      "text/plain": [
       "<Figure size 720x144 with 1 Axes>"
      ]
     },
     "metadata": {
      "needs_background": "light"
     },
     "output_type": "display_data"
    }
   ],
   "source": [
    "np.random.seed(1)\n",
    "\n",
    "min_val = 0; max_val = 10\n",
    "data_points = np.random.uniform(min_val, max_val, size=10)\n",
    "correct_thresh = 5.\n",
    "labels = [0 if i <= correct_thresh else 1 for i in data_points]\n",
    "\n",
    "plot_points(data_points, labels, 2.5, min_val, max_val)"
   ]
  },
  {
   "cell_type": "markdown",
   "metadata": {},
   "source": [
    "**Gini for left part**\n",
    "\n",
    "- Probability $P\\big(\\color{red}{R} \\;| \\; x\\leq 2.5\\big) = 4 \\;/ \\;4=1$ because all 4 points on the left hand from the threshold are <font color='red'>red</font>\n",
    "- Probability $P\\big(\\color{green}{G} \\; | \\; x\\leq 2.5\\big) = 0$ because there is no <font color='green'>green</font> points on the left hand from the threshold\n",
    "\n",
    "So, gini for left part: \n",
    "$$\n",
    "    G_{left} = \n",
    "    P\\big(\\color{red}{R} \\;| \\; x\\leq 2.5\\big) \\cdot \\big(1 - P\\big(\\color{red}{R} \\;| \\; x\\leq 2.5\\big)\\big) + \n",
    "    P\\big(\\color{green}{G} \\; | \\; x\\leq 2.5\\big) \\cdot \\big(1 - P\\big(\\color{green}{G} \\; | \\; x\\leq 2.5\\big)\\big) = 0\n",
    "$$\n",
    "which means that if $x\\leq 2.5$ we can be sure, that this object is <font color='red'>red</font>.\n",
    "\n",
    "**Gini for right part**\n",
    "\n",
    "- Probability $P\\big(\\color{red}{R} \\;| \\; x > 2.5\\big) = 4 \\;/ \\; 6 = 0.66$ because 4 points from the right hand from the threshold are <font color='red'>red</font> and 2 are <font color='green'>green</font>\n",
    "- Probability $P\\big(\\color{green}{G} \\;| \\; x > 2.5\\big) = 0.33$ because there are only 2 <font color='green'>green</font> points out of 6 on the right hand from the threshold.\n",
    "\n",
    "So, gini for right part: \n",
    "$$\n",
    "    G_{left} = \n",
    "    P\\big(\\color{red}{R} \\;| \\; x > 2.5\\big) \\cdot \\big(1 - P\\big(\\color{red}{R} \\;| \\; x > 2.5\\big)\\big) + \n",
    "    P\\big(\\color{green}{G} \\; | \\; x > 2.5\\big) \\cdot \\big(1 - P\\big(\\color{green}{G} \\; | \\; x > 2.5\\big)\\big) = 0.43\n",
    "$$\n",
    "which means that if $x>2.5$ we can be sure, that this object is <font color='red'>green</font> with 0.22 probability.\n",
    "\n",
    "\n",
    "And information is \n",
    "$$\n",
    "    I_{G} = \n",
    "    \\frac{x_{left}}{x_{total}}*G_{left} + \\frac{x_{right}}{x_{total}}\\cdot G_{right} = \n",
    "    \\frac{4}{10}\\cdot 0 + \\frac{6}{10}\\cdot 0.43 = 0.258\n",
    "$$\n"
   ]
  },
  {
   "cell_type": "code",
   "execution_count": 207,
   "metadata": {},
   "outputs": [
    {
     "data": {
      "image/png": "[encoded data removed]",
      "text/plain": [
       "<Figure size 720x144 with 1 Axes>"
      ]
     },
     "metadata": {
      "needs_background": "light"
     },
     "output_type": "display_data"
    }
   ],
   "source": [
    "np.random.seed(1)\n",
    "\n",
    "min_val = 0; max_val = 10\n",
    "data_points = np.random.uniform(min_val, max_val, size=10)\n",
    "correct_thresh = 5.\n",
    "labels = [0 if i <= correct_thresh else 1 for i in data_points]\n",
    "\n",
    "plot_points(data_points, labels, 3.25, min_val, max_val)"
   ]
  },
  {
   "cell_type": "code",
   "execution_count": 47,
   "metadata": {},
   "outputs": [
    {
     "name": "stdout",
     "output_type": "stream",
     "text": [
      "F1 micro = 0.956\n"
     ]
    }
   ],
   "source": [
    "data = load_iris()\n",
    "X = data.data \n",
    "y = data.target\n",
    "\n",
    "X_train, X_test, y_train, y_test = train_test_split(\n",
    "    X, y, test_size=0.3, shuffle=True, stratify=y, random_state=1\n",
    ")\n",
    "\n",
    "dtc = DTC(max_depth=2, criterion='gini', random_state=1)\n",
    "dtc.fit(X_train, y_train)\n",
    "print('F1 micro = {0:.3f}'.format(f1_score(y_test, dtc.predict(X_test), average='micro')))"
   ]
  },
  {
   "cell_type": "code",
   "execution_count": 48,
   "metadata": {
    "code_folding": []
   },
   "outputs": [
    {
     "data": {
      "image/png": "[encoded data removed]",
      "text/plain": [
       "<IPython.core.display.Image object>"
      ]
     },
     "execution_count": 48,
     "metadata": {},
     "output_type": "execute_result"
    }
   ],
   "source": [
    "dot_data = StringIO()\n",
    "tree.export_graphviz(dtc, out_file=dot_data,\n",
    "                     class_names=data.target_names, \n",
    "                     feature_names=data.feature_names, \n",
    "                     filled=True, rounded=True, label='all'\n",
    ")\n",
    "graph = pydotplus.graph_from_dot_data(dot_data.getvalue()) \n",
    "Image(graph.create_png())"
   ]
  },
  {
   "cell_type": "code",
   "execution_count": 43,
   "metadata": {},
   "outputs": [
    {
     "data": {
      "text/plain": [
       "array([2, 0, 0, 1, 1, 1, 2, 1, 2, 0])"
      ]
     },
     "execution_count": 43,
     "metadata": {},
     "output_type": "execute_result"
    }
   ],
   "source": [
    "dtc.predict(X_test[:10, :])\n"
   ]
  },
  {
   "cell_type": "markdown",
   "metadata": {},
   "source": [
    "P.S.\n",
    "\n",
    "To install `graphviz` on windows please:\n",
    "1. Download `.msi` file [here](https://graphviz.gitlab.io/_pages/Download/Download_windows.html)\n",
    "2. Go to `Control Panel` to add path `C:\\Program Files (x86)\\Graphviz2.38\\bin` to the `PATH` variable."
   ]
  },
  {
   "cell_type": "markdown",
   "metadata": {},
   "source": [
    "## Over-fitting\n",
    "\n",
    "To avoid over-fitting it is necessary to somehow restrict tree's depth.\n",
    "There are several **stop criteria**:\n",
    "1. Stop build the tree when objects in a leaf corresponds to one class.\n",
    "2. Node has exactly K objects `min_samples_leaf`.\n",
    "3. Tree depth is less or equal than `max_depth`.\n",
    "4. Restrict number of features, used for learning `max_features`. Better to use `sqrt` value.\n",
    "5. [Cut random forest](https://freecontent.manning.com/the-randomcutforest-algorithm/) algorithm - we build tree with maximum depth firstly, after that we go from bottom to top, comparing quality of tree with and without this node (check using cross validation).\n",
    "\n",
    "Let us see how does the tree depth influence on prediction accuracy."
   ]
  },
  {
   "cell_type": "code",
   "execution_count": null,
   "metadata": {},
   "outputs": [],
   "source": []
  },
  {
   "cell_type": "code",
   "execution_count": null,
   "metadata": {},
   "outputs": [],
   "source": []
  },
  {
   "cell_type": "code",
   "execution_count": null,
   "metadata": {},
   "outputs": [],
   "source": []
  },
  {
   "cell_type": "code",
   "execution_count": null,
   "metadata": {},
   "outputs": [],
   "source": []
  },
  {
   "cell_type": "code",
   "execution_count": null,
   "metadata": {},
   "outputs": [],
   "source": []
  },
  {
   "cell_type": "code",
   "execution_count": null,
   "metadata": {},
   "outputs": [],
   "source": []
  }
 ],
 "metadata": {
  "kernelspec": {
   "display_name": "Python 3",
   "language": "python",
   "name": "python3"
  },
  "language_info": {
   "codemirror_mode": {
    "name": "ipython",
    "version": 3
   },
   "file_extension": ".py",
   "mimetype": "text/x-python",
   "name": "python",
   "nbconvert_exporter": "python",
   "pygments_lexer": "ipython3",
   "version": "3.7.4"
  },
  "toc": {
   "base_numbering": 1,
   "nav_menu": {},
   "number_sections": true,
   "sideBar": true,
   "skip_h1_title": false,
   "title_cell": "Table of Contents",
   "title_sidebar": "Contents",
   "toc_cell": false,
   "toc_position": {},
   "toc_section_display": true,
   "toc_window_display": true
  }
 },
 "nbformat": 4,
 "nbformat_minor": 2
}
