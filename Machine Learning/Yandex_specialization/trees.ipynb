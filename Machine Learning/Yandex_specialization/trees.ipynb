{
 "cells": [
  {
   "cell_type": "code",
   "execution_count": 1,
   "metadata": {},
   "outputs": [],
   "source": [
    "import numpy as np\n",
    "import pandas as pd\n",
    "import matplotlib.pyplot as plt\n",
    "import seaborn as sns"
   ]
  },
  {
   "cell_type": "markdown",
   "metadata": {},
   "source": [
    "## Work-flow with decision trees\n",
    "\n",
    "**Step 1.** Load data for classification.\n",
    "\n",
    "In this first example we would use only two features of `iris` dataset to perform further visualization."
   ]
  },
  {
   "cell_type": "code",
   "execution_count": 2,
   "metadata": {},
   "outputs": [],
   "source": [
    "from sklearn.datasets import load_iris\n",
    "data = load_iris()"
   ]
  },
  {
   "cell_type": "code",
   "execution_count": 3,
   "metadata": {},
   "outputs": [
    {
     "data": {
      "text/html": [
       "<div>\n",
       "<style scoped>\n",
       "    .dataframe tbody tr th:only-of-type {\n",
       "        vertical-align: middle;\n",
       "    }\n",
       "\n",
       "    .dataframe tbody tr th {\n",
       "        vertical-align: top;\n",
       "    }\n",
       "\n",
       "    .dataframe thead th {\n",
       "        text-align: right;\n",
       "    }\n",
       "</style>\n",
       "<table border=\"1\" class=\"dataframe\">\n",
       "  <thead>\n",
       "    <tr style=\"text-align: right;\">\n",
       "      <th></th>\n",
       "      <th>sepal length (cm)</th>\n",
       "      <th>sepal width (cm)</th>\n",
       "      <th>target</th>\n",
       "    </tr>\n",
       "  </thead>\n",
       "  <tbody>\n",
       "    <tr>\n",
       "      <td>0</td>\n",
       "      <td>5.1</td>\n",
       "      <td>3.5</td>\n",
       "      <td>0.0</td>\n",
       "    </tr>\n",
       "    <tr>\n",
       "      <td>1</td>\n",
       "      <td>4.9</td>\n",
       "      <td>3.0</td>\n",
       "      <td>0.0</td>\n",
       "    </tr>\n",
       "    <tr>\n",
       "      <td>2</td>\n",
       "      <td>4.7</td>\n",
       "      <td>3.2</td>\n",
       "      <td>0.0</td>\n",
       "    </tr>\n",
       "    <tr>\n",
       "      <td>3</td>\n",
       "      <td>4.6</td>\n",
       "      <td>3.1</td>\n",
       "      <td>0.0</td>\n",
       "    </tr>\n",
       "    <tr>\n",
       "      <td>4</td>\n",
       "      <td>5.0</td>\n",
       "      <td>3.6</td>\n",
       "      <td>0.0</td>\n",
       "    </tr>\n",
       "  </tbody>\n",
       "</table>\n",
       "</div>"
      ],
      "text/plain": [
       "   sepal length (cm)  sepal width (cm)  target\n",
       "0                5.1               3.5     0.0\n",
       "1                4.9               3.0     0.0\n",
       "2                4.7               3.2     0.0\n",
       "3                4.6               3.1     0.0\n",
       "4                5.0               3.6     0.0"
      ]
     },
     "execution_count": 3,
     "metadata": {},
     "output_type": "execute_result"
    }
   ],
   "source": [
    "n_features = 2\n",
    "df = pd.DataFrame(\n",
    "    data = np.hstack((data.data[:, :n_features], data.target[:, np.newaxis])),\n",
    "    columns = np.hstack((data.feature_names[:n_features], ['target']))\n",
    ")\n",
    "df.head()"
   ]
  },
  {
   "cell_type": "markdown",
   "metadata": {},
   "source": [
    "**Step 2.** Check on `np.nan` values.\n",
    "\n",
    "Result: there is no need to fill `np.nan` values."
   ]
  },
  {
   "cell_type": "code",
   "execution_count": 4,
   "metadata": {},
   "outputs": [
    {
     "data": {
      "text/plain": [
       "sepal length (cm)    False\n",
       "sepal width (cm)     False\n",
       "target               False\n",
       "dtype: bool"
      ]
     },
     "execution_count": 4,
     "metadata": {},
     "output_type": "execute_result"
    }
   ],
   "source": [
    "df.isna().any(axis=0)"
   ]
  },
  {
   "cell_type": "markdown",
   "metadata": {},
   "source": [
    "**Step 3.** Check if scaling is necessary"
   ]
  },
  {
   "cell_type": "code",
   "execution_count": 5,
   "metadata": {},
   "outputs": [
    {
     "data": {
      "text/html": [
       "<div>\n",
       "<style scoped>\n",
       "    .dataframe tbody tr th:only-of-type {\n",
       "        vertical-align: middle;\n",
       "    }\n",
       "\n",
       "    .dataframe tbody tr th {\n",
       "        vertical-align: top;\n",
       "    }\n",
       "\n",
       "    .dataframe thead th {\n",
       "        text-align: right;\n",
       "    }\n",
       "</style>\n",
       "<table border=\"1\" class=\"dataframe\">\n",
       "  <thead>\n",
       "    <tr style=\"text-align: right;\">\n",
       "      <th></th>\n",
       "      <th>sepal length (cm)</th>\n",
       "      <th>sepal width (cm)</th>\n",
       "      <th>target</th>\n",
       "    </tr>\n",
       "  </thead>\n",
       "  <tbody>\n",
       "    <tr>\n",
       "      <td>mean</td>\n",
       "      <td>5.843333</td>\n",
       "      <td>3.057333</td>\n",
       "      <td>1.000000</td>\n",
       "    </tr>\n",
       "    <tr>\n",
       "      <td>std</td>\n",
       "      <td>0.828066</td>\n",
       "      <td>0.435866</td>\n",
       "      <td>0.819232</td>\n",
       "    </tr>\n",
       "  </tbody>\n",
       "</table>\n",
       "</div>"
      ],
      "text/plain": [
       "      sepal length (cm)  sepal width (cm)    target\n",
       "mean           5.843333          3.057333  1.000000\n",
       "std            0.828066          0.435866  0.819232"
      ]
     },
     "metadata": {},
     "output_type": "display_data"
    }
   ],
   "source": [
    "display(df.describe().iloc[1:3, :])"
   ]
  },
  {
   "cell_type": "markdown",
   "metadata": {},
   "source": [
    "**Result:** the descriptive statistics of features are in different range - so, we would perform scaling\n",
    "\n",
    "Below we would try `MinMaxScaler` approach."
   ]
  },
  {
   "cell_type": "code",
   "execution_count": 6,
   "metadata": {},
   "outputs": [],
   "source": [
    "from sklearn.preprocessing import MinMaxScaler\n",
    "scaler = MinMaxScaler()\n",
    "min_max_ranges = [(0., 1.), (0.01, 0.099)]"
   ]
  },
  {
   "cell_type": "markdown",
   "metadata": {},
   "source": [
    "**Step 4** Create `DecisionTreeClassifier` classifier\n",
    "\n",
    "Plus we set several tree parameters for further learning. \n",
    "\n",
    "P.S. We would talk about parameters below further, because it is very important notes about `DecisionTreeClassifier`."
   ]
  },
  {
   "cell_type": "code",
   "execution_count": 7,
   "metadata": {},
   "outputs": [],
   "source": [
    "from sklearn.tree import DecisionTreeClassifier as DTC\n",
    "clf = DTC(random_state=1)\n",
    "\n",
    "max_depth_list = np.arange(1, 12, 2)\n",
    "criterion_list = ['gini', 'entropy']\n",
    "max_features_list = ['auto', 'sqrt', 'log2']"
   ]
  },
  {
   "cell_type": "markdown",
   "metadata": {},
   "source": [
    "**Step 5.** Split dataset on train and test."
   ]
  },
  {
   "cell_type": "code",
   "execution_count": 8,
   "metadata": {},
   "outputs": [
    {
     "data": {
      "text/html": [
       "<div>\n",
       "<style scoped>\n",
       "    .dataframe tbody tr th:only-of-type {\n",
       "        vertical-align: middle;\n",
       "    }\n",
       "\n",
       "    .dataframe tbody tr th {\n",
       "        vertical-align: top;\n",
       "    }\n",
       "\n",
       "    .dataframe thead th {\n",
       "        text-align: right;\n",
       "    }\n",
       "</style>\n",
       "<table border=\"1\" class=\"dataframe\">\n",
       "  <thead>\n",
       "    <tr style=\"text-align: right;\">\n",
       "      <th></th>\n",
       "      <th>target</th>\n",
       "    </tr>\n",
       "  </thead>\n",
       "  <tbody>\n",
       "    <tr>\n",
       "      <td>2.0</td>\n",
       "      <td>50</td>\n",
       "    </tr>\n",
       "    <tr>\n",
       "      <td>1.0</td>\n",
       "      <td>50</td>\n",
       "    </tr>\n",
       "    <tr>\n",
       "      <td>0.0</td>\n",
       "      <td>50</td>\n",
       "    </tr>\n",
       "  </tbody>\n",
       "</table>\n",
       "</div>"
      ],
      "text/plain": [
       "     target\n",
       "2.0      50\n",
       "1.0      50\n",
       "0.0      50"
      ]
     },
     "execution_count": 8,
     "metadata": {},
     "output_type": "execute_result"
    }
   ],
   "source": [
    "pd.DataFrame(df.target.value_counts())"
   ]
  },
  {
   "cell_type": "code",
   "execution_count": 9,
   "metadata": {},
   "outputs": [],
   "source": [
    "from sklearn.model_selection import train_test_split\n",
    "X = df.iloc[:, :-1].values\n",
    "y = df.target.values\n",
    "\n",
    "X_train, X_test, y_train, y_test = train_test_split(\n",
    "    X, y, test_size=0.3, shuffle=True, random_state=1, stratify=y\n",
    ")"
   ]
  },
  {
   "cell_type": "markdown",
   "metadata": {},
   "source": [
    "**Step 5.** Create pipeline object\n",
    "\n",
    "Our work-flow would consists from two steps:\n",
    "1. Scaling with `MinMaxScaler` with different parameters\n",
    "2. Learning of `DecisionTreeClassifier` with different parameters"
   ]
  },
  {
   "cell_type": "code",
   "execution_count": 10,
   "metadata": {},
   "outputs": [],
   "source": [
    "from sklearn.pipeline import Pipeline\n",
    "\n",
    "pipeline = Pipeline(\n",
    "    steps = [\n",
    "        ('scale', scaler),\n",
    "        ('algo', clf)\n",
    "    ]\n",
    ")"
   ]
  },
  {
   "cell_type": "markdown",
   "metadata": {},
   "source": [
    "**Step 6.** Create `RandomizedSearchCV`"
   ]
  },
  {
   "cell_type": "code",
   "execution_count": 11,
   "metadata": {},
   "outputs": [
    {
     "data": {
      "text/plain": [
       "dict_keys(['memory', 'steps', 'verbose', 'scale', 'algo', 'scale__copy', 'scale__feature_range', 'algo__class_weight', 'algo__criterion', 'algo__max_depth', 'algo__max_features', 'algo__max_leaf_nodes', 'algo__min_impurity_decrease', 'algo__min_impurity_split', 'algo__min_samples_leaf', 'algo__min_samples_split', 'algo__min_weight_fraction_leaf', 'algo__presort', 'algo__random_state', 'algo__splitter'])"
      ]
     },
     "execution_count": 11,
     "metadata": {},
     "output_type": "execute_result"
    }
   ],
   "source": [
    "pipeline.get_params().keys()"
   ]
  },
  {
   "cell_type": "code",
   "execution_count": 12,
   "metadata": {},
   "outputs": [],
   "source": [
    "from sklearn.model_selection import RandomizedSearchCV\n",
    "\n",
    "parameters_grid = {\n",
    "    'scale__feature_range' : min_max_ranges,\n",
    "    'algo__max_depth' : max_depth_list,\n",
    "    'algo__criterion' : criterion_list,\n",
    "    'algo__max_features' : max_features_list\n",
    "}\n",
    "\n",
    "grid_cv = RandomizedSearchCV(pipeline, parameters_grid,\n",
    "                            scoring = 'f1_micro', random_state=1, cv=10)"
   ]
  },
  {
   "cell_type": "code",
   "execution_count": 13,
   "metadata": {},
   "outputs": [
    {
     "name": "stdout",
     "output_type": "stream",
     "text": [
      "Done\n",
      "Wall time: 326 ms\n"
     ]
    },
    {
     "name": "stderr",
     "output_type": "stream",
     "text": [
      "c:\\program files\\python37\\lib\\site-packages\\sklearn\\model_selection\\_search.py:814: DeprecationWarning: The default of the `iid` parameter will change from True to False in version 0.22 and will be removed in 0.24. This will change numeric results when test-set sizes are unequal.\n",
      "  DeprecationWarning)\n"
     ]
    }
   ],
   "source": [
    "%%time\n",
    "grid_cv.fit(X_train, y_train)\n",
    "print('Done')"
   ]
  },
  {
   "cell_type": "code",
   "execution_count": 14,
   "metadata": {},
   "outputs": [
    {
     "name": "stdout",
     "output_type": "stream",
     "text": [
      "Best score : 0.78\n"
     ]
    },
    {
     "data": {
      "text/plain": [
       "{'scale__feature_range': (0.0, 1.0),\n",
       " 'algo__max_features': 'auto',\n",
       " 'algo__max_depth': 7,\n",
       " 'algo__criterion': 'entropy'}"
      ]
     },
     "execution_count": 14,
     "metadata": {},
     "output_type": "execute_result"
    }
   ],
   "source": [
    "print('Best score : {0:.2f}'.format(grid_cv.best_score_))\n",
    "grid_cv.best_params_"
   ]
  },
  {
   "cell_type": "markdown",
   "metadata": {},
   "source": [
    "**Conclusion**: we obtain that for `load_iris` data (2 features) it is better to use:\n",
    "1. Scaling in range $(0, 1)$\n",
    "2. Max tree depth = 7\n",
    "3. Split tree by edges with *entropy* criterion"
   ]
  },
  {
   "cell_type": "code",
   "execution_count": 15,
   "metadata": {},
   "outputs": [
    {
     "name": "stdout",
     "output_type": "stream",
     "text": [
      "Quality on test dataset: 0.64\n"
     ]
    }
   ],
   "source": [
    "from sklearn.metrics import f1_score\n",
    "y_pred = grid_cv.predict(X_test)\n",
    "print('Quality on test dataset: {0:.2f}'.format(\n",
    "    f1_score(y_test, y_pred, average='micro'))\n",
    ")"
   ]
  },
  {
   "cell_type": "markdown",
   "metadata": {},
   "source": [
    "**Let's visualize the decision boundary for provided solution**"
   ]
  },
  {
   "cell_type": "code",
   "execution_count": 16,
   "metadata": {},
   "outputs": [],
   "source": [
    "def plot_desicion_boundary(clf, X, Y, target, ax, title, x_label, y_label):\n",
    "    n_freq = 100\n",
    "    \n",
    "    x_ = np.linspace(0.9 * np.min(X), 1.1 * np.max(X), n_freq )\n",
    "    y_ = np.linspace(0.9 * np.min(Y), 1.1 * np.max(Y), n_freq )\n",
    "    XY_ = np.array([[i, j] for i in x_ for j in y_])\n",
    "\n",
    "    pred = np.array(clf.predict(XY_)).reshape((n_freq, n_freq))\n",
    "    \n",
    "    ax.contourf(x_, y_, pred.T, cmap = plt.cm.coolwarm, alpha = 0.5)\n",
    "    ax.scatter(X, Y, c = target)\n",
    "    ax.set_xlabel('Feature: {0}'.format(x_label), fontsize=14)\n",
    "    ax.set_ylabel('Feature: {0}'.format(y_label), fontsize=14)\n",
    "    ax.set_title(title, fontsize=14)"
   ]
  },
  {
   "cell_type": "code",
   "execution_count": 17,
   "metadata": {},
   "outputs": [
    {
     "data": {
      "image/png": "[encoded data removed]",
      "text/plain": [
       "<Figure size 432x432 with 1 Axes>"
      ]
     },
     "metadata": {
      "needs_background": "light"
     },
     "output_type": "display_data"
    }
   ],
   "source": [
    "fig, ax = plt.subplots(figsize=(6, 6))\n",
    "\n",
    "plot_desicion_boundary(\n",
    "    grid_cv, X_test[:, 0], X_test[:, 1], y_test, \n",
    "    ax, 'Desicion boundary', df.columns.values[-3], df.columns.values[-2]\n",
    ")\n",
    "\n",
    "plt.show()"
   ]
  },
  {
   "cell_type": "markdown",
   "metadata": {},
   "source": [
    "# Decision trees over-fitting \n",
    "\n",
    "## Introduction\n",
    "Decision trees could easily got over-fitted. \n",
    "\n",
    "**Example**: tree in which each leaf corresponds to one element in training dataset. \n",
    "It would give 100% accuracy on train dataset, but in the same time bad results on test dataset.\n",
    "\n",
    "On the picture below, decision boundary is much more complicated for tree with **big numbers of leafs** - tries perform classification in ares, when there is no need (little red squared in white area)."
   ]
  },
  {
   "cell_type": "code",
   "execution_count": 30,
   "metadata": {
    "code_folding": [
     5
    ]
   },
   "outputs": [
    {
     "name": "stdout",
     "output_type": "stream",
     "text": [
      "Accuracy DTC (max_leaf=5  ): Train: 0.848 Test: 0.711\n",
      "Accuracy DTC (max_leaf=106): Train: 0.933 Test: 0.667\n"
     ]
    },
    {
     "data": {
      "image/png": "[encoded data removed]",
      "text/plain": [
       "<Figure size 720x360 with 2 Axes>"
      ]
     },
     "metadata": {
      "needs_background": "light"
     },
     "output_type": "display_data"
    }
   ],
   "source": [
    "max_leaf_nodes_list = [5, y_train.shape[0] + 1]\n",
    "clfs = [DTC(max_leaf_nodes=i, random_state=1) for i in max_leaf_nodes_list]\n",
    "\n",
    "fig, ax = plt.subplots(1, 2, figsize=(10, 5))\n",
    "\n",
    "for ID, clf in enumerate(clfs):\n",
    "    clf.fit(X_train, y_train)\n",
    "    plot_desicion_boundary(\n",
    "        clf, X_test[:, 0], X_test[:, 1], y_test, ax[ID],\n",
    "        'Decision boundary for max_leaf={0}'.format(max_leaf_nodes_list[ID]),\n",
    "        df.columns.values[-3], df.columns.values[-2])\n",
    "\n",
    "    print(\n",
    "        'Accuracy DTC (max_leaf={0: <3}): Train: {1:.3f} Test: {2:.3f}'.format(\n",
    "            max_leaf_nodes_list[ID],\n",
    "            f1_score(y_train, clf.predict(X_train), average='micro'),\n",
    "            f1_score(y_test, clf.predict(X_test), average='micro')))\n",
    "\n",
    "plt.show()"
   ]
  },
  {
   "cell_type": "markdown",
   "metadata": {},
   "source": [
    "## Decision tree construction\n",
    "\n",
    "Key idea - the decision tree is building **greedy**:\n",
    "1. Take feature $x_{i}$ from $X$\n",
    "2. Chose threshold which minimizes loss function:\n",
    "$$\n",
    "    Loss =\n",
    "    \\frac{X_{l}}{X_{m}}\\times H(X_{l}) +\n",
    "    \\frac{X_{r}}{X_{m}}\\times H(X_{r}) \n",
    "$$\n",
    "where: \n",
    "$X_{l}$, $X_{r}$, $X_{m}$ number of objects in left(right) sub-tree and in current node, \n",
    "$H(x)$ - informative criterion (dispersion for regression, *Ginny* or *entropy* for classification).\n",
    "3. Split all objects on two parts:\n",
    "    * Left sub-tree: objects, for which: $x_{i} < threshold$\n",
    "    * Right sub-tree: objects, for which: $x_{i} >= threshold$\n",
    "    \n",
    "P.S. \n",
    "- *Ginny* - maximum number of objects from the same class will be in one leaf.\n",
    "- "
   ]
  },
  {
   "cell_type": "markdown",
   "metadata": {},
   "source": [
    "## Over-fitting\n",
    "\n",
    "To avoid over-fitting it is necessary to somehow restrict tree's depth.\n",
    "There are several **stop criteria**:\n",
    "1. Stop when objects in a leaf corresponds to one class.\n",
    "2. Node has exactly K objects `min_samples_leaf`.\n",
    "3. Tree depth is less or equal than `max_depth`.\n",
    "4. Restrict number of features, used for learning `max_features`. Better to use `sqrt` value.\n",
    "5. [Cut random forest](https://freecontent.manning.com/the-randomcutforest-algorithm/) algorithm - we build tree with maximum depth firstly, after that we go from bottom to top, comparing quality of tree with and without this node (check using cross validation).\n",
    "\n",
    "Let us see how does the tree depth influence on prediction accuracy."
   ]
  },
  {
   "cell_type": "code",
   "execution_count": 47,
   "metadata": {},
   "outputs": [
    {
     "name": "stdout",
     "output_type": "stream",
     "text": [
      "Wall time: 2.97 s\n"
     ]
    }
   ],
   "source": [
    "%%time\n",
    "from sklearn.model_selection import cross_val_score\n",
    "from sklearn.datasets import load_digits\n",
    "\n",
    "X, y = load_digits(return_X_y=True)\n",
    "max_depth_list = np.arange(1, 30, 2)\n",
    "score_list = np.zeros(len(max_depth_list))\n",
    "\n",
    "for ID, cur_depth in enumerate(max_depth_list):\n",
    "    clf = DTC(max_depth=cur_depth, random_state=1)\n",
    "    score_list[ID] = cross_val_score(clf, X, y, cv=10, scoring='f1_micro').mean()"
   ]
  },
  {
   "cell_type": "code",
   "execution_count": 48,
   "metadata": {},
   "outputs": [
    {
     "data": {
      "image/png": "[encoded data removed]",
      "text/plain": [
       "<Figure size 720x360 with 1 Axes>"
      ]
     },
     "metadata": {
      "needs_background": "light"
     },
     "output_type": "display_data"
    }
   ],
   "source": [
    "fig, ax = plt.subplots(figsize=(10, 5))\n",
    "ax.plot(max_depth_list, score_list, color='green', alpha=0.5, lw=5)\n",
    "ax.set_xlabel('Tree depth', fontsize=14)\n",
    "ax.set_ylabel('f1 micro score', fontsize=14)\n",
    "ax.grid(True)\n",
    "plt.show()"
   ]
  },
  {
   "cell_type": "code",
   "execution_count": 65,
   "metadata": {},
   "outputs": [
    {
     "name": "stdout",
     "output_type": "stream",
     "text": [
      "Wall time: 5.93 s\n"
     ]
    }
   ],
   "source": [
    "%%time\n",
    "min_samples_leaf_list = np.arange(1, 35, 1)\n",
    "score_list = np.zeros(len(min_samples_leaf_list))\n",
    "\n",
    "for ID, cur_leaf_n in enumerate(min_samples_leaf_list):\n",
    "    clf = DTC(min_samples_leaf=cur_leaf_n, random_state=1)\n",
    "    score_list[ID] = cross_val_score(clf, X, y, cv=10, scoring='f1_micro').mean()"
   ]
  },
  {
   "cell_type": "code",
   "execution_count": 66,
   "metadata": {},
   "outputs": [
    {
     "data": {
      "image/png": "[encoded data removed]",
      "text/plain": [
       "<Figure size 720x360 with 1 Axes>"
      ]
     },
     "metadata": {
      "needs_background": "light"
     },
     "output_type": "display_data"
    }
   ],
   "source": [
    "fig, ax = plt.subplots(figsize=(10, 5))\n",
    "ax.plot(min_samples_leaf_list, score_list, color='red', alpha=0.5, lw=5)\n",
    "ax.set_xlabel('Min samples leaf', fontsize=14)\n",
    "ax.set_ylabel('f1 micro score', fontsize=14)\n",
    "ax.grid(True)\n",
    "plt.show()"
   ]
  }
 ],
 "metadata": {
  "kernelspec": {
   "display_name": "Python 3",
   "language": "python",
   "name": "python3"
  },
  "language_info": {
   "codemirror_mode": {
    "name": "ipython",
    "version": 3
   },
   "file_extension": ".py",
   "mimetype": "text/x-python",
   "name": "python",
   "nbconvert_exporter": "python",
   "pygments_lexer": "ipython3",
   "version": "3.7.4"
  },
  "toc": {
   "base_numbering": 1,
   "nav_menu": {},
   "number_sections": true,
   "sideBar": true,
   "skip_h1_title": false,
   "title_cell": "Table of Contents",
   "title_sidebar": "Contents",
   "toc_cell": false,
   "toc_position": {},
   "toc_section_display": true,
   "toc_window_display": true
  }
 },
 "nbformat": 4,
 "nbformat_minor": 2
}
