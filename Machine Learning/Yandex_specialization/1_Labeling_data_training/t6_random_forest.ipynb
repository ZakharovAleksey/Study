{
 "cells": [
  {
   "cell_type": "code",
   "execution_count": 13,
   "metadata": {},
   "outputs": [],
   "source": [
    "import numpy as np\n",
    "import pandas as pd\n",
    "import matplotlib.pyplot as plt\n",
    "import seaborn as sns\n",
    "\n",
    "from sklearn.datasets import load_digits\n",
    "from sklearn.model_selection import cross_val_score"
   ]
  },
  {
   "cell_type": "code",
   "execution_count": 10,
   "metadata": {},
   "outputs": [],
   "source": [
    "data = load_digits()\n",
    "X = data.data\n",
    "y = data.target\n"
   ]
  },
  {
   "cell_type": "markdown",
   "metadata": {},
   "source": [
    "## Learn on single Decision Tree\n",
    "\n",
    "Создайте DecisionTreeClassifier с настройками по умолчанию и измерьте качество его работы с помощью cross_val_score. Эта величина и будет ответом в пункте 1."
   ]
  },
  {
   "cell_type": "code",
   "execution_count": 46,
   "metadata": {},
   "outputs": [
    {
     "name": "stdout",
     "output_type": "stream",
     "text": [
      "[0.78378378 0.86338798 0.79558011 0.80555556 0.7877095  0.89385475\n",
      " 0.87150838 0.80337079 0.80225989 0.82386364]\n",
      "0.8230874363563118\n"
     ]
    }
   ],
   "source": [
    "from sklearn.tree import DecisionTreeClassifier as DT\n",
    "\n",
    "dt = DT()\n",
    "scores = cross_val_score(dt, X, y, cv=10)\n",
    "print(scores)\n",
    "print(np.mean(scores))\n",
    "\n",
    "with open('1.txt', 'w') as f:\n",
    "    f.write(str(np.mean(scores)))"
   ]
  },
  {
   "cell_type": "markdown",
   "metadata": {},
   "source": [
    "## Bagging classifier\n",
    "\n",
    "Воспользуйтесь BaggingClassifier из sklearn.ensemble, чтобы обучить бэггинг над DecisionTreeClassifier. Используйте в BaggingClassifier параметры по умолчанию, задав только количество деревьев равным 100."
   ]
  },
  {
   "cell_type": "code",
   "execution_count": 76,
   "metadata": {},
   "outputs": [
    {
     "name": "stdout",
     "output_type": "stream",
     "text": [
      "[0.88108108 0.95628415 0.90607735 0.94444444 0.93296089 0.97206704\n",
      " 0.96648045 0.91011236 0.86440678 0.92045455]\n",
      "0.9254369091151681\n"
     ]
    }
   ],
   "source": [
    "from sklearn.ensemble import BaggingClassifier as BC\n",
    "\n",
    "\n",
    "bc = BC(dt, n_estimators=100)\n",
    "scores = cross_val_score(bc, X, y, cv=10)\n",
    "print(scores)\n",
    "print(np.mean(scores))\n",
    "\n",
    "with open('2.txt', 'w') as f:\n",
    "    f.write(str(np.mean(scores)))"
   ]
  },
  {
   "cell_type": "markdown",
   "metadata": {},
   "source": [
    "Теперь изучите параметры BaggingClassifier и выберите их такими, чтобы каждый базовый алгоритм обучался не на всех d признаках, а на $\\sqrt{d}$ случайных признаков. \n",
    "\n",
    "Качество работы получившегося классификатора - ответ в пункте 3. \n",
    "\n",
    "Корень из числа признаков - часто используемая эвристика в задачах классификации, в задачах регрессии же часто берут число признаков, деленное на три. Но в общем случае ничто не мешает вам выбирать любое другое число случайных признаков."
   ]
  },
  {
   "cell_type": "code",
   "execution_count": 77,
   "metadata": {},
   "outputs": [
    {
     "name": "stdout",
     "output_type": "stream",
     "text": [
      "[0.8972973  0.95081967 0.92265193 0.89444444 0.94972067 0.94972067\n",
      " 0.96648045 0.98314607 0.88700565 0.90909091]\n",
      "0.9310377761508196\n"
     ]
    }
   ],
   "source": [
    "n_features = int(np.sqrt(X.shape[1]))\n",
    "bc1 = BC(dt, max_features=n_features, n_estimators=100)\n",
    "\n",
    "scores = cross_val_score(bc1, X, y, cv=10)\n",
    "print(scores)\n",
    "print(np.mean(scores))\n",
    "\n",
    "with open('3.txt', 'w') as f:\n",
    "    f.write(str(np.mean(scores)))"
   ]
  },
  {
   "cell_type": "markdown",
   "metadata": {},
   "source": [
    "Наконец, давайте попробуем выбирать случайные признаки не один раз на все дерево, а при построении каждой вершины дерева. Сделать это несложно: нужно убрать выбор случайного подмножества признаков в BaggingClassifier и добавить его в DecisionTreeClassifier. Какой параметр за это отвечает, можно понять из документации sklearn, либо просто попробовать угадать (скорее всего, у вас сразу получится). Попробуйте выбирать опять же \\sqrt{d} \n",
    "d\n",
    "​\t  признаков. Качество полученного классификатора на контрольной выборке и будет ответом в пункте 4."
   ]
  },
  {
   "cell_type": "code",
   "execution_count": 78,
   "metadata": {},
   "outputs": [
    {
     "name": "stdout",
     "output_type": "stream",
     "text": [
      "[0.91351351 0.97814208 0.94475138 0.95       0.95530726 0.97206704\n",
      " 0.98882682 0.96629213 0.91525424 0.94318182]\n",
      "0.9527336278851566\n"
     ]
    }
   ],
   "source": [
    "dt1 = DT(max_features='sqrt')\n",
    "\n",
    "bc2 = BC(dt1, n_estimators=100)\n",
    "scores = cross_val_score(bc2, X, y, cv=10)\n",
    "print(scores)\n",
    "print(np.mean(scores))\n",
    "\n",
    "with open('4.txt', 'w') as f:\n",
    "    f.write(str(np.mean(scores)))"
   ]
  },
  {
   "cell_type": "markdown",
   "metadata": {},
   "source": [
    "Полученный в пункте 4 классификатор - бэггинг на рандомизированных деревьях (в которых при построении каждой вершины выбирается случайное подмножество признаков и разбиение ищется только по ним). Это в точности соответствует алгоритму Random Forest, поэтому почему бы не сравнить качество работы классификатора с RandomForestClassifier из sklearn.ensemble. Сделайте это, а затем изучите, как качество классификации на данном датасете зависит от количества деревьев, количества признаков, выбираемых при построении каждой вершины дерева, а также ограничений на глубину дерева. Для наглядности лучше построить графики зависимости качества от значений параметров, но для сдачи задания это делать не обязательно."
   ]
  },
  {
   "cell_type": "code",
   "execution_count": 80,
   "metadata": {},
   "outputs": [
    {
     "name": "stdout",
     "output_type": "stream",
     "text": [
      "[0.90810811 0.96174863 0.95027624 0.93888889 0.96089385 0.96648045\n",
      " 0.97765363 0.96067416 0.94915254 0.9375    ]\n",
      "0.9511376506607846\n"
     ]
    }
   ],
   "source": [
    "from sklearn.ensemble import RandomForestClassifier as RFC\n",
    "\n",
    "rf = RFC(n_estimators=100)\n",
    "scores = cross_val_score(rf, X, y, cv=10)\n",
    "print(scores)\n",
    "print(np.mean(scores))"
   ]
  },
  {
   "cell_type": "markdown",
   "metadata": {},
   "source": [
    "1) Случайный лес сильно переобучается с ростом количества деревьев\n",
    "\n",
    "**Answer**: NO"
   ]
  },
  {
   "cell_type": "code",
   "execution_count": 104,
   "metadata": {},
   "outputs": [
    {
     "name": "stdout",
     "output_type": "stream",
     "text": [
      "Wall time: 19.5 s\n"
     ]
    }
   ],
   "source": [
    "%%time\n",
    "n_est = np.arange(1, 110, 10)\n",
    "\n",
    "scores = np.zeros(n_est.shape[0])\n",
    "for ID, cur_n in enumerate(n_est):\n",
    "    rf = RFC(n_estimators=cur_n)\n",
    "    scores[ID] = np.mean(cross_val_score(rf, X, y, cv=10))"
   ]
  },
  {
   "cell_type": "code",
   "execution_count": 105,
   "metadata": {},
   "outputs": [
    {
     "data": {
      "image/png": "[encoded data removed]",
      "text/plain": [
       "<Figure size 720x360 with 1 Axes>"
      ]
     },
     "metadata": {
      "needs_background": "light"
     },
     "output_type": "display_data"
    }
   ],
   "source": [
    "fig, ax = plt.subplots(figsize=(10, 5))\n",
    "ax.plot(n_est, scores, color='green', alpha=0.5, lw=5)\n",
    "ax.set_xlabel('Number od estimators')\n",
    "ax.set_ylabel('Accuracy')\n",
    "ax.grid(True)"
   ]
  },
  {
   "cell_type": "markdown",
   "metadata": {},
   "source": [
    "2) При очень маленьком числе деревьев (5, 10, 15), случайный лес работает хуже, чем при большем числе деревьев\n",
    "\n",
    "**Answer**: YES"
   ]
  },
  {
   "cell_type": "code",
   "execution_count": 106,
   "metadata": {},
   "outputs": [
    {
     "name": "stdout",
     "output_type": "stream",
     "text": [
      "N est = 5 -> Score = 0.8888401236352825\n",
      "N est = 10 -> Score = 0.9238348076248052\n",
      "N est = 15 -> Score = 0.9305071366701043\n",
      "Wall time: 1.13 s\n"
     ]
    }
   ],
   "source": [
    "%%time\n",
    "n_est = [5, 10, 15]\n",
    "\n",
    "for ID, cur_n in enumerate(n_est):\n",
    "    rf = RFC(n_estimators=cur_n)\n",
    "    print('N est = {0} -> Score = {1}'.format(\n",
    "        cur_n,\n",
    "        np.mean(cross_val_score(rf, X, y, cv=10)))\n",
    "    )\n"
   ]
  },
  {
   "cell_type": "markdown",
   "metadata": {},
   "source": [
    "3). С ростом количества деревьев в случайном лесе, в какой-то момент деревьев становится достаточно для высокого качества классификации, а затем качество существенно не меняется.\n",
    "\n",
    "**Answer:** YES\n"
   ]
  },
  {
   "cell_type": "markdown",
   "metadata": {},
   "source": [
    "4) При большом количестве признаков (для данного датасета - 40, 50) качество классификации становится хуже, чем при малом количестве признаков (5, 10). Это связано с тем, что чем меньше признаков выбирается в каждом узле, тем более различными получаются деревья (ведь деревья сильно неустойчивы к изменениям в обучающей выборке), и тем лучше работает их композиция.\n",
    "\n",
    "**Answer:** YES"
   ]
  },
  {
   "cell_type": "code",
   "execution_count": 90,
   "metadata": {},
   "outputs": [
    {
     "name": "stdout",
     "output_type": "stream",
     "text": [
      "N est = 5 -> Score = 0.9544556147800469\n",
      "N est = 10 -> Score = 0.9532684897027194\n",
      "N est = 40 -> Score = 0.9365856415767754\n",
      "N est = 50 -> Score = 0.9388785600084992\n",
      "N est = 60 -> Score = 0.9265843959153954\n",
      "Wall time: 38.7 s\n"
     ]
    }
   ],
   "source": [
    "%%time\n",
    "n_features = [5, 10, 40, 50, 60]\n",
    "\n",
    "for ID, cur_n in enumerate(n_features):\n",
    "    rf = RFC(n_estimators=100, max_features=cur_n)\n",
    "    print('N est = {0} -> Score = {1}'.format(\n",
    "        cur_n,\n",
    "        np.mean(cross_val_score(rf, X, y, cv=10)))\n",
    "    )"
   ]
  },
  {
   "cell_type": "markdown",
   "metadata": {},
   "source": [
    "5) При большом количестве признаков (40, 50, 60) качество классификации лучше, чем при малом количестве признаков (5, 10). Это связано с тем, что чем больше признаков - тем больше информации об объектах, а значит алгоритм может делать прогнозы более точно.\n",
    "\n",
    "**Answer:** NO"
   ]
  },
  {
   "cell_type": "markdown",
   "metadata": {},
   "source": [
    "6) При небольшой максимальной глубине деревьев (5-6) качество работы случайного леса намного лучше, чем без ограничения глубины, т.к. деревья получаются не переобученными. С ростом глубины деревьев качество ухудшается.\n",
    "\n",
    "**Answer:** NO"
   ]
  },
  {
   "cell_type": "code",
   "execution_count": 91,
   "metadata": {},
   "outputs": [
    {
     "name": "stdout",
     "output_type": "stream",
     "text": [
      "N est = 5 -> Score = 0.9137190979896632\n",
      "N est = 6 -> Score = 0.9276278992644842\n",
      "N est = 7 -> Score = 0.9327103989162007\n",
      "N est = 20 -> Score = 0.9483215565874273\n",
      "N est = 50 -> Score = 0.9511372462521397\n",
      "N est = 100 -> Score = 0.9533075652365735\n",
      "Wall time: 19.5 s\n"
     ]
    }
   ],
   "source": [
    "%%time\n",
    "n_depth = [5, 6, 7, 20, 50, 100]\n",
    "\n",
    "for ID, cur_n in enumerate(n_depth):\n",
    "    rf = RFC(n_estimators=100, max_depth=cur_n)\n",
    "    print('N est = {0} -> Score = {1}'.format(\n",
    "        cur_n,\n",
    "        np.mean(cross_val_score(rf, X, y, cv=10)))\n",
    "    )"
   ]
  },
  {
   "cell_type": "markdown",
   "metadata": {},
   "source": [
    "7) При небольшой максимальной глубине деревьев (5-6) качество работы случайного леса заметно хуже, чем без ограничений, т.к. деревья получаются недообученными. С ростом глубины качество сначала улучшается, а затем не меняется существенно, т.к. из-за усреднения прогнозов и различий деревьев их переобученность в бэггинге не сказывается на итоговом качестве (все деревья преобучены по-разному, и при усреднении они компенсируют переобученность друг-друга).\n",
    "\n",
    "**Answer:** YES"
   ]
  },
  {
   "cell_type": "code",
   "execution_count": 107,
   "metadata": {},
   "outputs": [],
   "source": [
    "corr_ans = np.array([2, 3, 4, 7])\n",
    "\n",
    "with open('5.txt', 'w') as f:\n",
    "    f.write(' '.join(corr_ans.astype(str)))"
   ]
  },
  {
   "cell_type": "code",
   "execution_count": null,
   "metadata": {},
   "outputs": [],
   "source": []
  }
 ],
 "metadata": {
  "kernelspec": {
   "display_name": "Python 3",
   "language": "python",
   "name": "python3"
  },
  "language_info": {
   "codemirror_mode": {
    "name": "ipython",
    "version": 3
   },
   "file_extension": ".py",
   "mimetype": "text/x-python",
   "name": "python",
   "nbconvert_exporter": "python",
   "pygments_lexer": "ipython3",
   "version": "3.7.4"
  },
  "toc": {
   "base_numbering": 1,
   "nav_menu": {},
   "number_sections": true,
   "sideBar": true,
   "skip_h1_title": false,
   "title_cell": "Table of Contents",
   "title_sidebar": "Contents",
   "toc_cell": false,
   "toc_position": {},
   "toc_section_display": true,
   "toc_window_display": true
  }
 },
 "nbformat": 4,
 "nbformat_minor": 2
}
