{
 "cells": [
  {
   "cell_type": "code",
   "execution_count": 1,
   "metadata": {},
   "outputs": [],
   "source": [
    "import numpy as np\n",
    "import pandas as pd\n",
    "\n",
    "from sklearn.datasets import (load_digits, load_breast_cancer)\n",
    "from sklearn.naive_bayes import (BernoulliNB, MultinomialNB , GaussianNB)\n",
    "from sklearn.model_selection import cross_val_score"
   ]
  },
  {
   "cell_type": "markdown",
   "metadata": {},
   "source": [
    "# Algorithm accuracy on digits"
   ]
  },
  {
   "cell_type": "code",
   "execution_count": 2,
   "metadata": {},
   "outputs": [],
   "source": [
    "data = load_digits()\n",
    "X = data.data\n",
    "y = data.target"
   ]
  },
  {
   "cell_type": "code",
   "execution_count": 3,
   "metadata": {},
   "outputs": [
    {
     "name": "stdout",
     "output_type": "stream",
     "text": [
      "Max score for digits df: 0.882\n"
     ]
    }
   ],
   "source": [
    "labels = ['BernoulliNB', 'MultinomialNB', 'GaussianNB']\n",
    "classifiersNB = [BernoulliNB(), MultinomialNB(), GaussianNB()]\n",
    "scores_digit = np.zeros(len(classifiersNB))\n",
    "\n",
    "for ID, clf in enumerate(classifiersNB):\n",
    "    scores = cross_val_score(clf, X, y, cv=10)\n",
    "    scores_digit[ID] = np.mean(scores)\n",
    "    \n",
    "max_digit_score = np.max(scores_digit)\n",
    "print('Max score for digits df: {0:.3f}'.format(max_digit_score))"
   ]
  },
  {
   "cell_type": "code",
   "execution_count": 4,
   "metadata": {},
   "outputs": [],
   "source": [
    "with open('2.txt', 'w') as f:\n",
    "    f.write(str(max_digit_score))"
   ]
  },
  {
   "cell_type": "code",
   "execution_count": 6,
   "metadata": {},
   "outputs": [
    {
     "name": "stdout",
     "output_type": "stream",
     "text": [
      "[0.83185575 0.88193962 0.81035376]\n"
     ]
    },
    {
     "data": {
      "text/plain": [
       "'MultinomialNB'"
      ]
     },
     "execution_count": 6,
     "metadata": {},
     "output_type": "execute_result"
    }
   ],
   "source": [
    "print(scores_digit)\n",
    "labels[scores_digit.argmax()]"
   ]
  },
  {
   "cell_type": "markdown",
   "metadata": {},
   "source": [
    "## Algorithm accuracy on breast_cancer"
   ]
  },
  {
   "cell_type": "code",
   "execution_count": 7,
   "metadata": {},
   "outputs": [],
   "source": [
    "data = load_breast_cancer()\n",
    "X = data.data\n",
    "y = data.target"
   ]
  },
  {
   "cell_type": "code",
   "execution_count": 8,
   "metadata": {},
   "outputs": [
    {
     "name": "stdout",
     "output_type": "stream",
     "text": [
      "Max score for breast cancer df: 0.939\n"
     ]
    }
   ],
   "source": [
    "labels = ['BernoulliNB', 'MultinomialNB', 'GaussianNB']\n",
    "classifiersNB = [BernoulliNB(), MultinomialNB(), GaussianNB()]\n",
    "scores_breast = np.zeros(len(classifiersNB))\n",
    "\n",
    "for ID, clf in enumerate(classifiersNB):\n",
    "    scores = cross_val_score(clf, X, y, cv=10)\n",
    "    scores_breast[ID] = np.mean(scores)\n",
    "    \n",
    "max_breast_score = np.max(scores_breast)\n",
    "print('Max score for breast cancer df: {0:.3f}'.format(max_breast_score))"
   ]
  },
  {
   "cell_type": "code",
   "execution_count": 48,
   "metadata": {},
   "outputs": [],
   "source": [
    "with open('1.txt', 'w') as f:\n",
    "    f.write(str(max_breast_score))"
   ]
  },
  {
   "cell_type": "code",
   "execution_count": 9,
   "metadata": {},
   "outputs": [
    {
     "name": "stdout",
     "output_type": "stream",
     "text": [
      "[0.6274274  0.89293492 0.93867967]\n"
     ]
    },
    {
     "data": {
      "text/plain": [
       "'GaussianNB'"
      ]
     },
     "execution_count": 9,
     "metadata": {},
     "output_type": "execute_result"
    }
   ],
   "source": [
    "print(scores_breast)\n",
    "labels[scores_breast.argmax()]"
   ]
  },
  {
   "cell_type": "code",
   "execution_count": 10,
   "metadata": {},
   "outputs": [],
   "source": [
    "with open('3.txt', 'w') as f:\n",
    "    f.write('3 4')"
   ]
  }
 ],
 "metadata": {
  "kernelspec": {
   "display_name": "Python 3",
   "language": "python",
   "name": "python3"
  },
  "language_info": {
   "codemirror_mode": {
    "name": "ipython",
    "version": 3
   },
   "file_extension": ".py",
   "mimetype": "text/x-python",
   "name": "python",
   "nbconvert_exporter": "python",
   "pygments_lexer": "ipython3",
   "version": "3.7.4"
  },
  "toc": {
   "base_numbering": 1,
   "nav_menu": {},
   "number_sections": true,
   "sideBar": true,
   "skip_h1_title": false,
   "title_cell": "Table of Contents",
   "title_sidebar": "Contents",
   "toc_cell": false,
   "toc_position": {},
   "toc_section_display": true,
   "toc_window_display": false
  }
 },
 "nbformat": 4,
 "nbformat_minor": 2
}
