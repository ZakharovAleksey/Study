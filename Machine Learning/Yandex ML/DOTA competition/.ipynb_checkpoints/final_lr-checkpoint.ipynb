{
 "cells": [
  {
   "cell_type": "markdown",
   "metadata": {},
   "source": [
    "# Подход 2. Логистическая регрессия.\n",
    "\n",
    "Для того, чтобы перейти к отчету необходимо пролистать в самый конец блокнота.\n",
    "\n",
    "## 1. Загрузка и предварительная обработка данных."
   ]
  },
  {
   "cell_type": "code",
   "execution_count": 22,
   "metadata": {
    "collapsed": true
   },
   "outputs": [],
   "source": [
    "import numpy as np\n",
    "import pandas as pd\n",
    "import matplotlib.pyplot as plt\n",
    "import seaborn as sns\n",
    "import time\n",
    "import datetime\n",
    "\n",
    "from sklearn.model_selection import KFold\n",
    "from sklearn.metrics import roc_auc_score\n",
    "from sklearn.model_selection import cross_val_score\n",
    "from sklearn.preprocessing import StandardScaler\n",
    "from sklearn.linear_model import LogisticRegression"
   ]
  },
  {
   "cell_type": "code",
   "execution_count": 23,
   "metadata": {
    "collapsed": true
   },
   "outputs": [],
   "source": [
    "df_train = pd.read_csv('features.csv', index_col='match_id')"
   ]
  },
  {
   "cell_type": "code",
   "execution_count": 24,
   "metadata": {},
   "outputs": [],
   "source": [
    "match_res_col = ['duration', \n",
    "                 'radiant_win', \n",
    "                 'tower_status_radiant', \n",
    "                 'tower_status_dire', \n",
    "                 'barracks_status_radiant', \n",
    "                 'barracks_status_dire']\n",
    "\n",
    "X = df_train.drop(match_res_col, axis=1)\n",
    "y = df_train['radiant_win'].values"
   ]
  },
  {
   "cell_type": "code",
   "execution_count": 25,
   "metadata": {
    "collapsed": true
   },
   "outputs": [],
   "source": [
    "X = X.fillna(0.)"
   ]
  },
  {
   "cell_type": "markdown",
   "metadata": {},
   "source": [
    "## 1.1. Масштабирование признаков.\n",
    "\n",
    "Линейные алгоритмы чувствительны к масштабу признаков.\n",
    "\n",
    "Поэтому необходимо выяснить требуется ли масштабирование признаков для данной выборки."
   ]
  },
  {
   "cell_type": "code",
   "execution_count": 26,
   "metadata": {},
   "outputs": [
    {
     "data": {
      "text/html": [
       "<div>\n",
       "<style>\n",
       "    .dataframe thead tr:only-child th {\n",
       "        text-align: right;\n",
       "    }\n",
       "\n",
       "    .dataframe thead th {\n",
       "        text-align: left;\n",
       "    }\n",
       "\n",
       "    .dataframe tbody tr th {\n",
       "        vertical-align: top;\n",
       "    }\n",
       "</style>\n",
       "<table border=\"1\" class=\"dataframe\">\n",
       "  <thead>\n",
       "    <tr style=\"text-align: right;\">\n",
       "      <th></th>\n",
       "      <th>start_time</th>\n",
       "      <th>lobby_type</th>\n",
       "      <th>r1_hero</th>\n",
       "      <th>r1_level</th>\n",
       "      <th>r1_xp</th>\n",
       "      <th>r1_gold</th>\n",
       "    </tr>\n",
       "  </thead>\n",
       "  <tbody>\n",
       "    <tr>\n",
       "      <th>count</th>\n",
       "      <td>9.723000e+04</td>\n",
       "      <td>97230.000000</td>\n",
       "      <td>97230.000000</td>\n",
       "      <td>97230.000000</td>\n",
       "      <td>97230.000000</td>\n",
       "      <td>97230.000000</td>\n",
       "    </tr>\n",
       "    <tr>\n",
       "      <th>mean</th>\n",
       "      <td>1.444232e+09</td>\n",
       "      <td>2.630999</td>\n",
       "      <td>51.517104</td>\n",
       "      <td>3.442672</td>\n",
       "      <td>1233.405801</td>\n",
       "      <td>1147.899702</td>\n",
       "    </tr>\n",
       "    <tr>\n",
       "      <th>std</th>\n",
       "      <td>5.515393e+06</td>\n",
       "      <td>2.835761</td>\n",
       "      <td>32.564211</td>\n",
       "      <td>1.111741</td>\n",
       "      <td>566.588895</td>\n",
       "      <td>464.111662</td>\n",
       "    </tr>\n",
       "    <tr>\n",
       "      <th>min</th>\n",
       "      <td>1.430199e+09</td>\n",
       "      <td>0.000000</td>\n",
       "      <td>1.000000</td>\n",
       "      <td>0.000000</td>\n",
       "      <td>0.000000</td>\n",
       "      <td>0.000000</td>\n",
       "    </tr>\n",
       "    <tr>\n",
       "      <th>25%</th>\n",
       "      <td>1.440815e+09</td>\n",
       "      <td>1.000000</td>\n",
       "      <td>22.000000</td>\n",
       "      <td>3.000000</td>\n",
       "      <td>767.000000</td>\n",
       "      <td>746.000000</td>\n",
       "    </tr>\n",
       "    <tr>\n",
       "      <th>50%</th>\n",
       "      <td>1.446338e+09</td>\n",
       "      <td>1.000000</td>\n",
       "      <td>50.000000</td>\n",
       "      <td>3.000000</td>\n",
       "      <td>1175.000000</td>\n",
       "      <td>1113.000000</td>\n",
       "    </tr>\n",
       "    <tr>\n",
       "      <th>75%</th>\n",
       "      <td>1.448829e+09</td>\n",
       "      <td>7.000000</td>\n",
       "      <td>75.000000</td>\n",
       "      <td>4.000000</td>\n",
       "      <td>1704.000000</td>\n",
       "      <td>1479.000000</td>\n",
       "    </tr>\n",
       "    <tr>\n",
       "      <th>max</th>\n",
       "      <td>1.450313e+09</td>\n",
       "      <td>7.000000</td>\n",
       "      <td>112.000000</td>\n",
       "      <td>6.000000</td>\n",
       "      <td>3319.000000</td>\n",
       "      <td>4332.000000</td>\n",
       "    </tr>\n",
       "  </tbody>\n",
       "</table>\n",
       "</div>"
      ],
      "text/plain": [
       "         start_time    lobby_type       r1_hero      r1_level         r1_xp  \\\n",
       "count  9.723000e+04  97230.000000  97230.000000  97230.000000  97230.000000   \n",
       "mean   1.444232e+09      2.630999     51.517104      3.442672   1233.405801   \n",
       "std    5.515393e+06      2.835761     32.564211      1.111741    566.588895   \n",
       "min    1.430199e+09      0.000000      1.000000      0.000000      0.000000   \n",
       "25%    1.440815e+09      1.000000     22.000000      3.000000    767.000000   \n",
       "50%    1.446338e+09      1.000000     50.000000      3.000000   1175.000000   \n",
       "75%    1.448829e+09      7.000000     75.000000      4.000000   1704.000000   \n",
       "max    1.450313e+09      7.000000    112.000000      6.000000   3319.000000   \n",
       "\n",
       "            r1_gold  \n",
       "count  97230.000000  \n",
       "mean    1147.899702  \n",
       "std      464.111662  \n",
       "min        0.000000  \n",
       "25%      746.000000  \n",
       "50%     1113.000000  \n",
       "75%     1479.000000  \n",
       "max     4332.000000  "
      ]
     },
     "execution_count": 26,
     "metadata": {},
     "output_type": "execute_result"
    }
   ],
   "source": [
    "X[X.columns.values[0:6]].describe()"
   ]
  },
  {
   "cell_type": "markdown",
   "metadata": {},
   "source": [
    "**Вывод**: масштабы описательных статистик различных признаков значительно различаются друг от друга.\n",
    "Поэтому для данной выборки необходимо провести масштабирование признаков для улучшения качества обучения."
   ]
  },
  {
   "cell_type": "code",
   "execution_count": 27,
   "metadata": {
    "collapsed": true
   },
   "outputs": [],
   "source": [
    "scaler = StandardScaler().fit(X)"
   ]
  },
  {
   "cell_type": "markdown",
   "metadata": {},
   "source": [
    "## 2. Определение оптимального коэффициента регуляризации."
   ]
  },
  {
   "cell_type": "code",
   "execution_count": 30,
   "metadata": {},
   "outputs": [
    {
     "name": "stdout",
     "output_type": "stream",
     "text": [
      "C = 1e-05,\t AUC_ROC score = 0.69512,\t elapsed time  0:00:03.802000\n",
      "C = 0.0001,\t AUC_ROC score = 0.71125,\t elapsed time  0:00:06.004000\n",
      "C = 0.001,\t AUC_ROC score = 0.71618,\t elapsed time  0:00:11.528000\n",
      "C = 0.01,\t AUC_ROC score = 0.71634,\t elapsed time  0:00:15.057000\n",
      "C = 0.1,\t AUC_ROC score = 0.71631,\t elapsed time  0:00:15.963000\n",
      "C = 1.0,\t AUC_ROC score = 0.71631,\t elapsed time  0:00:15.682000\n",
      "C = 10.0,\t AUC_ROC score = 0.71631,\t elapsed time  0:00:15.893000\n",
      "C = 100.0,\t AUC_ROC score = 0.71631,\t elapsed time  0:00:16.606000\n",
      "C = 1000.0,\t AUC_ROC score = 0.71631,\t elapsed time  0:00:15.749000\n",
      "C = 10000.0,\t AUC_ROC score = 0.71631,\t elapsed time  0:00:15.711000\n",
      "C = 100000.0,\t AUC_ROC score = 0.71631,\t elapsed time  0:00:15.780000\n"
     ]
    },
    {
     "data": {
      "image/png": "[encoded data removed]",
      "text/plain": [
       "<matplotlib.figure.Figure at 0x317c7630>"
      ]
     },
     "metadata": {},
     "output_type": "display_data"
    },
    {
     "name": "stdout",
     "output_type": "stream",
     "text": [
      "Optimal C = 0.01. Score = 0.71634\n"
     ]
    }
   ],
   "source": [
    "CL2 = np.power(10.0, np.arange(-5, 6))\n",
    "cv = KFold(n_splits=5, shuffle=True, random_state=241)\n",
    "\n",
    "def optimal_c_calc(X):\n",
    "    scores = []\n",
    "    for c in CL2:\n",
    "        clf = LogisticRegression(penalty='l2', C=c, random_state=241)\n",
    "        time = datetime.datetime.now()\n",
    "        score = np.mean( cross_val_score(clf, X, y, scoring = 'roc_auc', cv=cv) )\n",
    "        scores.append(score)\n",
    "        time = datetime.datetime.now() - time\n",
    "        print('C = {:},\\t AUC_ROC score = {:.5f},\\t elapsed time  {:}'.format(c, score, time))\n",
    "    \n",
    "    fig, ax = plt.subplots(figsize=(8,5))\n",
    "    ax.plot(np.log(CL2), scores, color='C0', alpha=0.7, lw=3)\n",
    "    ax.set_title('Dependency of AUC-ROC score from ln(C)', fontsize=13)\n",
    "    ax.set_ylabel('AUC-ROC score', fontsize=13)\n",
    "    ax.set_xlabel('ln(C)', fontsize=13)\n",
    "    ax.grid('on')\n",
    "    plt.show()\n",
    "    \n",
    "    index = np.argmax(np.array(scores))\n",
    "    return CL2[index], np.max(scores)\n",
    "\n",
    "C_opt1, max_score = optimal_c_calc(scaler.transform(X))\n",
    "print('Optimal C = {:}. Score = {:.5f}'.format(C_opt1, max_score))"
   ]
  },
  {
   "cell_type": "markdown",
   "metadata": {},
   "source": [
    "**Вывод**: Оптимальным параметром регуляризации является C=0.01, при этом качество обучения достигает 0.71634, которое:\n",
    "- Лучше, чем для градиентного бустинга с небольшим числом деревьев (0.69 при N=30).\n",
    "- Незначительно хуже, чем для градиентного бустинга с большим числом деревьев (0.72 при N=200).\n",
    "\n",
    "Логистическая регрессия работает значительно быстрее градиентного бустинга: время вычислении кросс-валидации уменьшилось с 0:03:30 (для N=30 деревьев) до 0:00:11 (для оптимального C)."
   ]
  },
  {
   "cell_type": "markdown",
   "metadata": {},
   "source": [
    "## 3. Обучение без категориальных признаков."
   ]
  },
  {
   "cell_type": "code",
   "execution_count": 31,
   "metadata": {},
   "outputs": [
    {
     "name": "stdout",
     "output_type": "stream",
     "text": [
      "C = 1e-05,\t AUC_ROC score = 0.69506,\t elapsed time  0:00:03.489000\n",
      "C = 0.0001,\t AUC_ROC score = 0.71125,\t elapsed time  0:00:06.162000\n",
      "C = 0.001,\t AUC_ROC score = 0.71624,\t elapsed time  0:00:10.632000\n",
      "C = 0.01,\t AUC_ROC score = 0.71640,\t elapsed time  0:00:13.757000\n",
      "C = 0.1,\t AUC_ROC score = 0.71637,\t elapsed time  0:00:14.814000\n",
      "C = 1.0,\t AUC_ROC score = 0.71637,\t elapsed time  0:00:15.240000\n",
      "C = 10.0,\t AUC_ROC score = 0.71637,\t elapsed time  0:00:14.615000\n",
      "C = 100.0,\t AUC_ROC score = 0.71637,\t elapsed time  0:00:14.294000\n",
      "C = 1000.0,\t AUC_ROC score = 0.71637,\t elapsed time  0:00:14.450000\n",
      "C = 10000.0,\t AUC_ROC score = 0.71637,\t elapsed time  0:00:15.389000\n",
      "C = 100000.0,\t AUC_ROC score = 0.71637,\t elapsed time  0:00:17.632000\n"
     ]
    },
    {
     "data": {
      "image/png": "[encoded data removed]",
      "text/plain": [
       "<matplotlib.figure.Figure at 0x15614e10>"
      ]
     },
     "metadata": {},
     "output_type": "display_data"
    },
    {
     "name": "stdout",
     "output_type": "stream",
     "text": [
      "Optimal C = 0.01. Score = 0.71634\n"
     ]
    }
   ],
   "source": [
    "categ_feat = []\n",
    "for i in range(1, 6):\n",
    "    categ_feat.append('r{0}_hero'.format(i))\n",
    "    categ_feat.append('d{0}_hero'.format(i))\n",
    "categ_feat.append('lobby_type')\n",
    "\n",
    "X_ = X.drop(categ_feat, axis=1)\n",
    "scaler.fit(X_)\n",
    "\n",
    "C_opt2, max_score2 = optimal_c_calc(scaler.transform(X_))\n",
    "print('Optimal C = {:}. Score = {:.5f}'.format(C_opt1, max_score2))"
   ]
  },
  {
   "cell_type": "markdown",
   "metadata": {},
   "source": [
    "**Вывод**: Результат работы алгоритма обучения практически не изменился при удалении категориальных признаков.\n",
    "Этот факт говорит о том, что алгоритм сам обучился не учитывать категориальные признаки при обучении."
   ]
  },
  {
   "cell_type": "markdown",
   "metadata": {},
   "source": [
    "## 4. Создание признаков на основе \"мешка слов\"."
   ]
  },
  {
   "cell_type": "code",
   "execution_count": 54,
   "metadata": {},
   "outputs": [],
   "source": [
    "hero_unique_ids = pd.unique(X[categ_feat[:-1]].values.ravel())\n",
    "N = np.max(hero_unique_ids)\n",
    "\n",
    "X_pick = np.zeros((X_.shape[0], N))\n",
    "\n",
    "for i, match_id in enumerate(X.index):\n",
    "    for p in xrange(5):\n",
    "        X_pick[i, X.loc[match_id, 'r%d_hero' % (p+1)]-1] = 1\n",
    "        X_pick[i, X.loc[match_id, 'd%d_hero' % (p+1)]-1] = -1"
   ]
  },
  {
   "cell_type": "code",
   "execution_count": 67,
   "metadata": {},
   "outputs": [
    {
     "name": "stdout",
     "output_type": "stream",
     "text": [
      "C = 1e-05,\t AUC_ROC score = 0.71482,\t elapsed time  0:00:07.333000\n",
      "C = 0.0001,\t AUC_ROC score = 0.74284,\t elapsed time  0:00:11.202000\n",
      "C = 0.001,\t AUC_ROC score = 0.75167,\t elapsed time  0:00:20.708000\n",
      "C = 0.01,\t AUC_ROC score = 0.75197,\t elapsed time  0:00:27.930000\n",
      "C = 0.1,\t AUC_ROC score = 0.75192,\t elapsed time  0:00:29.265000\n",
      "C = 1.0,\t AUC_ROC score = 0.75192,\t elapsed time  0:00:30.293000\n",
      "C = 10.0,\t AUC_ROC score = 0.75192,\t elapsed time  0:00:30.974000\n",
      "C = 100.0,\t AUC_ROC score = 0.75192,\t elapsed time  0:00:31.863000\n",
      "C = 1000.0,\t AUC_ROC score = 0.75192,\t elapsed time  0:00:31.378000\n",
      "C = 10000.0,\t AUC_ROC score = 0.75192,\t elapsed time  0:00:30.384000\n",
      "C = 100000.0,\t AUC_ROC score = 0.75192,\t elapsed time  0:00:32.384000\n"
     ]
    },
    {
     "data": {
      "image/png": "[encoded data removed]",
      "text/plain": [
       "<matplotlib.figure.Figure at 0xe54fa20>"
      ]
     },
     "metadata": {},
     "output_type": "display_data"
    },
    {
     "name": "stdout",
     "output_type": "stream",
     "text": [
      "Optimal C = 0.01. Score = 0.75197\n"
     ]
    }
   ],
   "source": [
    "df = pd.DataFrame(X_pick, index = X_.index)\n",
    "X_l = df.join(X_)\n",
    "\n",
    "scaler.fit(X_l)\n",
    "\n",
    "C_opt3, max_score3 = optimal_c_calc(scaler.transform(X_l))\n",
    "print('Optimal C = {:}. Score = {:.5f}'.format(C_opt3, max_score3))"
   ]
  },
  {
   "cell_type": "markdown",
   "metadata": {},
   "source": [
    "**Вывод**: оптимальное значение коэффициента регуляризации не изменилось, но при этом качество обучения выросло с 0.71634 до 0.75197.\n",
    "Это говорит о том, что \"мешок слов\" производит вместо \"непонятных\" алгоритму индексов персонажей осмысленные бинаризированные признаки, на основе которых улучшается качество обучения."
   ]
  },
  {
   "cell_type": "markdown",
   "metadata": {},
   "source": [
    "## 5. Предсказание вероятностей победы команды Radiant.\n",
    "\n",
    "Полученная модель линейной регрессии с \"мешком слов\" для индексов выбранных героев получилась самой качественной на основе метрики AUC-ROC, поэтому предсказание вероятностей будет основано на данной модели."
   ]
  },
  {
   "cell_type": "code",
   "execution_count": 118,
   "metadata": {},
   "outputs": [],
   "source": [
    "# 1. Prepare dataset\n",
    "data_test = pd.read_csv('features_test.csv', index_col='match_id')\n",
    "data_test = data_test.fillna(0.)\n",
    "\n",
    "# 2. Add words baggage to test dataset\n",
    "X_add = np.zeros((data_test.shape[0], N))\n",
    "\n",
    "for i, match_id in enumerate(data_test.index):\n",
    "    for p in xrange(5):\n",
    "        X_add[i, data_test.loc[match_id, 'r%d_hero' % (p+1)]-1] =  1\n",
    "        X_add[i, data_test.loc[match_id, 'd%d_hero' % (p+1)]-1] = -1\n",
    "        \n",
    "# 3. Remove old categorial featores\n",
    "data_test = data_test.drop(categ_feat, axis=1)\n",
    "\n",
    "# 4. Obtain full X_test \n",
    "X_r = pd.DataFrame(X_add, index = data_test.index)\n",
    "X_test = X_r.join(data_test)\n",
    "\n",
    "# 5. Train Logistic Regression on train dataset\n",
    "scaler.fit(X_l)\n",
    "clf = LogisticRegression(penalty='l2', C=0.01, random_state=241)\n",
    "clf.fit(scaler.transform(X_l), y)\n",
    "\n",
    "# 6. Predict probabilities for X_train\n",
    "scaler.fit(X_test) \n",
    "pr = clf.predict_proba(scaler.transform(X_test))"
   ]
  },
  {
   "cell_type": "code",
   "execution_count": 119,
   "metadata": {},
   "outputs": [
    {
     "name": "stdout",
     "output_type": "stream",
     "text": [
      "min Pr = 0.00367128407457\n",
      "max Pr = 0.991294099231\n"
     ]
    }
   ],
   "source": [
    "# Write a submission for Kaggle\n",
    "submission = pd.DataFrame(data=pr[:,0], index=data_test.index, columns=['radiant_win'])\n",
    "submission.to_csv('submission.csv')\n",
    "# Display min and max probability\n",
    "print('min Pr = {0}'.format(submission['radiant_win'].min()))\n",
    "print('max Pr = {0}'.format(submission['radiant_win'].max()))"
   ]
  },
  {
   "cell_type": "markdown",
   "metadata": {},
   "source": [
    "# Логистическая регрессия. Отчет.\n",
    "\n",
    "### 1. Какое качество получилось у логистической регрессии над всеми исходными признаками? Как оно соотносится с качеством градиентного бустинга? Чем вы можете объяснить эту разницу? Быстрее ли работает логистическая регрессия по сравнению с градиентным бустингом?\n",
    "\n",
    "Оптимальным параметром регуляризации является C=0.01, при этом качество обучения достигает 0.71634, которое:\n",
    "- Лучше, чем для градиентного бустинга с небольшим числом деревьев (0.69 при N=30).\n",
    "- Незначительно хуже, чем для градиентного бустинга с большим числом деревьев (0.72 при N=200).\n",
    "\n",
    "Логистическая регрессия работает значительно быстрее градиентного бустинга: время вычислении кросс-валидации уменьшилось с 0:03:30 (для N=30 деревьев) до 0:00:11 (для оптимального C).\n",
    "\n",
    "### 2. Как влияет на качество логистической регрессии удаление категориальных признаков (укажите новое значение метрики качества)? Чем вы можете объяснить это изменение?\n",
    "\n",
    "Результат работы алгоритма обучения практически не изменился при удалении категориальных признаков, качество обучении 0.71640.\n",
    "Этот факт говорит о том, что алгоритм сам обучился не учитывать категориальные признаки при обучении.\n",
    "\n",
    "\n",
    "### 3. Сколько различных идентификаторов героев существует в данной игре?\n",
    "\n",
    "Всего в данной игре 112 различных идентификаторов героев.\n",
    "\n",
    "### 4. Какое получилось качество при добавлении \"мешка слов\" по героям? Улучшилось ли оно по сравнению с предыдущим вариантом? Чем вы можете это объяснить?\n",
    "\n",
    "Оптимальное значение коэффициента регуляризации не изменилось, но при этом качество обучения выросло с 0.71634 до 0.75197.\n",
    "Это говорит о том, что \"мешок слов\" производит вместо \"непонятных\" алгоритму индексов персонажей осмысленные бинаризированные признаки, на основе которых улучшается качество обучения.\n",
    "\n",
    "### 5. Какое минимальное и максимальное значение прогноза на тестовой выборке получилось у лучшего из алгоритмов?\n",
    "\n",
    "Минимальное значение прогноза на победу Radiant P = 0.0036, максимальное значение P = 0.9912."
   ]
  }
 ],
 "metadata": {
  "kernelspec": {
   "display_name": "Python 2",
   "language": "python",
   "name": "python2"
  },
  "language_info": {
   "codemirror_mode": {
    "name": "ipython",
    "version": 2
   },
   "file_extension": ".py",
   "mimetype": "text/x-python",
   "name": "python",
   "nbconvert_exporter": "python",
   "pygments_lexer": "ipython2",
   "version": "2.7.13"
  }
 },
 "nbformat": 4,
 "nbformat_minor": 2
}
