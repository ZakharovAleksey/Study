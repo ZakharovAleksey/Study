{
 "cells": [
  {
   "cell_type": "markdown",
   "metadata": {},
   "source": [
    "Task Week 1. \n",
    "\n",
    "[Introduction to Pandas](https://bitbucket.org/hrojas/learn-pandas) \n",
    "could be found directly by clicking this link.\n"
   ]
  },
  {
   "cell_type": "code",
   "execution_count": 109,
   "metadata": {
    "collapsed": true
   },
   "outputs": [],
   "source": [
    "import numpy as np\n",
    "import pandas as pd\n",
    "import re\n",
    "\n",
    "data = pd.read_csv('titanic.csv', index_col = 'PassengerId')\n",
    "\n",
    "# 1. Number of men and women\n",
    "men_numb = np.sum(data['Sex'] == 'male')\n",
    "women_numb = np.sum(data['Sex'] == 'female')\n",
    "\n",
    "with open('1.txt', 'w') as f:\n",
    "    f.write(' '.join(map( lambda x: str(x), [men_numb, women_numb])))\n",
    "\n",
    "# 2. Survive percentage\n",
    "sur = np.sum(data['Survived'] == 1)\n",
    "total_numb = data['Survived'].shape[0]\n",
    "sur_percent = float(sur) / float(total_numb) * 100\n",
    "\n",
    "ans = '{0:.2f}'.format(sur_percent)\n",
    "with open('2.txt', 'w') as f:\n",
    "    f.write(ans)\n",
    "\n",
    "\n",
    "# Percentage of passengers in first class\n",
    "p1_class_numb = np.sum(data['Pclass'] == 1)\n",
    "p1_class_percent = float(p1_class_numb) / float(total_numb) * 100\n",
    "\n",
    "ans = '{0:.2f}'.format(p1_class_percent)\n",
    "with open('3.txt', 'w') as f:\n",
    "    f.write(ans)\n",
    "\n",
    "# Mean age and median of passengers\n",
    "avg_age = data['Age'].mean()\n",
    "mean_age = data['Age'].median()\n",
    "\n",
    "ans = '{0:.2f} '.format(avg_age) + str(mean_age)\n",
    "with open('4.txt', 'w') as f:\n",
    "    f.write(ans)\n",
    "\n",
    "# Correlation coefficient\n",
    "cor = data['SibSp'].corr(data['Parch'])\n",
    "ans = '{0:.2f} '.format(cor)\n",
    "with open('5.txt', 'w') as f:\n",
    "    f.write(ans)\n",
    "\n",
    "# The most popular women name\n",
    "women_mask = data['Sex'] == 'female'\n",
    "a = list(data['Name'][women_mask].copy())\n",
    "\n",
    "for i in range(len(a)):\n",
    "    a[i] = re.split(r'(Miss.|Mrs|Mrs.|Mme.|Ms.|Mlle.|the Countess. of|Dr.)', a[i])[2]\n",
    "    a[i] = re.split(r' ', a[i])[1]\n",
    "    a[i] = re.sub('[)(]', '', a[i])\n",
    "\n",
    "df = pd.DataFrame(a, columns = ['First name'])\n",
    "# Index 1 because with 0 index we obtain MAN (Why - I don't know)\n",
    "most_freq_name = df['First name'].value_counts().index[1]\n",
    "\n",
    "with open('6.txt', 'w') as f:\n",
    "    f.write(most_freq_name)"
   ]
  },
  {
   "cell_type": "markdown",
   "metadata": {},
   "source": [
    "Week 1. Task 2.\n",
    "[Creation of Decision Tree](http://scikit-learn.org/stable/modules/tree.html).\n",
    "\n",
    "Below we obtain feature importance of survieved peoples on Titanic."
   ]
  },
  {
   "cell_type": "code",
   "execution_count": 110,
   "metadata": {},
   "outputs": [
    {
     "name": "stdout",
     "output_type": "stream",
     "text": [
      "Features: Sex Fare\n"
     ]
    }
   ],
   "source": [
    "import numpy as np\n",
    "import pandas as pd\n",
    "from sklearn import tree\n",
    "\n",
    "nes_columns = {'Pclass', 'Fare', 'Age', 'Sex', 'Survived'}\n",
    "\n",
    "df = pd.read_csv('titanic.csv', index_col = 'PassengerId')\n",
    "df_features = df.drop(set(df.columns) - nes_columns, axis = 1).copy()\n",
    "df_features['Sex'] = (df_features['Sex'] == 'male')\n",
    "\n",
    "# Remove raws with NaN values\n",
    "df_features = df_features.dropna(axis = 0)\n",
    "\n",
    "# Create prediction output\n",
    "df_sur = pd.DataFrame(df_features['Survived'].copy(), columns = ['Survived'])\n",
    "df_features = df_features.drop(['Survived'], axis = 1)\n",
    "\n",
    "# Create features matrix\n",
    "X = df_features.as_matrix()\n",
    "# Create expecting output matrix\n",
    "y = df_sur.as_matrix()\n",
    "\n",
    "# Create and lean desicion tree\n",
    "clf = tree.DecisionTreeClassifier()\n",
    "clf = clf.fit(X, y)\n",
    "\n",
    "# Obtain feature importances\n",
    "importances = clf.feature_importances_\n",
    "\n",
    "# Find two main of them and write to output file\n",
    "max_importances_ids = importances.argsort()[-2:]\n",
    "res_features = ' '.join(df_features.columns[max_importances_ids].values)\n",
    "\n",
    "print('Features: ' + res_features)\n",
    "\n",
    "with open('feature_importance.txt', 'w') as out:\n",
    "    out.write(res_features)    "
   ]
  },
  {
   "cell_type": "markdown",
   "metadata": {},
   "source": [
    "Основные функции pandas\n",
    "\n",
    "read_csv()\n",
    "\n",
    "df.to_csv()\n",
    "\n",
    "df.sort_values()\n",
    "\n",
    "a = df.groupby() - группирует по уникальнымм значениям столбца (уже создает объект, то есть можно писать потом a.mean(), a.sum(), a.std())\n",
    "\n",
    "Можно просто потроить гистограмму.\n",
    "n.mean('Names').plot.bar()\n",
    "plt.show()\n",
    "\n",
    "df['State'].unique() - уникальные ключи в выбранном поле\n",
    "df['State'] = df.State.apply(lambda x: x.upper())\n",
    "\n",
    "df.loc['12'] - выберает строку 12 в нашей таблице, то есть это как оператор []"
   ]
  },
  {
   "cell_type": "code",
   "execution_count": 62,
   "metadata": {},
   "outputs": [
    {
     "name": "stdout",
     "output_type": "stream",
     "text": [
      "['Survived' 'Pclass' 'Name' 'Sex' 'Age' 'SibSp' 'Parch' 'Ticket' 'Fare'\n",
      " 'Cabin' 'Embarked']\n"
     ]
    },
    {
     "data": {
      "image/png": "[encoded data removed]",
      "text/plain": [
       "<matplotlib.figure.Figure at 0xf134898>"
      ]
     },
     "metadata": {},
     "output_type": "display_data"
    },
    {
     "data": {
      "image/png": "[encoded data removed]",
      "text/plain": [
       "<matplotlib.figure.Figure at 0xf99ddd8>"
      ]
     },
     "metadata": {},
     "output_type": "display_data"
    },
    {
     "data": {
      "image/png": "[encoded data removed]",
      "text/plain": [
       "<matplotlib.figure.Figure at 0x1283d390>"
      ]
     },
     "metadata": {},
     "output_type": "display_data"
    }
   ],
   "source": [
    "import numpy as np\n",
    "import pandas as pd\n",
    "import seaborn as sns\n",
    "import matplotlib.pyplot as plt\n",
    "\n",
    "train_df = pd.read_csv('titanic_train.csv', index_col = 'PassengerId')\n",
    "test_df = pd.read_csv('titanic_test.csv')\n",
    "\n",
    "print(train_df.columns.values)\n",
    "\n",
    "#train_df.head()\n",
    "#train_df.info()\n",
    "#train_df.describe() # distribution of numnerical features\n",
    "train_df.describe(include=['O']) # distribution of catogorized features\n",
    "\n",
    "\n",
    "\n",
    "train_df[['Pclass', 'Survived']].groupby(['Pclass']).mean()\n",
    "#train_df[['Sex', 'Survived']].groupby(['Sex']).mean()\n",
    "#train_df[['SibSp', 'Survived']].groupby(['SibSp']).mean().sort_values(by='Survived', ascending=False)\n",
    "\n",
    "g = sns.FacetGrid(train_df, col = 'Survived')\n",
    "g.map(plt.hist, 'Age', bins = 20)\n",
    "\n",
    "grid = sns.FacetGrid(train_df, col='Survived', row='Pclass', size=2.2, aspect=1.6)\n",
    "grid.map(plt.hist, 'Age', alpha=.5, bins=20)\n",
    "grid.add_legend();\n",
    "\n",
    "grid = sns.FacetGrid(train_df, row='Embarked', size=2.2, aspect=1.6)\n",
    "grid.map(sns.pointplot, 'Pclass', 'Survived', 'Sex', palette='deep')\n",
    "grid.add_legend()\n",
    "\n",
    "plt.show()"
   ]
  },
  {
   "cell_type": "code",
   "execution_count": 111,
   "metadata": {},
   "outputs": [
    {
     "name": "stdout",
     "output_type": "stream",
     "text": [
      "    Names  Year  Avg diff\n",
      "0     MAX  1958      35.3\n",
      "1    ALEX  2021      27.7\n",
      "2     BOB  1992       1.3\n",
      "3     BOB  2004      10.7\n",
      "4    ALEX  2000       6.7\n",
      "5     MAX  2013      19.7\n",
      "6    ALEX  1976      17.3\n",
      "7     MAX  1975      18.3\n",
      "8    ALEX  1999       5.7\n",
      "9  DMITRI  1995       1.7\n"
     ]
    },
    {
     "data": {
      "image/png": "[encoded data removed]",
      "text/plain": [
       "<matplotlib.figure.Figure at 0xc245e10>"
      ]
     },
     "metadata": {},
     "output_type": "display_data"
    }
   ],
   "source": [
    "import numpy as np\n",
    "import pandas as pd\n",
    "import random as rnd\n",
    "import matplotlib.pyplot as plt\n",
    "\n",
    "list_len = 10\n",
    "\n",
    "names = ['Bob', 'Alex', 'Dmitri', 'Andrew', 'Max']\n",
    "\n",
    "l_names = [names[rnd.randint(0, len(names)-1)] for i in range(list_len)]\n",
    "l_years = np.random.normal(2000, 20, list_len)\n",
    "\n",
    "data = zip(l_names, l_years)\n",
    "\n",
    "df = pd.DataFrame(data, columns = ['Names', 'Year'])\n",
    "# Apply round() function to all coulmn to convert from double to int\n",
    "df['Year'] = df['Year'].apply(lambda x : int(round(x)))\n",
    "df['Names'] = df['Names'].apply(lambda x : x.upper())\n",
    "# Add column\n",
    "df['Avg diff'] = np.abs(df['Year'] - df['Year'].mean())\n",
    "\n",
    "print(df)\n",
    "\n",
    "n = df.groupby('Names')\n",
    "n.mean().plot.bar()\n",
    "plt.show()\n",
    "\n",
    "#df['Year'].plot(figsize= (10,5))\n",
    "plt.show()"
   ]
  },
  {
   "cell_type": "code",
   "execution_count": 112,
   "metadata": {},
   "outputs": [
    {
     "name": "stdout",
     "output_type": "stream",
     "text": [
      "   Value  SQ\n",
      "0      0   0\n",
      "1      1   1\n",
      "2      2   4\n",
      "3      3   9\n",
      "4      4  16\n",
      "5      5  25\n",
      "6      6  36\n",
      "7      7  49\n",
      "8      8  64\n",
      "9      9  81\n"
     ]
    }
   ],
   "source": [
    "a = np.arange(10)\n",
    "b = a**2\n",
    "c = pd.DataFrame(zip(a,b), columns = ['Value', 'SQ'])\n",
    "print(c)\n",
    "c.loc[1]['SQ'] = 100\n",
    "d = pd.DataFrame(c['SQ'].copy(), columns = ['SQ'])\n",
    "\n",
    "\n",
    "\n",
    "X = [[0, 0], [1, 1]]\n",
    "Y = [0, 1]\n",
    "clf = tree.DecisionTreeClassifier()\n",
    "clf = clf.fit(X, Y)\n"
   ]
  }
 ],
 "metadata": {
  "kernelspec": {
   "display_name": "Python 2",
   "language": "python",
   "name": "python2"
  },
  "language_info": {
   "codemirror_mode": {
    "name": "ipython",
    "version": 2
   },
   "file_extension": ".py",
   "mimetype": "text/x-python",
   "name": "python",
   "nbconvert_exporter": "python",
   "pygments_lexer": "ipython2",
   "version": "2.7.13"
  }
 },
 "nbformat": 4,
 "nbformat_minor": 2
}
