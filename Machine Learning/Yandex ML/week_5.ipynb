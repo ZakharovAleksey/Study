{
 "cells": [
  {
   "cell_type": "code",
   "execution_count": 1,
   "metadata": {
    "collapsed": true
   },
   "outputs": [],
   "source": [
    "import numpy as np\n",
    "import matplotlib.pyplot as plt\n",
    "import pandas as pd\n",
    "import seaborn as sns"
   ]
  },
  {
   "cell_type": "markdown",
   "metadata": {},
   "source": [
    "# Задача 1. Размер случайного леса\n",
    "\n",
    "Загрузите данные из файла abalone.csv. Это датасет, в котором требуется предсказать возраст ракушки (число колец) по физическим измерениям."
   ]
  },
  {
   "cell_type": "code",
   "execution_count": 3,
   "metadata": {},
   "outputs": [
    {
     "data": {
      "text/html": [
       "<div>\n",
       "<style>\n",
       "    .dataframe thead tr:only-child th {\n",
       "        text-align: right;\n",
       "    }\n",
       "\n",
       "    .dataframe thead th {\n",
       "        text-align: left;\n",
       "    }\n",
       "\n",
       "    .dataframe tbody tr th {\n",
       "        vertical-align: top;\n",
       "    }\n",
       "</style>\n",
       "<table border=\"1\" class=\"dataframe\">\n",
       "  <thead>\n",
       "    <tr style=\"text-align: right;\">\n",
       "      <th></th>\n",
       "      <th>Sex</th>\n",
       "      <th>Length</th>\n",
       "      <th>Diameter</th>\n",
       "      <th>Height</th>\n",
       "      <th>WholeWeight</th>\n",
       "      <th>ShuckedWeight</th>\n",
       "      <th>VisceraWeight</th>\n",
       "      <th>ShellWeight</th>\n",
       "      <th>Rings</th>\n",
       "    </tr>\n",
       "  </thead>\n",
       "  <tbody>\n",
       "    <tr>\n",
       "      <th>0</th>\n",
       "      <td>M</td>\n",
       "      <td>0.455</td>\n",
       "      <td>0.365</td>\n",
       "      <td>0.095</td>\n",
       "      <td>0.5140</td>\n",
       "      <td>0.2245</td>\n",
       "      <td>0.1010</td>\n",
       "      <td>0.150</td>\n",
       "      <td>15</td>\n",
       "    </tr>\n",
       "    <tr>\n",
       "      <th>1</th>\n",
       "      <td>M</td>\n",
       "      <td>0.350</td>\n",
       "      <td>0.265</td>\n",
       "      <td>0.090</td>\n",
       "      <td>0.2255</td>\n",
       "      <td>0.0995</td>\n",
       "      <td>0.0485</td>\n",
       "      <td>0.070</td>\n",
       "      <td>7</td>\n",
       "    </tr>\n",
       "    <tr>\n",
       "      <th>2</th>\n",
       "      <td>F</td>\n",
       "      <td>0.530</td>\n",
       "      <td>0.420</td>\n",
       "      <td>0.135</td>\n",
       "      <td>0.6770</td>\n",
       "      <td>0.2565</td>\n",
       "      <td>0.1415</td>\n",
       "      <td>0.210</td>\n",
       "      <td>9</td>\n",
       "    </tr>\n",
       "    <tr>\n",
       "      <th>3</th>\n",
       "      <td>M</td>\n",
       "      <td>0.440</td>\n",
       "      <td>0.365</td>\n",
       "      <td>0.125</td>\n",
       "      <td>0.5160</td>\n",
       "      <td>0.2155</td>\n",
       "      <td>0.1140</td>\n",
       "      <td>0.155</td>\n",
       "      <td>10</td>\n",
       "    </tr>\n",
       "    <tr>\n",
       "      <th>4</th>\n",
       "      <td>I</td>\n",
       "      <td>0.330</td>\n",
       "      <td>0.255</td>\n",
       "      <td>0.080</td>\n",
       "      <td>0.2050</td>\n",
       "      <td>0.0895</td>\n",
       "      <td>0.0395</td>\n",
       "      <td>0.055</td>\n",
       "      <td>7</td>\n",
       "    </tr>\n",
       "  </tbody>\n",
       "</table>\n",
       "</div>"
      ],
      "text/plain": [
       "  Sex  Length  Diameter  Height  WholeWeight  ShuckedWeight  VisceraWeight  \\\n",
       "0   M   0.455     0.365   0.095       0.5140         0.2245         0.1010   \n",
       "1   M   0.350     0.265   0.090       0.2255         0.0995         0.0485   \n",
       "2   F   0.530     0.420   0.135       0.6770         0.2565         0.1415   \n",
       "3   M   0.440     0.365   0.125       0.5160         0.2155         0.1140   \n",
       "4   I   0.330     0.255   0.080       0.2050         0.0895         0.0395   \n",
       "\n",
       "   ShellWeight  Rings  \n",
       "0        0.150     15  \n",
       "1        0.070      7  \n",
       "2        0.210      9  \n",
       "3        0.155     10  \n",
       "4        0.055      7  "
      ]
     },
     "execution_count": 3,
     "metadata": {},
     "output_type": "execute_result"
    }
   ],
   "source": [
    "data = pd.read_csv('abalone.csv')\n",
    "data.head()"
   ]
  },
  {
   "cell_type": "markdown",
   "metadata": {},
   "source": [
    "Преобразуйте признак Sex в числовой: значение F должно перейти в -1, I — в 0, M — в 1. Если вы используете Pandas, то подойдет следующий код: data['Sex'] = data['Sex'].map(lambda x: 1 if x == 'M' else (-1 if x == 'F' else 0))"
   ]
  },
  {
   "cell_type": "code",
   "execution_count": 4,
   "metadata": {},
   "outputs": [
    {
     "data": {
      "text/html": [
       "<div>\n",
       "<style>\n",
       "    .dataframe thead tr:only-child th {\n",
       "        text-align: right;\n",
       "    }\n",
       "\n",
       "    .dataframe thead th {\n",
       "        text-align: left;\n",
       "    }\n",
       "\n",
       "    .dataframe tbody tr th {\n",
       "        vertical-align: top;\n",
       "    }\n",
       "</style>\n",
       "<table border=\"1\" class=\"dataframe\">\n",
       "  <thead>\n",
       "    <tr style=\"text-align: right;\">\n",
       "      <th></th>\n",
       "      <th>Sex</th>\n",
       "      <th>Length</th>\n",
       "      <th>Diameter</th>\n",
       "      <th>Height</th>\n",
       "      <th>WholeWeight</th>\n",
       "      <th>ShuckedWeight</th>\n",
       "      <th>VisceraWeight</th>\n",
       "      <th>ShellWeight</th>\n",
       "      <th>Rings</th>\n",
       "    </tr>\n",
       "  </thead>\n",
       "  <tbody>\n",
       "    <tr>\n",
       "      <th>0</th>\n",
       "      <td>1</td>\n",
       "      <td>0.455</td>\n",
       "      <td>0.365</td>\n",
       "      <td>0.095</td>\n",
       "      <td>0.5140</td>\n",
       "      <td>0.2245</td>\n",
       "      <td>0.1010</td>\n",
       "      <td>0.150</td>\n",
       "      <td>15</td>\n",
       "    </tr>\n",
       "    <tr>\n",
       "      <th>1</th>\n",
       "      <td>1</td>\n",
       "      <td>0.350</td>\n",
       "      <td>0.265</td>\n",
       "      <td>0.090</td>\n",
       "      <td>0.2255</td>\n",
       "      <td>0.0995</td>\n",
       "      <td>0.0485</td>\n",
       "      <td>0.070</td>\n",
       "      <td>7</td>\n",
       "    </tr>\n",
       "    <tr>\n",
       "      <th>2</th>\n",
       "      <td>-1</td>\n",
       "      <td>0.530</td>\n",
       "      <td>0.420</td>\n",
       "      <td>0.135</td>\n",
       "      <td>0.6770</td>\n",
       "      <td>0.2565</td>\n",
       "      <td>0.1415</td>\n",
       "      <td>0.210</td>\n",
       "      <td>9</td>\n",
       "    </tr>\n",
       "    <tr>\n",
       "      <th>3</th>\n",
       "      <td>1</td>\n",
       "      <td>0.440</td>\n",
       "      <td>0.365</td>\n",
       "      <td>0.125</td>\n",
       "      <td>0.5160</td>\n",
       "      <td>0.2155</td>\n",
       "      <td>0.1140</td>\n",
       "      <td>0.155</td>\n",
       "      <td>10</td>\n",
       "    </tr>\n",
       "    <tr>\n",
       "      <th>4</th>\n",
       "      <td>0</td>\n",
       "      <td>0.330</td>\n",
       "      <td>0.255</td>\n",
       "      <td>0.080</td>\n",
       "      <td>0.2050</td>\n",
       "      <td>0.0895</td>\n",
       "      <td>0.0395</td>\n",
       "      <td>0.055</td>\n",
       "      <td>7</td>\n",
       "    </tr>\n",
       "  </tbody>\n",
       "</table>\n",
       "</div>"
      ],
      "text/plain": [
       "   Sex  Length  Diameter  Height  WholeWeight  ShuckedWeight  VisceraWeight  \\\n",
       "0    1   0.455     0.365   0.095       0.5140         0.2245         0.1010   \n",
       "1    1   0.350     0.265   0.090       0.2255         0.0995         0.0485   \n",
       "2   -1   0.530     0.420   0.135       0.6770         0.2565         0.1415   \n",
       "3    1   0.440     0.365   0.125       0.5160         0.2155         0.1140   \n",
       "4    0   0.330     0.255   0.080       0.2050         0.0895         0.0395   \n",
       "\n",
       "   ShellWeight  Rings  \n",
       "0        0.150     15  \n",
       "1        0.070      7  \n",
       "2        0.210      9  \n",
       "3        0.155     10  \n",
       "4        0.055      7  "
      ]
     },
     "execution_count": 4,
     "metadata": {},
     "output_type": "execute_result"
    }
   ],
   "source": [
    "data['Sex'] = data['Sex'].map(lambda x: 1 if x == 'M' else (-1 if x == 'F' else 0))\n",
    "data.head()"
   ]
  },
  {
   "cell_type": "markdown",
   "metadata": {},
   "source": [
    "Разделите содержимое файлов на признаки и целевую переменную. В последнем столбце записана целевая переменная, в остальных — признаки."
   ]
  },
  {
   "cell_type": "code",
   "execution_count": 10,
   "metadata": {},
   "outputs": [],
   "source": [
    "X = data.drop(['Rings'], axis=1)\n",
    "y = data.drop(data.columns.values[:-1], axis=1)"
   ]
  },
  {
   "cell_type": "markdown",
   "metadata": {},
   "source": [
    "Обучите случайный лес (sklearn.ensemble.RandomForestRegressor) с различным числом деревьев: от 1 до 50 (не забудьте выставить \"random_state=1\" в конструкторе). Для каждого из вариантов оцените качество работы полученного леса на кросс-валидации по 5 блокам. Используйте параметры \"random_state=1\" и \"shuffle=True\" при создании генератора кросс-валидации sklearn.cross_validation.KFold. В качестве меры качества воспользуйтесь коэффициентом детерминации (sklearn.metrics.r2_score)."
   ]
  },
  {
   "cell_type": "code",
   "execution_count": 25,
   "metadata": {},
   "outputs": [
    {
     "name": "stdout",
     "output_type": "stream",
     "text": [
      "(4177, 8)\n",
      "[0.10213869487724367, 0.33841675515802144, 0.40357984946186909, 0.44272239896668103, 0.46402076606749693, 0.47058163275877918, 0.47583061635230062, 0.4817418456255852, 0.4883478130215681, 0.49446412480247826, 0.4933965550001963, 0.49796587639761541, 0.50213646057228534, 0.50642869622573283, 0.50833119704321006, 0.51051314383221469, 0.51384829479930283, 0.51632754127394931, 0.51903468813638798, 0.51867359287238224, 0.51983542335425015, 0.52015835367222107, 0.52101727093662509, 0.52240318258080909, 0.52261746396760711, 0.52380615817170517, 0.52412235221889814, 0.52505374512324399, 0.52597037563489313, 0.52653782166757546, 0.52709985443060225, 0.52838940820927838, 0.52961655612292768, 0.52956395544383794, 0.52951724744047302, 0.5295996267890184, 0.52913141344745995, 0.52916025763348329, 0.52924098102743389, 0.52906701596316297, 0.52934200569111833, 0.52957320653375461, 0.52937549466485323, 0.52911923375632508, 0.52837546602772023, 0.52852042754934581, 0.52870494457919082, 0.52961275154377341, 0.53039445544344976]\n"
     ]
    }
   ],
   "source": [
    "from sklearn.model_selection import KFold\n",
    "from sklearn.ensemble import RandomForestRegressor\n",
    "from sklearn.metrics import r2_score\n",
    "\n",
    "kf = KFold(n_splits=5, shuffle=True, random_state=1)\n",
    "\n",
    "print(X.shape)\n",
    "\n",
    "mean_score = []\n",
    "for i in np.arange(1,50,1):\n",
    "    clf = RandomForestRegressor(n_estimators=i, random_state=1)\n",
    "    cur_score = 0.\n",
    "    for train_index, test_index in kf.split(X):\n",
    "        X_train, X_test = X.iloc[train_index], X.iloc[test_index]\n",
    "        y_train, y_test = y.iloc[train_index].as_matrix().ravel(), y.iloc[test_index].as_matrix().ravel()\n",
    "        clf.fit(X_train, y_train)\n",
    "        y_out = clf.predict(X_test)\n",
    "        cur_score += r2_score(y_test, y_out)\n",
    "    mean_score.append(cur_score/5.)\n",
    "print(mean_score)\n"
   ]
  },
  {
   "cell_type": "code",
   "execution_count": 29,
   "metadata": {},
   "outputs": [
    {
     "name": "stdout",
     "output_type": "stream",
     "text": [
      "22\n"
     ]
    }
   ],
   "source": [
    "opt_tree_numb = 0\n",
    "\n",
    "for i in range(len(mean_score)):\n",
    "    if mean_score[i] > 0.52:\n",
    "        opt_tree_numb = i + 1\n",
    "        break\n",
    "        \n",
    "print(opt_tree_numb)\n",
    "with open('5_1.txt', 'w') as out_f:\n",
    "    out_f.write(str(opt_tree_numb + 1))"
   ]
  },
  {
   "cell_type": "markdown",
   "metadata": {},
   "source": [
    "Обратите внимание на изменение качества по мере роста числа деревьев. **Ухудшается ли оно?**\n",
    "\n",
    "- Качество не ухудшается, а выходит на некотороый стабильный уровень, что говорит о том что при дальнейшем увеличении деревьев не происходит переобучения, что вызвано тем что исползуются не все признаки для каждого из решающих деревьев."
   ]
  },
  {
   "cell_type": "code",
   "execution_count": 41,
   "metadata": {},
   "outputs": [
    {
     "data": {
      "image/png": "[encoded data removed]",
      "text/plain": [
       "<matplotlib.figure.Figure at 0x11b70e80>"
      ]
     },
     "metadata": {},
     "output_type": "display_data"
    }
   ],
   "source": [
    "fig, ax = plt.subplots(figsize=(10,5))\n",
    "ax.plot(np.arange(1, len(mean_score)+1), mean_score, color='C0')\n",
    "ax.set_xlabel('Number of trees')\n",
    "ax.set_xticks(np.arange(0, len(mean_score) + 1, 5))\n",
    "ax.set_ylabel('Mean score')\n",
    "ax.set_title('Dependency of score from number of trees')\n",
    "ax.grid('on')\n",
    "plt.show()"
   ]
  },
  {
   "cell_type": "markdown",
   "metadata": {},
   "source": [
    "# Задание 2. Градиентный бустинг над решающими деревьями\n",
    "\n",
    "Загрузите выборку из файла gbm-data.csv с помощью pandas и преобразуйте ее в массив numpy (параметр values у датафрейма). В первой колонке файла с данными записано, была или нет реакция. Все остальные колонки (d1 - d1776) содержат различные характеристики молекулы, такие как размер, форма и т.д. Разбейте выборку на обучающую и тестовую, используя функцию train_test_split с параметрами test_size = 0.8 и random_state = 241."
   ]
  },
  {
   "cell_type": "code",
   "execution_count": 62,
   "metadata": {},
   "outputs": [],
   "source": [
    "from sklearn.cross_validation import train_test_split\n",
    "data = pd.read_csv('gbm-data.csv')\n",
    "data.head()\n",
    "\n",
    "X = data.drop(['Activity'], axis=1).values\n",
    "y = data['Activity'].values\n",
    "\n",
    "X_train, X_test, y_train, y_test = train_test_split(X, y,  test_size=0.8, random_state=241)"
   ]
  },
  {
   "cell_type": "markdown",
   "metadata": {},
   "source": [
    "Обучите GradientBoostingClassifier с параметрами n_estimators=250, verbose=True, random_state=241 и для каждого значения learning_rate из списка [1, 0.5, 0.3, 0.2, 0.1] проделайте следующее:\n",
    "- Используйте метод staged_decision_function для предсказания качества на обучающей и тестовой выборке на каждой итерации.\n",
    "- Преобразуйте полученное предсказание с помощью сигмоидной функции по формуле 1 / (1 + e^{−y_pred}), где y_pred — предсказанное значение.\n",
    "- Вычислите и постройте график значений log-loss (которую можно посчитать с помощью функции sklearn.metrics.log_loss) на обучающей и тестовой выборках, а также найдите минимальное значение метрики и номер итерации, на которой оно достигается."
   ]
  },
  {
   "cell_type": "code",
   "execution_count": 68,
   "metadata": {},
   "outputs": [
    {
     "name": "stdout",
     "output_type": "stream",
     "text": [
      "      Iter       Train Loss   Remaining Time \n",
      "         1           1.0190           19.17s\n",
      "         2           0.9192           19.34s\n",
      "         3           0.8272           18.28s\n",
      "         4           0.7834           17.40s\n",
      "         5           0.7109           16.95s\n",
      "         6           0.6368           17.32s\n",
      "         7           0.5797           17.43s\n",
      "         8           0.5610           16.85s\n",
      "         9           0.5185           16.60s\n",
      "        10           0.4984           16.39s\n",
      "        20           0.1999           16.55s\n",
      "        30           0.1313           15.08s\n",
      "        40           0.0790           14.05s\n",
      "        50           0.0511           13.16s\n",
      "        60           0.0352           12.41s\n",
      "        70           0.0245           11.61s\n",
      "        80           0.0162           10.93s\n",
      "        90           0.0114           10.25s\n",
      "       100           0.0077            9.58s\n",
      "       200           0.0004            2.81s\n"
     ]
    },
    {
     "data": {
      "text/plain": [
       "<matplotlib.figure.Figure at 0x10e956a0>"
      ]
     },
     "metadata": {},
     "output_type": "display_data"
    },
    {
     "data": {
      "image/png": "[encoded data removed]",
      "text/plain": [
       "<matplotlib.figure.Figure at 0x102614a8>"
      ]
     },
     "metadata": {},
     "output_type": "display_data"
    },
    {
     "name": "stdout",
     "output_type": "stream",
     "text": [
      "      Iter       Train Loss   Remaining Time \n",
      "         1           1.1255           19.42s\n",
      "         2           1.0035           19.34s\n",
      "         3           0.9386           31.29s\n",
      "         4           0.8844           28.78s\n",
      "         5           0.8381           26.26s\n",
      "         6           0.7995           24.97s\n",
      "         7           0.7559           23.57s\n",
      "         8           0.7205           22.48s\n",
      "         9           0.6958           21.53s\n",
      "        10           0.6725           21.02s\n",
      "        20           0.4672           18.92s\n",
      "        30           0.3179           16.76s\n",
      "        40           0.2274           15.36s\n",
      "        50           0.1774           14.20s\n",
      "        60           0.1394           13.24s\n",
      "        70           0.1050           12.42s\n",
      "        80           0.0805           11.60s\n",
      "        90           0.0650           10.76s\n",
      "       100           0.0511           10.06s\n",
      "       200           0.0058            3.19s\n"
     ]
    },
    {
     "data": {
      "text/plain": [
       "<matplotlib.figure.Figure at 0x10c277b8>"
      ]
     },
     "metadata": {},
     "output_type": "display_data"
    },
    {
     "data": {
      "image/png": "[encoded data removed]",
      "text/plain": [
       "<matplotlib.figure.Figure at 0xff19d68>"
      ]
     },
     "metadata": {},
     "output_type": "display_data"
    },
    {
     "name": "stdout",
     "output_type": "stream",
     "text": [
      "      Iter       Train Loss   Remaining Time \n",
      "         1           1.2095           19.42s\n",
      "         2           1.1006           19.59s\n",
      "         3           1.0240           33.02s\n",
      "         4           0.9729           31.61s\n",
      "         5           0.9387           28.18s\n",
      "         6           0.8948           26.84s\n",
      "         7           0.8621           25.17s\n",
      "         8           0.8360           23.75s\n",
      "         9           0.8171           22.60s\n",
      "        10           0.7883           21.94s\n",
      "        20           0.6164           19.49s\n",
      "        30           0.4933           16.98s\n",
      "        40           0.4248           15.21s\n",
      "        50           0.3345           14.18s\n",
      "        60           0.2760           13.18s\n",
      "        70           0.2263           12.35s\n",
      "        80           0.1971           11.45s\n",
      "        90           0.1693           10.68s\n",
      "       100           0.1388           10.40s\n",
      "       200           0.0294            3.43s\n"
     ]
    },
    {
     "data": {
      "text/plain": [
       "<matplotlib.figure.Figure at 0x11971588>"
      ]
     },
     "metadata": {},
     "output_type": "display_data"
    },
    {
     "data": {
      "image/png": "[encoded data removed]",
      "text/plain": [
       "<matplotlib.figure.Figure at 0x1071b860>"
      ]
     },
     "metadata": {},
     "output_type": "display_data"
    },
    {
     "name": "stdout",
     "output_type": "stream",
     "text": [
      "      Iter       Train Loss   Remaining Time \n",
      "         1           1.2613           19.42s\n",
      "         2           1.1715           20.46s\n",
      "         3           1.1009           41.08s\n",
      "         4           1.0529           35.79s\n",
      "         5           1.0130           32.39s\n",
      "         6           0.9740           30.66s\n",
      "         7           0.9475           28.29s\n",
      "         8           0.9197           27.29s\n",
      "         9           0.8979           27.39s\n",
      "        10           0.8730           31.22s\n",
      "        20           0.7207           21.94s\n",
      "        30           0.6055           20.01s\n",
      "        40           0.5244           17.51s\n",
      "        50           0.4501           15.78s\n",
      "        60           0.3908           14.41s\n",
      "        70           0.3372           13.66s\n",
      "        80           0.3009           12.96s\n",
      "        90           0.2603           12.20s\n",
      "       100           0.2327           11.43s\n",
      "       200           0.0835            3.81s\n"
     ]
    },
    {
     "data": {
      "text/plain": [
       "<matplotlib.figure.Figure at 0x11bca518>"
      ]
     },
     "metadata": {},
     "output_type": "display_data"
    },
    {
     "data": {
      "image/png": "[encoded data removed]",
      "text/plain": [
       "<matplotlib.figure.Figure at 0x10617128>"
      ]
     },
     "metadata": {},
     "output_type": "display_data"
    },
    {
     "name": "stdout",
     "output_type": "stream",
     "text": [
      "      Iter       Train Loss   Remaining Time \n",
      "         1           1.3199           19.67s\n",
      "         2           1.2645           19.59s\n",
      "         3           1.2170           27.66s\n",
      "         4           1.1775           28.47s\n",
      "         5           1.1404           26.51s\n",
      "         6           1.1106           25.17s\n",
      "         7           1.0844           24.23s\n",
      "         8           1.0617           23.72s\n",
      "         9           1.0411           23.14s\n",
      "        10           1.0223           22.63s\n",
      "        20           0.8864           20.64s\n",
      "        30           0.7844           17.80s\n",
      "        40           0.7176           15.90s\n",
      "        50           0.6590           14.50s\n",
      "        60           0.6120           13.39s\n",
      "        70           0.5599           12.47s\n",
      "        80           0.5242           11.58s\n",
      "        90           0.4829           10.80s\n",
      "       100           0.4473           10.03s\n",
      "       200           0.2379            3.18s\n"
     ]
    },
    {
     "data": {
      "text/plain": [
       "<matplotlib.figure.Figure at 0x106374e0>"
      ]
     },
     "metadata": {},
     "output_type": "display_data"
    },
    {
     "data": {
      "image/png": "[encoded data removed]",
      "text/plain": [
       "<matplotlib.figure.Figure at 0x100a76d8>"
      ]
     },
     "metadata": {},
     "output_type": "display_data"
    },
    {
     "name": "stdout",
     "output_type": "stream",
     "text": [
      "Value: 0.582, Iteration: 0\n",
      "Value: 0.558, Iteration: 6\n",
      "Value: 0.542, Iteration: 10\n",
      "Value: 0.531, Iteration: 36\n",
      "Value: 0.527, Iteration: 51\n"
     ]
    }
   ],
   "source": [
    "from sklearn.ensemble import GradientBoostingClassifier\n",
    "from sklearn.metrics import log_loss\n",
    "from scipy.special import expit\n",
    "\n",
    "est_numb=250\n",
    "learning_rates = [1, 0.5, 0.3, 0.2, 0.1]\n",
    "\n",
    "\n",
    "def log_loss_res(clf, X, y):\n",
    "    results = []\n",
    "    for y_pred in clf.staged_decision_function(X):\n",
    "        results.append(log_loss(y, [expit(x) for x in y_pred]))\n",
    "    return results\n",
    "\n",
    "def print_loss_curve(train_loss, test_loss):\n",
    "    plt.clf()\n",
    "    fig, ax = plt.subplots(figsize=(8,5))\n",
    "    ax.plot(np.arange(0, est_numb), train_loss, color='C0', lw=3, alpha=0.5, label='Train loss')\n",
    "    ax.plot(np.arange(0, est_numb),  test_loss, color='C1', lw=3, alpha=0.5, label='Test loss')\n",
    "    ax.set_xlabel('Iteration')\n",
    "    ax.set_ylabel('Log Loss')\n",
    "    ax.set_title('Learinig rate {0}'.format(cur_lr))\n",
    "    ax.grid('on')\n",
    "    handles, labels = ax.get_legend_handles_labels()\n",
    "    ax.legend(handles, labels)\n",
    "    plt.savefig('Learinig rate {0}'.format(cur_lr) + '.png')\n",
    "    plt.show()\n",
    "\n",
    "min_loss = []\n",
    "for cur_lr in learning_rates:\n",
    "    clf = GradientBoostingClassifier(learning_rate = cur_lr, n_estimators=est_numb, verbose=True, random_state=241)\n",
    "    clf.fit(X_train, y_train)\n",
    "    \n",
    "    train_loss = log_loss_res(clf, X_train, y_train)\n",
    "    test_loss = log_loss_res(clf, X_test, y_test)\n",
    "    print_loss_curve(train_loss, test_loss)\n",
    "    \n",
    "    min_loss_value = np.min(test_loss)\n",
    "    min_loss_index = test_loss.index(min_loss_value)\n",
    "    min_loss.append((min_loss_value, min_loss_index))\n",
    "\n",
    "for i in min_loss:\n",
    "    print('Value: {:.3f}, Iteration: {:}'.format(i[0], i[1]))"
   ]
  },
  {
   "cell_type": "markdown",
   "metadata": {},
   "source": [
    "Как можно охарактеризовать график качества на тестовой выборке, начиная с некоторой итерации: переобучение (overfitting) или недообучение (underfitting)? В ответе укажите одно из слов overfitting либо underfitting."
   ]
  },
  {
   "cell_type": "code",
   "execution_count": 72,
   "metadata": {
    "collapsed": true
   },
   "outputs": [],
   "source": [
    "with open('5_2_1.txt', 'w') as out_f:\n",
    "    out_f.write('overfitting')"
   ]
  },
  {
   "cell_type": "markdown",
   "metadata": {},
   "source": [
    "Приведите минимальное значение log-loss на тестовой выборке и номер итерации, на котором оно достигается, при learning_rate = 0.2."
   ]
  },
  {
   "cell_type": "code",
   "execution_count": 73,
   "metadata": {},
   "outputs": [],
   "source": [
    "with open('5_2_2.txt', 'w') as out_f:\n",
    "    out_f.write('{:.3f} {}'.format(min_loss[3][0], min_loss[3][1]))"
   ]
  },
  {
   "cell_type": "markdown",
   "metadata": {},
   "source": [
    "На этих же данных обучите RandomForestClassifier с количеством деревьев, равным количеству итераций, на котором достигается наилучшее качество у градиентного бустинга из предыдущего пункта, c random_state=241 и остальными параметрами по умолчанию. \n",
    "\n",
    "Какое значение log-loss на тесте получается у этого случайного леса? (Не забывайте, что предсказания нужно получать с помощью функции predict_proba. В данном случае брать сигмоиду от оценки вероятности класса не нужно)"
   ]
  },
  {
   "cell_type": "code",
   "execution_count": 81,
   "metadata": {},
   "outputs": [
    {
     "name": "stdout",
     "output_type": "stream",
     "text": [
      "0.54138128618\n"
     ]
    }
   ],
   "source": [
    "from sklearn.ensemble import RandomForestClassifier\n",
    "est_num =  min_loss[3][1]\n",
    "\n",
    "clf = RandomForestClassifier(n_estimators=est_num, random_state=241)\n",
    "clf.fit(X_train, y_train)\n",
    "y_out = clf.predict_proba(X_test)\n",
    "res = log_loss(y_test, y_out)\n",
    "print(res)\n",
    "\n",
    "with open('5_2_3.txt', 'w') as out_f:\n",
    "    out_f.write(str(res))"
   ]
  }
 ],
 "metadata": {
  "kernelspec": {
   "display_name": "Python 2",
   "language": "python",
   "name": "python2"
  },
  "language_info": {
   "codemirror_mode": {
    "name": "ipython",
    "version": 2
   },
   "file_extension": ".py",
   "mimetype": "text/x-python",
   "name": "python",
   "nbconvert_exporter": "python",
   "pygments_lexer": "ipython2",
   "version": "2.7.13"
  }
 },
 "nbformat": 4,
 "nbformat_minor": 2
}
