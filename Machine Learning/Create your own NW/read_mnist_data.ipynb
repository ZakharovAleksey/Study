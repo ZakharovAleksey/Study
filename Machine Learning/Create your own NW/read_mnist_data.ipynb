{
 "cells": [
  {
   "cell_type": "markdown",
   "metadata": {},
   "source": [
    "Получение изображений цифр из базы данных и их визуализация."
   ]
  },
  {
   "cell_type": "code",
   "execution_count": 16,
   "metadata": {
    "collapsed": true
   },
   "outputs": [],
   "source": [
    "import os, sys\n",
    "\n",
    "file_path = os.path.join(os.getcwd(), 'mnist_dataset', 'mnist_train_100.csv')\n",
    "\n",
    "data_file = open(file_path, 'r')\n",
    "data_list = data_file.readlines()\n",
    "data_file.close()"
   ]
  },
  {
   "cell_type": "code",
   "execution_count": 21,
   "metadata": {},
   "outputs": [
    {
     "data": {
      "image/png": "[encoded data removed]",
      "text/plain": [
       "<matplotlib.figure.Figure at 0xac3e240>"
      ]
     },
     "metadata": {},
     "output_type": "display_data"
    },
    {
     "name": "stdout",
     "output_type": "stream",
     "text": [
      "number = 2\n"
     ]
    }
   ],
   "source": [
    "import numpy as np\n",
    "import matplotlib.pyplot as plt\n",
    "\n",
    "# Индекс элемента который показать\n",
    "number_index = 5\n",
    "\n",
    "all_values = data_list[number_index].split(',')\n",
    "# Не смотрим на первый элемент так как он показыввает что за цифра на картинке\n",
    "image_array = np.asfarray(all_values[1:]).reshape((28,28))\n",
    "\n",
    "plt.imshow(image_array, cmap='Greys', interpolation='None')\n",
    "plt.show()\n",
    "print('number = {0}'.format(all_values[0]))\n"
   ]
  }
 ],
 "metadata": {
  "kernelspec": {
   "display_name": "Python 2",
   "language": "python",
   "name": "python2"
  },
  "language_info": {
   "codemirror_mode": {
    "name": "ipython",
    "version": 2
   },
   "file_extension": ".py",
   "mimetype": "text/x-python",
   "name": "python",
   "nbconvert_exporter": "python",
   "pygments_lexer": "ipython2",
   "version": "2.7.13"
  }
 },
 "nbformat": 4,
 "nbformat_minor": 2
}
