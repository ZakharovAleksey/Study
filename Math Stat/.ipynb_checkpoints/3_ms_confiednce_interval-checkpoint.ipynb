{
 "cells": [
  {
   "cell_type": "code",
   "execution_count": 83,
   "metadata": {},
   "outputs": [],
   "source": [
    "import numpy as np\n",
    "import pandas as pd\n",
    "import matplotlib.pyplot as plt\n",
    "import seaborn as sns\n",
    "import scipy.stats\n",
    "\n",
    "np.random.seed(0)\n",
    "n = 10000\n",
    "mu = 1.\n",
    "sigma = 5.\n",
    "\n",
    "sample = np.random.normal(mu, sigma, n)"
   ]
  },
  {
   "cell_type": "markdown",
   "metadata": {},
   "source": [
    "# Доверительные интервалы"
   ]
  },
  {
   "cell_type": "markdown",
   "metadata": {},
   "source": [
    "Рассмотрим для нормального распределения.\n",
    "\n",
    "## 1. НЕизвестное мат ожидание, известная дисперсия.\n",
    "\n",
    "Генеральная совокупность имеет нормальное распределение $\\xi$ ~ $N(\\theta, \\sigma^{2})$.\n",
    "\n",
    "Выберем в качестве оценки мат ожидания выборочное среднее: $\\overline{x} = \\frac{1}{n}\\sum_{i}^{n}x_{i}$.\n",
    "Определеим распределение выборочного среднего:\n",
    "1. Математическое ожидание. \n",
    "\\begin{equation*}\n",
    "    E\\overline{x}=E(\\frac{1}{n}\\sum_{i}^{n}x_{i})=\\frac{1}{n}\\sum_{i}^{n}E(x_{i})=\\frac{1}{n}n\\theta=\\theta.\n",
    "\\end{equation*}\n",
    "2. Дисперсия. \n",
    "\\begin{equation*}\n",
    "    D\\overline{x}=D(\\frac{1}{n}\\sum_{i}^{n}x_{i})=\\frac{1}{n^{2}}\\sum_{i}^{n}D(x_{i})=\\frac{1}{n^{2}}n\\sigma^{2}=\\frac{1}{n}\\sigma^{2}\n",
    "\\end{equation*}\n",
    "\n",
    "Таким образом, выборочное среденее имеет Нормальное распределение $\\overline{x}$~$N(\\theta, \\frac{1}{n}\\sigma^{2})$.\n",
    "\n",
    "Отнормируем полученное распределние к стандратному нормальному распределению, т.е. другими словами мы построим статистику:\n",
    "\n",
    "\\begin{equation*}\n",
    "    S=\\frac{\\overline{x}-mu}{\\sigma\\sqrt n},\n",
    "\\end{equation*}\n",
    "у которой можно опредлить квантили соответствующие уровню доверия $\\alpha$. \n",
    "Таким образом, мы получим:\n",
    "\\begin{equation*}\n",
    "    P\\Big(u_{\\alpha/2} < \\frac{\\overline{x}-\\theta}{\\sigma\\sqrt n} < u_{1-\\alpha/2}\\Big)=1-\\alpha \\rightarrow \n",
    "    P\\Big(\\overline{x}-\\frac{\\sigma}{\\sqrt n} u_{1-\\alpha/2} < \\theta < \\overline{x}+\\frac{\\sigma}{\\sqrt n} u_{\\alpha/2}\\Big)=1-\\alpha.\n",
    "\\end{equation*}\n",
    "\n",
    "Таким образом доверительний интервал для $\\mu$ : \n",
    "\\begin{equation*}\n",
    "    \\Big(\\overline{x}-\\frac{\\sigma}{\\sqrt n} u_{1-\\alpha/2} \\quad;\\quad \\overline{x}+\\frac{\\sigma}{\\sqrt n} u_{\\alpha/2}\\Big).\n",
    "\\end{equation*}\n"
   ]
  },
  {
   "cell_type": "code",
   "execution_count": 110,
   "metadata": {},
   "outputs": [
    {
     "data": {
      "image/png": "[encoded data removed]",
      "text/plain": [
       "<matplotlib.figure.Figure at 0xf672c88>"
      ]
     },
     "metadata": {},
     "output_type": "display_data"
    },
    {
     "name": "stdout",
     "output_type": "stream",
     "text": [
      "Interval = [0.810 ; 1.006]. Real value: 1.0\n"
     ]
    }
   ],
   "source": [
    "fig, ax = plt.subplots(figsize=(20,5))\n",
    "ax.hist(sample, 50, color = 'C2', alpha=0.5)\n",
    "\n",
    "def confidence_interval_mu(sample, alpha, sigma):\n",
    "    x_ = np.mean(sample)\n",
    "    n = float(sample.shape[0])\n",
    "    u_l = scipy.stats.norm.ppf(alpha/2.)\n",
    "    u_r = scipy.stats.norm.ppf(1.-alpha/2.)\n",
    "    \n",
    "    left  = x_ - sigma * u_r / np.sqrt(n)\n",
    "    right = x_ - sigma * u_l / np.sqrt(n)\n",
    "    \n",
    "    return left, right\n",
    "\n",
    "l, r = confidence_interval_mu(sample, 0.05, sigma)\n",
    "ax.axvspan(l, r, alpha=0.5, color='red')\n",
    "ax.set_title(r'Confidence interval for $\\mu$.', fontsize = 19)\n",
    "ax.set_xlim([-15, 15])\n",
    "plt.show()\n",
    "\n",
    "print(r'Interval = [{:.3f} ; {:.3f}]. Real value: {}'.format(l, r, mu))"
   ]
  },
  {
   "cell_type": "markdown",
   "metadata": {},
   "source": [
    "Рассмотрим для нормального распределения. (стр. 146 Лагутенко)\n",
    "\n",
    "## 2. Известное мат ожидание, Неизвестная дисперсия.\n",
    "\n",
    "Генеральная совокупность имеет нормальное распределение $\\xi$ ~ $N(\\mu, \\theta^{2})$.\n",
    "\n",
    "Следующая статистика имееет распределение $\\chi^{2}$, т.к. по построению статистики видно что это сумма стандратно нормально распределенных случайных величин: \n",
    "\n",
    "\\begin{equation*}\n",
    "    S = \\sum_{i}\\Big(\\frac{x_{i}-\\mu}{\\theta}\\Big)^{2},\n",
    "\\end{equation*}\n",
    "\n",
    "у которой можно опредлить квантили соответствующие уровню доверия $\\alpha$. \n",
    "Таким образом, мы получим:\n",
    "\\begin{equation*}\n",
    "    P\\Big(u_{\\alpha/2} < \\sum_{i}\\Big(\\frac{x_{i}-\\mu}{\\theta}\\Big)^{2} < u_{1-\\alpha/2}\\Big)=1-\\alpha \\rightarrow \n",
    "    P\\Big( \\frac{\\sum_{i}^{n} (x_{i}-\\mu)^{2}}{u_{1-\\alpha/2}} < \\theta^{2} < \\frac{\\sum_{i}^{n}(x_{i}-\\mu)^{2}}{u_{\\alpha/2}} \\Big)=1-\\alpha.\n",
    "\\end{equation*}\n",
    "\n",
    "Таким образом доверительний интервал для $\\sigma^{2}$ : \n",
    "\\begin{equation*}\n",
    "    \\Big( \\sqrt{\\frac{\\sum_{i}^{n} (x_{i}-\\mu)^{2}}{u_{1-\\alpha/2}}} \\quad;\\quad \\sqrt{\\frac{\\sum_{i}^{n}(x_{i}-\\mu)^{2}}{u_{\\alpha/2}}} \\Big)\n",
    "\\end{equation*}\n"
   ]
  },
  {
   "cell_type": "code",
   "execution_count": 119,
   "metadata": {},
   "outputs": [
    {
     "name": "stdout",
     "output_type": "stream",
     "text": [
      "243901.944347\n"
     ]
    },
    {
     "data": {
      "image/png": "[encoded data removed]",
      "text/plain": [
       "<matplotlib.figure.Figure at 0x10241160>"
      ]
     },
     "metadata": {},
     "output_type": "display_data"
    },
    {
     "name": "stdout",
     "output_type": "stream",
     "text": [
      "Interval = [4.871 ; 5.008]. Real value: 5.0\n"
     ]
    }
   ],
   "source": [
    "fig, ax = plt.subplots(figsize=(20, 5))\n",
    "ax.hist(sample, 50, color='C2', alpha=0.5)\n",
    "\n",
    "def confidence_interval_sigma(sample, alpha, mu):\n",
    "    n = sample.shape[0]\n",
    "    u_l = scipy.stats.chi2.ppf(alpha/2., n)\n",
    "    u_r = scipy.stats.chi2.ppf(1.-alpha/2., n)\n",
    "    num = np.sum(map(lambda x: (x-mu)**2, sample))\n",
    "    print(num)\n",
    "    return np.sqrt(num / u_r), np.sqrt(num / u_l)\n",
    "\n",
    "l, r = confidence_interval_sigma(sample, 0.05, mu)\n",
    "\n",
    "ax.axvspan(mu - l, mu + l, alpha=0.7, color='C0')\n",
    "ax.axvspan(mu - r, mu + r, alpha=0.5, color='C3')\n",
    "ax.axvspan(mu, mu + 0.01, alpha=0.5, color='k')\n",
    "ax.set_xlim([-15, 15])\n",
    "ax.set_title(r'Confidence interval for $\\sigma$.', fontsize = 19)\n",
    "plt.show()\n",
    "\n",
    "print(r'Interval = [{:.3f} ; {:.3f}]. Real value: {}'.format(l, r, sigma))"
   ]
  },
  {
   "cell_type": "markdown",
   "metadata": {},
   "source": [
    "## 3. НЕизвестное мат. ожидание и НЕизвестная дисперсия.\n",
    "\n",
    "Генеральная совокупность имеет нормальное распределение $\\xi$ ~ $N(\\theta_{1}, \\theta_{2}^{2})$.\n",
    "\n",
    "Запишем оценки для выборочного среднего и несмещенной оценки дисперсии:\n",
    "- Выборочное среднее: $\\overline(x)=\\frac{1}{n}\\sum_{i}^{n}x_{i}$.\n",
    "- Несмещенная оценка дисперсии: $s^{2}=\\frac{1}{n-1}\\sum_{i}^{n}(x_{i}-\\overline{x})^{2}$.\n",
    "\n",
    "Используя эти оценки построим следующие статистики:\n",
    "\n",
    "### 3.1 Оценка математического ожидания.\n",
    "\n",
    "\n",
    "\n",
    "### 3.1 Оценка математического ожидания.\n",
    "\n",
    "Построим статистику которая имеет распределение $\\chi^{2}(n-1)$, т.к. одна степень свободы уходит на выборочное сренее, так этот член зависимый от выборки:\n",
    "\n",
    "\\begin{equation*}\n",
    "    S = \\frac{(n-1)s^{2}}{\\sigma^{2}} = \\sum_{i}^{n}\\Big(\\frac{x_{i}-\\overline{x}}{\\sigma}\\Big)^{2} = \\frac{\\sum_{i}^{n}(x_{i}-\\overline{x})^{2}}{\\sigma^{2}},\n",
    "\\end{equation*}\n",
    "\n",
    "У данной статистики можно опредлить квантили соответствующие уровню доверия $\\alpha$. \n",
    "\n",
    "\\begin{equation*}\n",
    "    P\\Big(u_{\\alpha/2}<\\frac{(n-1)s^{2}}{\\sigma^{2}}<u_{1-\\alpha/2}\\Big)=1-\\alpha \\rightarrow P\\Big(\\frac{(n-1)s^{2}}{u_{1-\\alpha/2}} < \\sigma^{2} < \\frac{(n-1)s^{2}}{u_{\\alpha/2}} \\Big)=1-\\alpha,\n",
    "\\end{equation*}\n",
    "\n",
    "Таким образом доверительний интервал для $\\sigma^{2}$ : \n",
    "\\begin{equation*}\n",
    "    \\Big( \\sqrt{\\frac{(n-1)s^{2}}{u_{1-\\alpha/2}}} \\quad;\\quad \\sqrt{\\frac{(n-1)s^{2}}{u_{\\alpha/2}}} \\Big)\n",
    "\\end{equation*}\n",
    "\n",
    "\n"
   ]
  },
  {
   "cell_type": "code",
   "execution_count": 128,
   "metadata": {},
   "outputs": [
    {
     "data": {
      "image/png": "[encoded data removed]",
      "text/plain": [
       "<matplotlib.figure.Figure at 0xfc44208>"
      ]
     },
     "metadata": {},
     "output_type": "display_data"
    },
    {
     "name": "stdout",
     "output_type": "stream",
     "text": [
      "Interval = [4.870 ; 5.007]. Real value: 5.0\n"
     ]
    }
   ],
   "source": [
    "fig, ax = plt.subplots(2, figsize=(20, 10))\n",
    "ax[0].hist(sample, 50, color='C2', alpha=0.5)\n",
    "ax[1].hist(sample, 50, color='C2', alpha=0.5)\n",
    "\n",
    "# Sigma confidence interval\n",
    "def confidance_interval_sigma(sample, alpha):\n",
    "    n = float(sample.shape[0])\n",
    "    u_l = scipy.stats.chi2.ppf(alpha/2., n)\n",
    "    u_r = scipy.stats.chi2.ppf(1.-alpha/2., n)\n",
    "    \n",
    "    x_ = np.mean(sample)\n",
    "    s2 = np.sum(map(lambda x: (x-x_)**2, sample))/(n-1.)\n",
    "    \n",
    "    return np.sqrt((n-1.)*s2/u_r), np.sqrt((n-1.)*s2/u_l)\n",
    "\n",
    "\n",
    "l, r = confidance_interval_sigma(sample, 0.05)\n",
    "\n",
    "ax[0].axvspan(mu - l, mu + l, alpha=0.7, color='C0')\n",
    "ax[0].axvspan(mu - r, mu + r, alpha=0.5, color='C3')\n",
    "ax[0].axvspan(mu, mu + 0.01, alpha=0.5, color='k')\n",
    "ax[0].set_xlim([-15, 15])\n",
    "ax[0].set_title(r'Confidence interval for $\\sigma$.', fontsize = 19)\n",
    "plt.show()\n",
    "\n",
    "print(r'Interval = [{:.3f} ; {:.3f}]. Real value: {}'.format(l, r, sigma))"
   ]
  }
 ],
 "metadata": {
  "kernelspec": {
   "display_name": "Python 2",
   "language": "python",
   "name": "python2"
  },
  "language_info": {
   "codemirror_mode": {
    "name": "ipython",
    "version": 2
   },
   "file_extension": ".py",
   "mimetype": "text/x-python",
   "name": "python",
   "nbconvert_exporter": "python",
   "pygments_lexer": "ipython2",
   "version": "2.7.13"
  }
 },
 "nbformat": 4,
 "nbformat_minor": 2
}
