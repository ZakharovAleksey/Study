{
 "cells": [
  {
   "cell_type": "code",
   "execution_count": 1,
   "metadata": {
    "collapsed": true
   },
   "outputs": [],
   "source": [
    "import numpy as np\n",
    "import matplotlib.pyplot as plt\n",
    "import scipy.stats as st\n",
    "import seaborn as sns\n",
    "import pandas as pd\n",
    "import sklearn\n",
    "import math\n",
    "import os"
   ]
  },
  {
   "cell_type": "markdown",
   "metadata": {},
   "source": [
    "# 1. Проверка гипотез для двух выборок.\n",
    "\n",
    "В данной части рассматривается проверки гипотез о виде распределения двух выборок, т.е. фактически мы можем проверить являются ли эти две выборки частями одной генеральной совокупности (это так, когда параметры распределения совпадают).\n",
    "\n",
    "**Опр**. Параметрической проверкой является проверка гипотезы в том случае, когда статитстика критерия ЯВНО зависит от функции распределения рассматриваемой выборки (генеральной совокупности).\n",
    "\n",
    "\n",
    "## 1.1. Параметрические критерии однородности.\n",
    "\n",
    "Статистические критерии называются параметрическими, если известен вид распределения генеральной совокупности $\\xi$ с точностью до параметра, например это нормальное распределние ~$N(\\theta, \\sigma^{2})$ где $\\theta$ - неизвестное математическое ожидание.\n",
    "\n",
    "### 1.1.1. Зависимые выборки. Парные наблюдения.\n",
    "\n",
    "**Опр**. Две непрерывные случайные величины $\\xi$ и $\\eta$ с плотностями распределения $f_{\\xi}$ и $f_{\\eta}$ соответственно, называются независимыми, если выполнено:\n",
    "\\begin{equation*}\n",
    "    f_{\\xi, \\eta}(x,y) = P(\\xi \\leq x ; \\eta \\leq y) = P(\\xi \\leq x) \\cdot P (\\eta \\leq y) = f_{\\xi}(x) \\cdot f_{\\eta}(y),\n",
    "\\end{equation*}\n",
    "\n",
    "Рассмотрим две зависимые случайные величины $\\xi$ и $\\eta$ и выборки $X_{n}$ и $Y_{n}$ размера n соответствующие их реализациям.\n",
    "Под \"зависимыми выборками\" обычно понимают ситуацию в которой рассматриваются одни и те-же объекты до и после некоторого воздействия на них.\n",
    "Например, зависимой выборкой может служить уровень холестерина измеренный у группы пациентов до начала курса лечения, и спустя некоторое время после.\n",
    "\n",
    "В этом примере врачи хотят ответить на вопрос: повлиял ли курс лечения на некоторые средние показатели для испытуемых (в данном случае, допустим, это средний уровень холестерина в организме).\n",
    "В этом случае речь идет о следующих гипотезе и альтернативе:\n",
    "- Гипотеза $H_{0}$: $E\\xi = a = a_{0}$ говорит о том что средний уровень холестерина в крови испытуемых до курса лечения был $a_{0}$.\n",
    "- Альтернатива $H_{1}$: $E\\eta = a = \\neq a_{0}$ говорит о том что средний уровень холестерина в крови испытуемых после курса лечения изменился. (Опять можно рассматривать три варианта: увеличился, уменьшился, изменился).\n",
    "\n",
    "Для проверки такого рода гипотезы поступают следующим образом: вводят случайную величину $\\zeta = \\xi - \\eta$, реализации которой имеют следующий вид: \n",
    "\\begin{equation*}\n",
    "    Q_{n} = \\{q_{i} : q_{i} = x_{i} - y_{i}, \\quad i=\\overline{1,n}\\},\n",
    "\\end{equation*}\n",
    "\n",
    "Тогда для случайной величины $\\zeta$ задача проверки гипотезы приводился в виду $H_{0}: a=0$ и альтернатива $H_{1}: a \\neq 0$.\n",
    "Определим статистику критерия для данной задачи. \n",
    "Для случайной величины $\\zeta$ определены следующие статистики:\n",
    "- Выборочное среднее $\\overline{q} = \\frac{1}{n}\\sum_{i}^{n}(q_{i})$,\n",
    "- Выборочная дисперсия $s_{q}^{2} = \\frac{1}{n-1}\\sum_{i}^{n}(q_{i} - \\overline{q})^{2}$.\n",
    "\n",
    "В качестве статистики критерия выберем статистику $Z(\\cdot)$ имеющие распределение Стьюдента ~ $t(n-1)$:\n",
    "\\begin{equation*}\n",
    "    Z(\\cdot) = \\frac{\\overline{q}}{s_{q}} \\cdot \\sqrt{n},\n",
    "\\end{equation*}\n",
    "\n",
    "Таким образом, алгоритм принятия статистического решения не отличается от описанных ранее. \n",
    "Необходимо вычислить значение статистики $z=Z(\\cdot)$  проверить его принадлежность к критической области $V_{k}$ рассчитанной на основе уровня доверия $\\alpha$. \n",
    "При $z \\notin V_{k}$ принимаем гипотезу $H_{0}$, в противном случае принимаем альтернативу $H_{1}$."
   ]
  },
  {
   "cell_type": "markdown",
   "metadata": {},
   "source": [
    "**Стоит отметить что использование критерия для независимых выборок при их зависимости ведет к плохим результатам**.\n",
    "\n",
    "ДОДЕЛАТЬ"
   ]
  },
  {
   "cell_type": "code",
   "execution_count": 128,
   "metadata": {},
   "outputs": [
    {
     "name": "stdout",
     "output_type": "stream",
     "text": [
      "Correlation coef -0.006\n",
      "Correlation coef 0.408\n",
      "Correlation coef 0.904\n"
     ]
    },
    {
     "data": {
      "text/html": [
       "<div>\n",
       "<style>\n",
       "    .dataframe thead tr:only-child th {\n",
       "        text-align: right;\n",
       "    }\n",
       "\n",
       "    .dataframe thead th {\n",
       "        text-align: left;\n",
       "    }\n",
       "\n",
       "    .dataframe tbody tr th {\n",
       "        vertical-align: top;\n",
       "    }\n",
       "</style>\n",
       "<table border=\"1\" class=\"dataframe\">\n",
       "  <thead>\n",
       "    <tr style=\"text-align: right;\">\n",
       "      <th></th>\n",
       "      <th>x0.0</th>\n",
       "      <th>y0.0</th>\n",
       "      <th>x0.4</th>\n",
       "      <th>y0.4</th>\n",
       "      <th>x0.9</th>\n",
       "      <th>y0.9</th>\n",
       "    </tr>\n",
       "  </thead>\n",
       "  <tbody>\n",
       "    <tr>\n",
       "      <th>mean</th>\n",
       "      <td>24.813449</td>\n",
       "      <td>26.891612</td>\n",
       "      <td>24.898283</td>\n",
       "      <td>27.070311</td>\n",
       "      <td>24.993166</td>\n",
       "      <td>26.936513</td>\n",
       "    </tr>\n",
       "    <tr>\n",
       "      <th>std</th>\n",
       "      <td>7.936950</td>\n",
       "      <td>7.865179</td>\n",
       "      <td>8.015771</td>\n",
       "      <td>7.903354</td>\n",
       "      <td>8.086724</td>\n",
       "      <td>8.019048</td>\n",
       "    </tr>\n",
       "    <tr>\n",
       "      <th>min</th>\n",
       "      <td>-4.920805</td>\n",
       "      <td>-0.138400</td>\n",
       "      <td>-2.268791</td>\n",
       "      <td>0.546141</td>\n",
       "      <td>-4.708220</td>\n",
       "      <td>-4.524044</td>\n",
       "    </tr>\n",
       "  </tbody>\n",
       "</table>\n",
       "</div>"
      ],
      "text/plain": [
       "           x0.0       y0.0       x0.4       y0.4       x0.9       y0.9\n",
       "mean  24.813449  26.891612  24.898283  27.070311  24.993166  26.936513\n",
       "std    7.936950   7.865179   8.015771   7.903354   8.086724   8.019048\n",
       "min   -4.920805  -0.138400  -2.268791   0.546141  -4.708220  -4.524044"
      ]
     },
     "execution_count": 128,
     "metadata": {},
     "output_type": "execute_result"
    }
   ],
   "source": [
    "np.random.seed(0)\n",
    "\n",
    "dataset_size = 5000\n",
    "corrs = np.array([0.0, 0.4, 0.9])\n",
    "data = pd.DataFrame()\n",
    "means = np.array([25.0, 27.0])\n",
    "stds = np.array([8., 8.])\n",
    "\n",
    "def generate_dependent_dataset(corr, sample_size):\n",
    "    xx = np.array([-0.51, 51.2])\n",
    "    yy = np.array([0.33, 51.6])\n",
    "    \n",
    "    covs = [[stds[0]**2          , stds[0]*stds[1]*corr], \n",
    "            [stds[0]*stds[1]*corr,           stds[1]**2]] \n",
    "\n",
    "    return np.random.multivariate_normal(means, covs, sample_size).T\n",
    "\n",
    "for cur_corr in corrs:\n",
    "    x, y = generate_dependent_dataset(cur_corr, dataset_size)\n",
    "    print('Correlation coef {:.3f}'.format(np.corrcoef(x, y)[0][1]))\n",
    "    data['x{0}'.format(cur_corr)] = x\n",
    "    data['y{0}'.format(cur_corr)] = y\n",
    "    \n",
    "data.describe().iloc[1:4]"
   ]
  },
  {
   "cell_type": "code",
   "execution_count": 132,
   "metadata": {},
   "outputs": [
    {
     "name": "stdout",
     "output_type": "stream",
     "text": [
      "0.0482884278867\n",
      "0.00423157066936\n"
     ]
    }
   ],
   "source": [
    "def error_type_one_independent(x, a0):\n",
    "    n = x.shape[0]\n",
    "    \n",
    "    x_ = np.mean(x)\n",
    "    s  = np.sqrt( np.sum( (x-x_)**2 ) / (n - 1.) )\n",
    "    \n",
    "    x_cr = abs(x_ - a0) / s * np.sqrt(n)\n",
    "    \n",
    "    return 1. - st.t.cdf(x_cr, n-1)\n",
    "\n",
    "def error_type_one_dependent(x, y):\n",
    "    n = x.shape[0]\n",
    "    \n",
    "    q = x - y\n",
    "    q_ = np.mean(q)\n",
    "    sq = np.sqrt( np.sum((q-q_)**2) / (n-1.) )\n",
    "\n",
    "    z = q_ / sq * np.sqrt(n)\n",
    "    \n",
    "    return st.t.cdf(z, n-1)\n",
    "\n",
    "    \n",
    "print(error_type_one_independent(data['x0.0'].values, means[0]))\n",
    "print(error_type_one_dependent(data['x0.0'].values[0:100], data['y0.0'].values[0:100]))"
   ]
  },
  {
   "cell_type": "markdown",
   "metadata": {},
   "source": [
    "#### Пример задачи на критерий Стьюдента.\n",
    "\n",
    "У 28 пациентов, имевших сердечный приступ, измерили уровень холестерина в крови через 2 и через 4 дня после сердечного приступа. Изменился ли уровень холестерина при втором измерении по сравнению с первым?\n",
    "Данные (уровень холестерина приведен в условных единицах) находятся в файле.\n",
    "\n",
    "Найдите p-значение и примите статистическое решение при уровне значимости $\\alpha$=0.05."
   ]
  },
  {
   "cell_type": "code",
   "execution_count": 26,
   "metadata": {},
   "outputs": [
    {
     "name": "stdout",
     "output_type": "stream",
     "text": [
      "0.003 H1\n"
     ]
    }
   ],
   "source": [
    "file_name = os.path.join(os.getcwd(), 'data', 'cholesterol.txt')\n",
    "data = pd.read_csv(file_name, delimiter = '\\t')\n",
    "x = data['Day2'].values\n",
    "y = data['Day4'].values\n",
    "\n",
    "n = 28.\n",
    "alpha = 0.05\n",
    "\n",
    "q = x-y\n",
    "q_ = np.mean(q)\n",
    "sq = np.sqrt( np.sum((q-q_)**2) / (n-1.) )\n",
    "\n",
    "z = q_ / sq * np.sqrt(n)\n",
    "\n",
    "p_val1 = st.t.cdf(z, n-1)\n",
    "p_val2 = st.t.cdf(-z, n-1)\n",
    "\n",
    "p_val = 2.*np.min([p_val1, p_val2])\n",
    "\n",
    "if p_val > alpha: print('{:.3f} H0'.format(p_val))\n",
    "else: print('{:.3f} H1'.format(p_val))"
   ]
  },
  {
   "cell_type": "markdown",
   "metadata": {},
   "source": [
    "### 1.1.2. Статистика Фишера. Проверка на равенство дисперсий.\n",
    "\n",
    "Рассмотрим следующую постановку задачи. \n",
    "Случайная величина $\\xi$ имеет распределение ~$N(a_{1}, \\sigma_{1}^{2})$, и имеется выборка из этого распределения $X_{n}$ размера n.\n",
    "Случайная величина $\\eta$ имеет распределение ~$N(a_{2}, \\sigma_{2}^{2})$, и имеется выборка из этого распределения $Y_{m}$ размера m.\n",
    "Необходимо проверить гипотезу о равенстве дисперсий двух случайных величин: $\\sigma_{1}^{2} = \\sigma_{2}^{2}$, при соответствующих трех возможных альтернативах (дисперсии не равны, дисперсия больше или меньше предыдущей).\n",
    "\n",
    "По данным выборкам можно определить выборочное среднее $\\overline{x}$ ($\\overline{y}$) и как следствие выборочную дисперсию $s_{1}^{2}$ ($s_{2}^{2}$).\n",
    "На основе этих двух статистик можно составить две статистики критерия, имеющие распределения ~$\\chi^{2}(n-1)$ (~$\\chi^{2}(m-1)$), это статистики:\n",
    "\n",
    "\\begin{equation*}\n",
    "    Z_{1}(\\cdot) = \\frac{(n-1)s_{1}^{2}}{\\sigma_{1}^{2}} \\quad ; \\quad Z_{2}(\\cdot) = \\frac{(n-1)s_{2}^{2}}{\\sigma_{2}^{2}}\n",
    "\\end{equation*}\n",
    "\n",
    "Из которых составим статистику, полученную делением одной (С БОЛЬШИМ ВЫБОРОЧНЫМ СРЕДНИМ) на другую (С МЕНЬШИМ ВЫБОРОЧНЫМ СРЕДНИМ) с весам (n-1) и (m-1) соответственно и в результате получим:\n",
    "\n",
    "\\begin{equation*}\n",
    "    Z(\\cdot) = \\frac{Z_{1}(\\cdot)(m-1)}{(n-1)Z_{2}(\\cdot)} = \\frac{s_{1}^{2} \\sigma_{2}^{2}}{s_{2}^{2} \\sigma_{1}^{2}} = \\frac{s_{1}^{2}}{s_{2}^{2}} \\cdot \\frac{\\sigma_{2}^{2}}{\\sigma_{1}^{2}} = [\\sigma_{1}=\\sigma_{2}] = \\frac{s_{1}^{2}}{s_{2}^{2}},\n",
    "\\end{equation*}\n",
    "где равенство дисперсии предполагает выполнение гипотезы $H_{0}: \\sigma_{1}^{2} = \\sigma_{2}^{2}$. \n",
    "\n",
    "Данная статистика $Z(\\cdot)$ имеет распределение [Фишера](https://en.wikipedia.org/wiki/F-distribution) ~$F(n-1, m-1)$, a значит можно определить соответствующие квантили, построить критическую область $V_{k}$ и принять статистическое решение.\n",
    "\n",
    "Итак, для принятия статистического решения в задачах проверки равенства дисперсий двух выборок необходимо:\n",
    "1. Составить статистику равную отношению БОЛЬШЕЙ выборочной дисперсии к МЕНЬШЕЙ выборочной дисперсии:\n",
    "\\begin{equation*}\n",
    "    Z(\\cdot) = \\frac{s_{max}^{2}}{s_{min}^{2}}.\n",
    "\\end{equation*}\n",
    "2. Определить значение статистики $z = Z(\\cdot)$.\n",
    "3. Определить критическую область в зависимости от соответствующей альтернативы $V_{k}$.\n",
    "4. Принять статистическое решение по $z$ и $V_{k}$.\n",
    "\n",
    "**Стоит отметить что задача оценки равенства дисперсий предшествует задаче оценки равенства математических ожиданий**."
   ]
  },
  {
   "cell_type": "markdown",
   "metadata": {},
   "source": [
    "#### Пример задачи на критерий Фишера.\n",
    "\n",
    "Два токарных автомата изготавливают детали по одному чертежу. \n",
    "Из продукции первого станка было отобрано 9 деталей, а из продукции второго - 11 деталей. \n",
    "Выборочные дисперсии контролируемого  размера, определенные по этим выборкам 5.9мкм2 и 23.3мкм2. \n",
    "Проверьте гипотезу о равенстве дисперсий при уровне значимости 0.01, если альтернативная гипотеза утверждает, что дисперсии не равны.\n",
    "\n",
    "Формат ответа: через запятую с пробелом\n",
    "- выборочное значение статистики с точностью 3 знака после запятой.\n",
    "- статистическое решение H0 или H1 (H0, если принимаете нулевую гипотезу, H1 в противном случае)."
   ]
  },
  {
   "cell_type": "code",
   "execution_count": 14,
   "metadata": {},
   "outputs": [
    {
     "name": "stdout",
     "output_type": "stream",
     "text": [
      "3.861, H0\n"
     ]
    }
   ],
   "source": [
    "n = 9.; m = 11.\n",
    "s1 = 5.9; s2 = 23.3\n",
    "alpha = 0.01\n",
    "\n",
    "fl = st.f.ppf(alpha/2., m-1, n-1)\n",
    "fr = st.f.ppf(1.-alpha/2., m-1, n-1)\n",
    "\n",
    "# Отношение исправленных дисперсий (s2 = Sn/(n-1))\n",
    "z = ( m *s2 / (m-1.) ) / (n * s1 / (n-1.))\n",
    "\n",
    "if z > fl and z < fr: print('{:.3f}, H0'.format(z))\n",
    "else: print('{:.3f}, H1'.format(z))"
   ]
  },
  {
   "cell_type": "markdown",
   "metadata": {},
   "source": [
    "### 1.1.3. Гипотеза о равенстве математических ожиданий.\n",
    "\n",
    "Рассмотрим следующую постановку задачи. \n",
    "Случайная величина $\\xi$ имеет распределение ~$N(a_{1}, \\sigma_{1}^{2})$, и имеется выборка из этого распределения $X_{n}$ размера n.\n",
    "Случайная величина $\\eta$ имеет распределение ~$N(a_{2}, \\sigma_{2}^{2})$, и имеется выборка из этого распределения $Y_{m}$ размера m.\n",
    "Необходимо проверить гипотезу о равенстве мат. ожиданий двух случайных величин: $a_{1} = a_{2}$, при соответствующих трех возможных альтернативах (мат. ожидания не равны, мат. ожидание больше или меньше предыдущего).\n",
    "\n",
    "В качестве неизвестных оценок мат. ожидания выберем выборочные средние $\\overline{x}$ и $\\overline{y}$ соответственно и рассмотрим статистику:\n",
    "\n",
    "\\begin{equation*}\n",
    "    Z(\\cdot) = \\frac{\\overline{x} - \\overline{y} - (a_{0} - a_{1})}{D(\\overline{x} - \\overline{y})} = [a_{0} = a_{1}] = \\frac{\\overline{x}-\\overline{y}}{D(\\overline{x}-\\overline{y})},\n",
    "\\end{equation*}\n",
    "где равенство мат. ожиданий выполняется при правдивости гипотезы $H_{0}: a_{0}=a_{1}$.\n",
    "\n",
    "Данная статистика принимает разный вид в зависимости от знаменателя $D(\\overline{x}-\\overline{y})$, который находится по разному при известных и неизвестных дисперсиях выборок $x_{n}$, $Y_{m}$.\n",
    "\n",
    "#### 1.1.3.1 Гипотеза о равенстве мат. ожиданий при известных дисперсиях.\n",
    "\n",
    "При известных дисперсиях (дисперсия разности равна сумме дисперсий) статистика критерия примет вид:\n",
    "\n",
    "\\begin{equation*}\n",
    "    Z(\\cdot) = \\frac{\\overline{x} - \\overline{y}}{\\sqrt{\\frac{\\sigma_{1}^{2}}{n} + \\frac{\\sigma_{2}^{2}}{m}}},\n",
    "\\end{equation*}\n",
    "которая имеет стандартное нормальное распределение ~$N(0, 1)$. \n",
    "\n",
    "Данная статистика $Z(\\cdot)$ имеет стандартное нормальное распределение ~$N(0,1)$, a значит можно определить соответствующие квантили, построить критическую область $V_{k}$ и принять статистическое решение.\n",
    "\n",
    "#### 1.1.3.2 Гипотеза о равенстве мат. ожиданий при неизвестных, НО равных дисперсиях.\n",
    "\n",
    "При неизвестных, но равных дисперсиях (дисперсия разности равна сумме дисперсий) статистика критерия примет вид:\n",
    "\n",
    "\\begin{equation*}\n",
    "    Z(\\cdot) = \\frac{\\overline{x} - \\overline{y}}{s\\sqrt{\\frac{1}{n} + \\frac{1}{m}}},\n",
    "\\end{equation*}\n",
    "где $s$ - выборочное стандартное отклонение, которое определяемое формулой:\n",
    "\\begin{equation*}\n",
    "    s^{2} = \\frac{(n-1)s_{1}^{2} + (m-1)s_{2}^{2}}{n+m-2}.\n",
    "\\end{equation*}\n",
    "\n",
    "Данная статистика имеет распределение Стьюдента ~$t(n+m-2)$, a значит можно определить соответствующие квантили, построить критическую область $V_{k}$ и принять статистическое решение.\n",
    "\n",
    "**К этой статистике можно прийти, первоначально проверив равенство дисперсий по критерию Фишера. **\n",
    "\n",
    "#### 1.1.3.3 Гипотеза о равенстве мат. ожиданий при неизвестных, НО неравных дисперсиях.\n",
    "\n",
    "При неизвестных и неравных дисперсиях (дисперсия разности равна сумме дисперсий) статистика критерия примет вид:\n",
    "\n",
    "\\begin{equation*}\n",
    "    Z(\\cdot) = \\frac{\\overline{x} - \\overline{y}}{\\sqrt{\\frac{s_{1}^{2}}{n} + \\frac{s_{2}^{2}}{m}}},\n",
    "\\end{equation*}\n",
    "которая имеет распределение Стьюдента ~$t(k)$, где число степеней свободы определяется целой частью выражения:\n",
    "\n",
    "\\begin{equation*}\n",
    "    k = \\frac{ \\Big( \\frac{s_{1}^{2}}{n} + \\frac{s_{2}^{2}}{m} \\Big)^{2} }{ \\frac{s_{1}^{2}}{n^{2}(n-1)} + \\frac{s_{2}^{2}}{m^{2}(m-1)} }.\n",
    "\\end{equation*}\n",
    "\n",
    "Таким образом, можно определить соответствующие квантили, построить критическую область $V_{k}$ и принять статистическое решение."
   ]
  },
  {
   "cell_type": "markdown",
   "metadata": {},
   "source": [
    "#### Пример задачи на проверку равенства дисперсий.\n",
    "\n",
    "Можно ли считать, что средние двух нормально распределенных совокупностей равны, если выборочные средние и дисперсии, вычисленные по двум выборкам объема 16 и 9 равны соответственно $\\overline{x_{1}}$=12.57, $D_{1}$=0.91, $\\overline{x_{2}}$=11.87, $D_{2}$=1.51? \n",
    "Известно, что дисперсии не  равны. Уровень значимости $\\alpha$=0.02.\n",
    "\n",
    "Найдите p-значение и примите статистическое решение:\n",
    "- p-значение с точностью 3 знака после запятой\n",
    "- статистическое решение ( H0, если нулевая гипотеза верна, H1 в противном случае)"
   ]
  },
  {
   "cell_type": "code",
   "execution_count": 33,
   "metadata": {},
   "outputs": [
    {
     "name": "stdout",
     "output_type": "stream",
     "text": [
      "0.184, H0\n"
     ]
    }
   ],
   "source": [
    "n = 16.; m = 9.\n",
    "x_1 = 12.57; x_2 = 11.87\n",
    "D1 = 0.91; D2 = 1.51\n",
    "alpha = 0.02\n",
    "\n",
    "s1 = n*D1 / (n-1.)\n",
    "s2 = m*D2 / (m-1.)\n",
    "\n",
    "k = math.modf( (s1/n + s2/m)**2 / ( (s1 / n)**2 / (n-1) + (s2 / m)**2 / (m-1) ) )[1]\n",
    "t_cr = (x_1 - x_2) / np.sqrt(s1/n + s2/m)\n",
    "\n",
    "p_val1 = st.t.cdf(t_cr, k)\n",
    "p_val2 = st.t.cdf(-t_cr, k)\n",
    "\n",
    "p_val = 2. * np.min([p_val1, p_val2])\n",
    "\n",
    "\n",
    "if p_val > alpha: print('{:.3f}, H0'.format(p_val))\n",
    "else : print('{:.3f}, H1'.format(p_val))"
   ]
  },
  {
   "cell_type": "markdown",
   "metadata": {
    "collapsed": true
   },
   "source": [
    "## 1.2. Непараметрические критерии\n",
    "\n",
    "Непараметрические критерии используются в том случае, когда вид функции распределения генеральной совокупности $\\xi$ неизвестен. \n",
    "В таком случае, обычно проверяют гипотезы на сдвиг функции распределения, для того чтобы определить из одного ли распределения выбраны две выборки.\n",
    "\n",
    "**Опр**. НЕпараметрической проверкой является проверка гипотезы в том случае, когда статистика критерия НЕ зависит от функции распределения рассматриваемой выборки (генеральной совокупности).\n",
    "\n",
    "Таким образом можно поставить задачу следующим образом: имеется две выборки:\n",
    "1. Выборка $X_{n}$ случайной величины $\\xi : F_{\\xi}(x, \\theta)$. \n",
    "2. Выборка $Y_{m}$ случайной величины $\\eta : F_{\\eta}(x, \\theta)$. \n",
    "\n",
    "Соответственно гипотезой будет предположение о равенстве функций распределения $F_{\\xi}(x, \\theta)$  и $F_{\\eta}(x, \\theta)$ при соответствующих трех возможных альтернативах о смещении функции распределения вправо, влево, и неравенстве функций распределения, т.е.:\n",
    "- Гипотеза $H_{0}: F_{\\xi}(x, \\theta) = F_{\\eta}(x, \\theta)$.\n",
    "- Альтернатива $H_{1}^{1}: F_{\\xi}(x, \\theta) > F_{\\eta}(x, \\theta)$, соответствующая правостороннему критерию.\n",
    "- Альтернатива $H_{1}^{2}: F_{\\xi}(x, \\theta) < F_{\\eta}(x, \\theta)$, соответствующая левостороннему критерию.\n",
    "- Альтернатива $H_{1}^{3}: F_{\\xi}(x, \\theta) \\neq F_{\\eta}(x, \\theta)$, соответствующая двухстороннему критерию.\n",
    "\n",
    "На рисунке ниже представлена функция распределения $F_{\\xi}(x, \\theta)$ (черным), и функции распределения соответствующие трем вышеперечисленным альтернативам.\n",
    "\n",
    "Пример:\n",
    "\n",
    "Десяти людям была предложена специальная диета для похудания. После двухнедельного питания по этой диете масса тела участников эксперимента изменилась следующим образом:\n",
    "\n",
    "Оказывает ли эта диета какое-либо существенное действие на массу тела? Найдите значение статистики критерия знаков. Уровень значимости 0.05."
   ]
  },
  {
   "cell_type": "code",
   "execution_count": 45,
   "metadata": {
    "collapsed": true
   },
   "outputs": [],
   "source": [
    "from statsmodels.distributions.empirical_distribution import ECDF\n",
    "from matplotlib import rcParams\n",
    "plt.rcParams['legend.fontsize'] = 15\n",
    "\n",
    "mu = [0., 10., 25.]\n",
    "colors = ['C0', 'k', 'C2']\n",
    "legends = [r'$F_{\\eta} < F_{\\xi}$', r'$F_{\\xi}$', r'$F_{\\eta} > F_{\\xi}$']\n",
    "sigma = 5.\n",
    "\n",
    "H = [np.random.normal(cur_mu, sigma, 1000) for cur_mu in mu]\n",
    "H1 = np.random.normal(10, 10, 1000)"
   ]
  },
  {
   "cell_type": "code",
   "execution_count": 47,
   "metadata": {},
   "outputs": [
    {
     "data": {
      "image/png": "[encoded data removed]",
      "text/plain": [
       "<matplotlib.figure.Figure at 0xc64c4e0>"
      ]
     },
     "metadata": {},
     "output_type": "display_data"
    }
   ],
   "source": [
    "fig, ax = plt.subplots(figsize=(10, 5))\n",
    "\n",
    "for i in xrange(len(mu)):\n",
    "    ecdf = ECDF(H[i])\n",
    "    ax.plot(ecdf.x, ecdf.y, color = colors[i], lw=3, alpha = 0.7, label = legends[i])\n",
    "\n",
    "ax.plot(ECDF(lol).x, ECDF(lol).y, color = 'C3', lw=3., alpha =0.7, label = r'$F_{\\eta} \\neq F_{\\xi}$')\n",
    "    \n",
    "handles, labels = ax.get_legend_handles_labels() \n",
    "ax.legend(handles, labels)\n",
    "ax.grid('on')\n",
    "ax.set_title(u'Разичные смещения относительно распределения')\n",
    "ax.set_xlabel(u'Реализация случайной велчины', fontsize=12)\n",
    "ax.set_ylabel(u'Накопленная вероятность', fontsize=12)\n",
    "plt.show()    "
   ]
  },
  {
   "cell_type": "markdown",
   "metadata": {},
   "source": [
    "### 1.2.1. Критерий однородности Вилкоксона.\n",
    "\n",
    "Для проверки гипотезы о сдвиге по критерию Вилкоксона необходимо выполнить следующую последовательность действий:\n",
    "\n",
    "1. Построить общую выборку из двух данных: $Z_{n+m} = X_{n} + Y_{m}$.\n",
    "2. Ранжируем эту выборку в порядке возрастания: $Z_{n+m} : z_{1} < z_{2} < ... < z_{n+m-1} < z_{n+m}$.\n",
    "3. Считаем сумму рангов $w = \\sum_{i=1}^{m}rank(y_{i})$ для всех элементов выборки $Y_{m}$, где ранг это позиция элемента и отранжированной выборке $Z_{n+m}$.\n",
    "4. Принимаем статистическое решение, основываясь на рассуждениях, приведенных ниже.\n",
    "\n",
    "Если функции распределения равны, то все элементы ранжированной выборки $Z_{m+n}$ будут однородно перемешаны.\n",
    "При сдвиге функции распределения $Y_{m}$ ВЛЕВО относительно функции распределения $X_{n}$ элементы $Y_{m}$ будут находиться в основном ЛЕВЕЕ, поэтому сумма рангов будет МАЛА.\n",
    "При сдвиге функции распределения $Y_{m}$ ВПРАВО относительно функции распределения $X_{n}$ элементы $Y_{m}$ будут находиться в основном ПРАВЕЕ, поэтому сумма рангов будет ВЕЛИКА.\n",
    "\n",
    "Таким образом, статистикой критерия в этом случае является сумма рангов:\n",
    "\n",
    "\\begin{equation*}\n",
    "    W = \\sum_{i=1}^{m} s_{i}, \\quad s_{i} = rank(y_{i}), \\quad y_{i} \\subset Y_{m},\n",
    "\\end{equation*}\n",
    "а критические значения (определяющие на сколько сильно сумма рангов больше(меньше) чем должна быть для данного уровня доверия) определяются по \n",
    "[таблице](http://baguzin.ru/wp/neparametricheskie-kriterii-rangovy/) \n",
    "значений статистики Вилкоксона.\n",
    "\n",
    "\n",
    "**Пример**: Проверим гипотезу о сдвиге для выборок $X_{n}$ и $Y_{m}$ для уровня значимости $\\alpha=0.05$.\n",
    "\n",
    "Для выборок $X_{n}=\\{ 8, 4, 1, 6, 10 \\}$ и $Y_{m}=\\{0, 2, 3, 9\\}$ получим выборку $Z_{n+m} = \\{8, 4, 1, 6, 10, 0, 2, 3, 9 \\}$.\n",
    "Отранжировав ее в порядке возрастания элементов выборки, получим: $Z_{n+m}=\\{0, 1, 2, 3, 4, 6, 8, 9, 10\\}$. \n",
    "\n",
    "Тогда для элементов из выборки $Y_{m}$ посчитаем соответствующие ранги:\n",
    "- Ранг 0 равен 1, т.к. это первый элемент в отранжированной выборке $Z_{m+n}$.\n",
    "- Ранг 2 равен 3, т.к. это третий элемент в отранжированной выборке $Z_{m+n}$.\n",
    "- Ранг 3 равен 4, т.к. это четвертый элемент в отранжированной выборке $Z_{m+n}$.\n",
    "- Ранг 9 равен 8, т.к. это восьмой элемент в отранжированной выборке $Z_{m+n}$.\n",
    "\n",
    "Поэтому значение статистики критерия $w = W(Y_{m})=\\sum_{i=1}^{m}= 0 + 3 + 4 + 8 = 15$. \n",
    "\n",
    "Теперь определим критическую область при уровне доверия $\\alpha=0.05$, $n=5$ и $m=4$ по \n",
    "[таблице](http://baguzin.ru/wp/neparametricheskie-kriterii-rangovy/) \n",
    "значений статистики Вилкоксона.\n",
    "Из которых ввиду двухстороннего критерия получим: $c_{l} = 11$, $c_{r} = 29$, таким образом критическая область $V_{k} = (-\\infty; 12) \\cup (30, +\\infty)$.\n",
    "\n",
    "Наше значение статистики критерия не принадлежит критической области, значит принимаем гипотезу о том что сдвига функции распределения нет, и это выборки одной генеральной совокупности.\n",
    "\n",
    "**P.S.** При достаточном объемы выборки можно прейти к \n",
    "[ПРЕДЕЛЬНОМУ](https://stepik.org/lesson/%D0%9D%D0%B5%D0%BF%D0%B0%D1%80%D0%B0%D0%BC%D0%B5%D1%82%D1%80%D0%B8%D1%87%D0%B5%D1%81%D0%BA%D0%B8%D0%B5-%D0%BA%D1%80%D0%B8%D1%82%D0%B5%D1%80%D0%B8%D0%B8-%D0%BE%D0%B4%D0%BD%D0%BE%D1%80%D0%BE%D0%B4%D0%BD%D0%BE%D1%81%D1%82%D0%B8-26283/step/6?unit=8171) \n",
    "случаю статистики Вилкоксона, отнормировав ее и использовать нормальное распределение:\n",
    "\\begin{equation*}\n",
    "    \\overline{W} = \\frac{W-EW}{\\sqrt{DW}}.\n",
    "\\end{equation*}"
   ]
  },
  {
   "cell_type": "markdown",
   "metadata": {
    "collapsed": true
   },
   "source": [
    "## 1.2.2. Критерий однородности Вилкоксона для парных выборок.\n",
    "\n",
    "Напомним, что про парные выборки говорят тогда, когда проверяется воздействие на один и тот-же объект, и сравнивают показатели до и после аоздействие, например, помогла ли человеку диета сбросить вес.\n",
    "\n",
    "В этом случае поступаем аналогично рассмотренным ранее парным критериям.\n",
    "Для выборок $X_{n} = {x_{1}, ..., x_{n}}$ и $Y_{n} = {y_{1}, ..., y_{n}}$ составляем выборку $Z_{n} = \\{z_{i} = x_{i}-y_{i}, i= \\overline{1,n}\\}$. \n",
    "\n",
    "Тогда очевидно, что при отсутствии сдвига, положительные и отрицательные значения в выборке $Z_{n}$ будут встречаться равновероятно с вероятностью p=0.5. В противном случае, вероятности не будут равны, а какая из них больше определяет тип критерия.\n",
    "\n",
    "Для проверки гипотезы о наличии сдвига по критерию Вилкоксона необходимо:\n",
    "1. Составить по выборке $Z_{n}$ выборку из модулей значений выборки, т.е. $Z^{*}_{n} = \\{ |z_{i}| , \\overline{1,n} \\}$. \n",
    "2. Отранжировать выборку $Z_{n}$ по возрастанию, т.е. $\\overline{Z_{n}}={|z_{1}|<...<|z_{n}|}$. \n",
    "3. Определить ранги для $z_{i} < 0$ и найти их сумму (это и есть статистика критерия), т.е.:\n",
    "\n",
    "\\begin{equation*}\n",
    "    U = \\sum_{i}^{n} I_{i} \\cdot s_{i},\n",
    "\\end{equation*}\n",
    "где $T_{i}$ - индикаторная функция элемента $z_{i}$, которая равна 1, если $z_{i}$ < 0 и ноль в противном случае, $s_{i}$ - ранг элемента $z_{i}$ в $\\overline{Z_{n}}$.\n",
    "\n",
    "4. По значениям таблицам значений статистики Вилкоксона при данном уровне значимости определить критическую область.\n",
    "5. Принять статистическое решение.\n",
    "\n",
    "\n",
    "**P.S.** можно использовать в виде статистики просто индикаторную функцию, и тогда это будет распределения Бернулли, где число успехов — это число отрицательных элементов в выборке $Z_{n}$, и определив соответствующие квантили распределяя Бернулли принять статистическое решение.\n"
   ]
  },
  {
   "cell_type": "code",
   "execution_count": 49,
   "metadata": {},
   "outputs": [
    {
     "name": "stdout",
     "output_type": "stream",
     "text": [
      "Bernully : b = 4\n",
      "Wilcocson : w = 12.0\n"
     ]
    }
   ],
   "source": [
    "prev = np.array([69, 80, 92, 81, 70, 79, 78, 66, 57, 77], dtype = float)\n",
    "post = np.array([60, 84, 87, 79, 73, 71, 72, 67, 59, 70], dtype = float)\n",
    "n = prev.shape[0]\n",
    "alpha = 0.05\n",
    "\n",
    "z = prev - post\n",
    "b = np.sum(z < 0)\n",
    "print('Bernully : b = {0}'.format(U1))\n",
    "\n",
    "w = 0.\n",
    "for i in xrange(n):\n",
    "    if z[i] < 0:\n",
    "        w += list(np.sort(np.abs(z))).index(np.abs(z[i])) + 1\n",
    "print('Wilcocson : w = {0}'.format(w))"
   ]
  },
  {
   "cell_type": "markdown",
   "metadata": {},
   "source": [
    "Время химической реакции при различном содержании катализатора распределилось следующим образом:\n",
    "- 5% : 5.9, 6.0, 7.0, 6.5, 5.5, 7.0, 8.1, 7.5, 6.2, 6.4, 7.1, 6.9\n",
    "- 10% :  4.0, 5.1, 6.2, 5.3, 4.5, 4.4, 5.3, 5.4,5.6,5.2\n",
    "- 15% :  8.2, 6.8, 8.0, 7.5, 7.2, 7.9, 8.1, 8.5, 7.8, 8.1\n",
    "\n",
    "Выборки получены из нормально распределенных генеральных совокупностей с равными дисперсиями. \n",
    "Проверить гипотезу о равенстве средних. Уровень значимости принять равным 0.1.\n",
    "\n",
    "Найдите значение статистики, которая является точечной оценкой дисперсии независимо от того, верна нулевая гипотеза или нет."
   ]
  },
  {
   "cell_type": "code",
   "execution_count": 45,
   "metadata": {},
   "outputs": [
    {
     "name": "stdout",
     "output_type": "stream",
     "text": [
      "44.991, H1\n"
     ]
    }
   ],
   "source": [
    "a = np.array([5.9, 6.0, 7.0, 6.5, 5.5, 7.0, 8.1, 7.5, 6.2, 6.4, 7.1, 6.9])\n",
    "b = np.array([4.0, 5.1, 6.2, 5.3, 4.5, 4.4, 5.3, 5.4,5.6,5.2])\n",
    "c = np.array([8.2, 6.8, 8.0, 7.5, 7.2, 7.9, 8.1, 8.5, 7.8, 8.1])\n",
    "alpha = 0.1\n",
    "\n",
    "N = a.shape[0] + b.shape[0] + c.shape[0]\n",
    "k = 3.\n",
    "\n",
    "X = np.mean(list(a)+list(b) + list(c))\n",
    "\n",
    "z1 = np.sum( (a - np.mean(a))**2 )\n",
    "z2 = np.sum( (b - np.mean(b))**2 )\n",
    "z3 = np.sum( (c - np.mean(c))**2 )\n",
    "\n",
    "Q1 = (z1 + z2 + z3) / (N - k)\n",
    "Q2 = (a.shape[0]*(np.mean(a) - X)**2 + b.shape[0]*(np.mean(b) - X)**2 + c.shape[0]*(np.mean(c) - X)**2) / (k-1.)\n",
    "\n",
    "f_cr = Q2 / Q1\n",
    "fr = st.f.ppf(1. - alpha, k-1., N-k)\n",
    "\n",
    "if f_cr < fr: print('{:.3f}, H0'.format(f_cr))\n",
    "else: print('{:.3f}, H1'.format(f_cr))"
   ]
  },
  {
   "cell_type": "code",
   "execution_count": 51,
   "metadata": {},
   "outputs": [
    {
     "name": "stdout",
     "output_type": "stream",
     "text": [
      "0.961, 2.189, H1\n"
     ]
    }
   ],
   "source": [
    "L12 = np.mean(a) - np.mean(b)\n",
    "S12 = np.sqrt(Q1 * ( 1. / a.shape[0] +  1. / b.shape[0]))\n",
    "fr = st.f.ppf(1. - alpha, k-1., N-k)\n",
    "\n",
    "zl = L12 - S12 * np.sqrt((k-1.)*fr)\n",
    "zr = L12 + S12 * np.sqrt((k-1.)*fr)\n",
    "\n",
    "if zl < 0. and zr > 0. : print('{:.3f}, {:.3f}, H0'.format(zl, zr))\n",
    "else : print('{:.3f}, {:.3f}, H1'.format(zl, zr))"
   ]
  },
  {
   "cell_type": "markdown",
   "metadata": {},
   "source": [
    "## 2. Дисперсионный анализ\n",
    "\n",
    "Дисперсионный анализ используется для сравнения средних значений (дисперсий) трех и более выборок.\n",
    "В рамках дисперсионного анализа выделяют зависимые переменные, и независимые переменные, которые называют ФАКТОРАМИ.\n",
    "Фактор может быть один, тогда анализ такой задачи называют ОДНОФАКТОРНЫМ дисперсионным анализом, в противном случае говорят о МНОГОФАКТОРНОМ дисперсионном анализе.\n",
    "Также при одной зависимой переменной говорят о одномерном дисперсионном анализе, в противном случае говорят о многомерном дисперсионном анализе.\n",
    "\n",
    "**Пример**: Исследуется успеваемость учеников в зависимости от различных методик преподавания, при этом учитывают успеваемость, количество дополнительно посещаемых помимо школы спецкурсов и общее физическое состояние учеников.\n",
    "В этом случае, независимая переменная это методика преподавания (у каждой школы своя), а успеваемость, доп. спецкурсы и физ. состояние - это зависимые переменные.\n",
    "Таким образом речь идет о задаче с одним фактором и тремя зависимыми переменными - задача однофакторного многомерного дисперсионного анализа.\n",
    "\n",
    "Рассмотрим ТОЛЬКО однофакторный дисперсионный анализ.\n",
    "\n",
    "### 2.1 Параметрический критерий.\n",
    "\n",
    "Предположим что имеется один фактор A, который принимает k возможных значений $A_{k} : q = \\overline{1,k}$.\n",
    "Таким образом, мы имеем k выборок: \n",
    "\n",
    "\\begin{equation*}\n",
    "    X_{1} = \\{x_{1,1}, x_{2,1}, \\cdots , x_{m-1, 1}, x_{m, 1}\\}, \\\\\n",
    "    X_{2} = \\{x_{1,2}, x_{2,2}, \\cdots , x_{n-1, 1}, x_{n, 1}\\}, \\\\ \n",
    "    \\cdots \\\\\n",
    "    X_{k} = \\{x_{1,k}, x_{2,k}, \\cdots , x_{m-1, k}, x_{r, k}\\}, \\\\ \n",
    "\\end{equation*}\n",
    "для которых предполагаем случайность и взаимную независимость, нормальный закон распределения для генеральной совокупности и равенство дисперсий, т.е. $X_{1}$ ~ $N(a_{1}, \\sigma^{2})$, $X_{2}$ ~ $N(a_{2}, \\sigma^{2})$, $\\cdots$, $X_{k}$ ~ $N(a_{k}, \\sigma^{2})$.\n",
    "\n",
    "Требуется проверить гипотезу о равенстве между собой математических ожиданий ($H_{0}: a_{1}=a_{2}=\\cdots=a_{k}$).\n",
    "Если они равны, то фактор $A$ не влияет на генеральную совокупность, в противном же случая он оказывает прямой воздействие.\n",
    "Альтернативой же является неравенство мат. ожиданий ХОТЯ БЫ в двух группах, т.е. $H_{1}: \\exists i,j : a_{i} \\neq a_{j}$.\n",
    "Таким образом задача:\n",
    "\n",
    "\\begin{equation*}\n",
    "    H_{0} : \\quad a_{1} = a_{2}= \\cdots = a_{k}, \\\\\n",
    "    H_{1} : \\quad \\exists i, j : \\quad a_{i} \\neq a_{j}.\n",
    "\\end{equation*}\n",
    "\n",
    "На примере выше, это случай, когда, например, исследуются пять школ с разной методикой и оценивается только успеваемость: если успеваемость одинаковая, то мы принимаем гипотезу о том, что методики школ не влияют на качество обучения.\n",
    "\n",
    "Введем внутригрупповое среднее $\\overline{ x_{i} }, i =\\overline{1,k}$ и связанную с ним статистику характеризующую средний внутригрупповой разброс, которая является точечной оценкой дисперсии:\n",
    "\\begin{equation*}\n",
    "    \\overline{x_{i}} = \\frac{1}{n_{i}}\\sum_{j=1}^{n_{i}}x_{j, i}, \\quad Q_{1} = \\frac{1}{N-k}\\sum_{i=1}^{k}\\sum_{j=1}^{n_{i}}(x_{j, i} - \\overline{x_{i}})^{2},\n",
    "\\end{equation*}\n",
    "где $n_{i}$ это размер $i$-ой выборки, $N = \\sum_{i=1}^{k}n_{i}$ общий размер всех выборок.\n",
    "\n",
    "Введем общее среднее $\\overline{X}$ и связанную с ним статистику характеризующую средний межгрупповой разброс, которая является точечной оценкой дисперсии ТОЛЬКО в случае справедливости $H_{0}$:\n",
    "\\begin{equation*}\n",
    "    \\overline{X} = \\frac{1}{N}\\sum_{i=1}^{k}\\sum_{j=1}^{n_{i}}x_{j, i}, \\quad Q_{2} = \\frac{1}{k-1}\\sum_{i=1}^{k}n_{i}(\\overline{x_{i}} - \\overline{X})^{2}, \n",
    "\\end{equation*}\n",
    "где $n_{i}$ это размер $i$-ой выборки, $N = \\sum_{i=1}^{k}n_{i}$ общий размер всех выборок.\n",
    "\n",
    "Статистики Q1 и Q2 имеют $\\chi^{2}$ распределение с $(N-k)$ и $(k-1)$ степенями свободы соответственно, а поэтому, очевидно, что статистикой критерия будет статистика $F = Q_{2} / Q_{1}$ с распределением Фишера ~$F(k-1, N-k)$.\n",
    "Зная закон распределения статистики критерия можно вычислить критическую область с заданным уровнем значимости $\\alpha$ (как ПРАВОСТОРОННИЙ критерий): $V_{k} = (f_{k-1}^{N-k}(1-\\alpha), +\\infty)$ и принять соответствующее статистическое решение."
   ]
  },
  {
   "cell_type": "markdown",
   "metadata": {},
   "source": [
    "** Пример задачи**:\n",
    "\n",
    "Сравните среднюю продолжительность успешных проходов в 10 матчах по рэгби.\n",
    "Уровень значимости 0.05. Предполагаем, что продолжительность успешных проходов имеет нормальное распределение.\n",
    "\n",
    "1. Чему равна квантиль распределения статистики критерия, входящий в определение критической области?\n",
    "2. Найдите статистику критерия и примите статистическое решение."
   ]
  },
  {
   "cell_type": "code",
   "execution_count": 135,
   "metadata": {},
   "outputs": [
    {
     "name": "stdout",
     "output_type": "stream",
     "text": [
      "f critical = 1.890\n",
      "3.887, H1\n"
     ]
    }
   ],
   "source": [
    "file_name = os.path.join(os.getcwd(), 'data', 'rugby.txt')\n",
    "input_data = pd.read_csv(file_name, delimiter = '\\t')\n",
    "alpha = 0.05\n",
    "\n",
    "data = pd.DataFrame()\n",
    "for i in input_data['Game'].unique():\n",
    "    tmp = pd.DataFrame(input_data['Time'][input_data['Game'] == i].values, columns = ['lol{0}'.format(i)])\n",
    "    data = pd.concat([data,tmp], ignore_index=True, axis=1)\n",
    "\n",
    "data = data.fillna(0.)\n",
    "\n",
    "X = np.mean(input_data['Time'])\n",
    "N = input_data.shape[0]\n",
    "k = data.columns.values.shape[0]\n",
    "\n",
    "# 1. Так как известно что у нас нормальное распределение - то используем\n",
    "# статистику параметрического критерия\n",
    "fr = st.f.ppf(1. - alpha, k-1., N-k)\n",
    "print('f critical = {:.3f}'.format(fr))\n",
    "  \n",
    "# Найдем значение статистики критерия и примем статистическое решение\n",
    "def find_Q1(data, N, k):\n",
    "    return np.sum( [ np.sum( (data[i][data[i] != 0.]-data[i][data[i]!= 0.].mean())**2 ) for i in data.columns.values] ) / (N - k)\n",
    "\n",
    "def find_Q2(data, X, k):\n",
    "    return np.sum( [data[i][data[i] != 0.].shape[0] * (data[i][data[i] != 0.].mean() - X)**2 for i in data.columns.values] ) / (k-1.)\n",
    "\n",
    "f = find_Q2(data, X, k) / find_Q1(data, N, k)\n",
    "if f < fr : print('{:.3f}, H0'.format(f))\n",
    "else : print('{:.3f}, H1'.format(f))"
   ]
  },
  {
   "cell_type": "markdown",
   "metadata": {},
   "source": [
    "### 2.2. Непараметрический критерий.\n",
    "\n",
    "В случае непараметрического критерия о наличии смещения опять используется идея о рангах, и как результат, составляется статистика критерия, имеющая $\\chi^{2}(k-1)$ распределение:\n",
    "\\begin{equation*}\n",
    "    Z(\\cdot) = \\frac{12}{N(N+1)}\\sum_{i}^{k} n_{i}(\\overline{r_{i}}- \\overline{R})^{2},\n",
    "\\end{equation*}\n",
    "где $n_{i}$ - размер $i$-ой выборки, $N$ - размер объяединенной выборки, $\\overline{r_{i}}$ - внутригрупповой ранг и $\\overline{R}$ - межгрупповой ранг.\n",
    "\n",
    "Подробнее про непараметрический критерий можно посмотреть [тут](https://stepik.org/lesson/%D0%9E%D0%B4%D0%BD%D0%BE%D1%84%D0%B0%D0%BA%D1%82%D0%BE%D1%80%D0%BD%D1%8B%D0%B9-%D0%B4%D0%B8%D1%81%D0%BF%D0%B5%D1%80%D1%81%D0%B8%D0%BE%D0%BD%D0%BD%D1%8B%D0%B9-%D0%B0%D0%BD%D0%B0%D0%BB%D0%B8%D0%B7-26284/step/13?unit=8172).\n",
    "\n",
    "**P.S.** При неизвестной функции распределения генеральной совокупности можно строить доверительные интервалы и проверять принадлежность выборочного значения статистики этому интервалу (см. задачу два)."
   ]
  },
  {
   "cell_type": "markdown",
   "metadata": {},
   "source": [
    "**Пример задачи**:\n",
    "\n",
    "Проверьте, правда ли, что болевой барьер у блондинов и брюнетов разный.\n",
    "\n",
    "Найдите выборочное значение статистики критерия и примите статистическое решение. \n",
    "Уровень значимости 0.05"
   ]
  },
  {
   "cell_type": "code",
   "execution_count": 2,
   "metadata": {},
   "outputs": [
    {
     "name": "stdout",
     "output_type": "stream",
     "text": [
      "10.145, H1\n"
     ]
    }
   ],
   "source": [
    "white_blond = np.array([62, 60, 71, 55, 48], dtype=float)\n",
    "black_blond = np.array([63, 57, 52, 41, 43], dtype = float)\n",
    "white_br = np.array([42, 50, 44, 37], dtype = float)\n",
    "black_br = np.array([32, 39, 51, 30, 35], dtype=float)\n",
    "alpha = 0.05\n",
    "\n",
    "common = list(white_blond) + list(black_blond) + list(white_br) + list(black_br)\n",
    "N = float(len(common))\n",
    "def mean_rank_diff(partial_dataset, common_dataset):\n",
    "    R = ( N + 1. ) /2.\n",
    "    r = 0.\n",
    "    for i in partial_dataset:\n",
    "        ind = list(np.sort(common_dataset)).index(i) + 1.\n",
    "        r += ind\n",
    "    return partial_dataset.shape[0] * ( r / partial_dataset.shape[0] - R)**2\n",
    "\n",
    "Q =[ mean_rank_diff(white_blond, common), mean_rank_diff(black_blond, common), \n",
    "    mean_rank_diff(white_br, common), mean_rank_diff(black_br, common)]\n",
    "H = 12. / (N * (N + 1.)) *  np.sum(Q)\n",
    "\n",
    "chi2_cr = st.chi.ppf(alpha, 3)\n",
    "if H < chi2_cr : print('{:.3f}, H0'.format(H))\n",
    "else: print('{:.3f}, H1'.format(H))"
   ]
  },
  {
   "cell_type": "markdown",
   "metadata": {},
   "source": [
    "**Пример задачи**:\n",
    "\n",
    "У студентов измерили пульс до и после тренировки. Верно ли, что пульс в среднем увеличился на 50 ударов в минуту?\n",
    "Проверьте данное предположение с помощью доверительных интервалов. Уровень значимости 0.02\n",
    "\n",
    "Постройте приближенный доверительный интервал для a1−a2. Примите статистическое решение\n",
    "Формат ответа:\n",
    "- левая граница доверительного интервала\n",
    "- правая граница доверительного интервала\n",
    "- статистическое решение (H0, если принимаете нулевую гипотезу, H1 в противном случае)"
   ]
  },
  {
   "cell_type": "code",
   "execution_count": 150,
   "metadata": {},
   "outputs": [
    {
     "name": "stdout",
     "output_type": "stream",
     "text": [
      "Confidence interval (-58.625 ; -44.157), H0\n"
     ]
    }
   ],
   "source": [
    "file_name = os.path.join(os.getcwd(), 'data', 'pulse.txt')\n",
    "input_data = pd.read_csv(file_name, delimiter = '\\t')\n",
    "alpha = 0.02\n",
    "\n",
    "z = (input_data['Pulse1'] - input_data['Pulse2']).values\n",
    "X = np.mean(z)\n",
    "S2 = np.sqrt (np.sum( (z - np.mean(z))**2 ) / (z.shape[0] - 1.))\n",
    "\n",
    "ur = st.norm.ppf(1. - alpha/2.) # Так как N(0,1) симметрично\n",
    "Zl = X - S2 * ur / np.sqrt(z.shape[0])\n",
    "Zr = X + S2 * ur / np.sqrt(z.shape[0])\n",
    "\n",
    "if X > Zl and X < Zr : print('Confidence interval ({:.3f} ; {:.3f}), H0'.format(Zl, Zr))\n",
    "else : print('Confidence interval ({:.3f} ; {:.3f}), H1'.format(Zl, Zr))"
   ]
  }
 ],
 "metadata": {
  "kernelspec": {
   "display_name": "Python 2",
   "language": "python",
   "name": "python2"
  },
  "language_info": {
   "codemirror_mode": {
    "name": "ipython",
    "version": 2
   },
   "file_extension": ".py",
   "mimetype": "text/x-python",
   "name": "python",
   "nbconvert_exporter": "python",
   "pygments_lexer": "ipython2",
   "version": "2.7.13"
  }
 },
 "nbformat": 4,
 "nbformat_minor": 2
}
