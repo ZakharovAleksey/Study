{
 "cells": [
  {
   "cell_type": "code",
   "execution_count": 1,
   "metadata": {
    "collapsed": true
   },
   "outputs": [],
   "source": [
    "import numpy as np\n",
    "import pandas as pd\n",
    "import matplotlib.pyplot as plt\n",
    "import seaborn as sns"
   ]
  },
  {
   "cell_type": "markdown",
   "metadata": {},
   "source": [
    "## Точечное оценивание.\n",
    "\n",
    "### 1. Постановка задачи.\n",
    "\n",
    "Допустим у нас есть генеральная совокупность $\\xi$, которая харрактерикуется функцией распределения $F_{\\xi}(x, \\theta )$, где $\\theta$ - некоторый параметр (вектор параметров) из множества $\\Theta$.\n",
    "\n",
    "Из генеральной совокупности выбирается некотороая выборка $[X_{1},X_{2},...X_{n}]$, где $X_{i}$ - случайная величина, причем для всех $i$ $X_{i}$ одинаково распределены и независимы (так как $i$-ая случайная величина $X_{i}$ отображает собой результат $i$-ого измерения). \n",
    "Например, измерение скорости самолета $n$ раз - каждое измерение это случайная величина, (допустим) с равномерным распределением на $[0, \\theta]$. \n",
    "Таким образом мы и получим вектор случайныхй величин размера $n$, где каждая из них распределена равномерноа на $[0, \\theta]$\n",
    "\n",
    "Реально же в процессе измерений получены КОНКРЕТНЫЕ реализации этой выборки $[x_{1},x_{2},...x_{n}]$ с распределением $F_{\\theta}(x)$.\n",
    "Выше каждый конкретный $x_{i}$ - число (реализация конкретной случайной величины $X_{i}$).\n",
    "Например, в примере выше это непосредственно результат измерения скорости для каждой случайной величины из вектора.\n",
    "\n",
    "**Задача**: по реализацияем $[x_{1},x_{2},...x_{n}]$ оценить параметр распределения $\\theta$ (некоторую функцию от параметра) наилучшим образом.\n",
    "\n",
    "**Определение:** функция, которая зависит только от значений выборки $[X_{1},X_{2},...X_{n}]$ и больше ни от чего другого (тут главное что отсутствует зависимость от параметра $\\theta$) называется статистикой: $\\hat{\\theta}(X_{1},X_{2},...X_{n})$.\n",
    "\n",
    "Примеры статистик: \n",
    "- Выборочное среденее $\\bar{x} = \\frac{1}{n}\\sum_{i}x_{i}$.\n",
    "- Выборочная дисперсия $s = \\frac{1}{n}\\sum_{i}(x_{i}-\\bar{x})^{2}$\n",
    "- Порядковые статистики $x^{(1)}=min_{i}(x_{i})$\n",
    "\n",
    "\n",
    "**Так как же можно оценить параметр (функцию от параметра) распределения $\\theta$? \n",
    "Необходимо построить статистику $\\hat{\\theta}$, которая приближенно равна $\\theta$.**"
   ]
  },
  {
   "cell_type": "markdown",
   "metadata": {},
   "source": [
    "### 2 Качества оценок.\n",
    "\n",
    "Но как понимать (в математическом смысле) приближенное равенство оценки $\\hat{\\theta}(X_{1},X_{2},...X_{n})$ и оцениваемой величины $\\theta$? \n",
    "Можно, например исходя из каких-то свойств их функций распределения оценки (так как она является случайной величиной, так как это функция от вектора случайных величин - следовательно тоже случайная величина).\n",
    "\n",
    "**Пример** нахождения распределения случайной величины:\n",
    "\n",
    "Пусть есть выборка $[X_{1},...X_{n}]$ ~$N(a, \\sigma^{2})$. \n",
    "Выберем в качестве оценки математического ожиданиия выборочное среднее $\\bar{x}=\\frac{1}{n}\\sum_{i}x_{i}$.\n",
    "Распределением выборочного среднего будет нормальное распределение, так как выборочное среднее это сумма независимых нормально распределенных величин. \n",
    "\n",
    "Осталось только найти параметры нормального распределения:\n",
    "- Математическое ожидание $E\\bar{x}=a$.\n",
    "\n",
    "$E\\bar{x}=E(\\frac{1}{n}\\sum_{i}^{n} x_{i})=\\frac{1}{n}\\sum_{i}^{n}E(x_{i})=\\frac{1}{n}na=a$,\n",
    "\n",
    "- Дисперсия $D\\bar{x}=\\sigma^{2}/n$.\n",
    "\n",
    "$D\\bar{x}=D(\\frac{1}{n}\\sum_{i}x_{i})=\\frac{1}{n^{2}}\\sum_{i}D(x_{i})=\\frac{1}{n^{2}}*n*\\sigma^{2}=\\frac{\\sigma^{2}}{n}$.\n",
    "\n",
    "Таким образом, выборочное среденее имеет распределение $\\bar{x}$~$N(a,\\sigma^{2}/n)$\n",
    "\n",
    "Но оказывается что функцию распределения оценки $\\hat{\\theta}(X_{1},..X_{n})$ не всегда можно построить.\n",
    "Поэтому необходимы более простые критерии по которым можно будет судить о качестве оценки:\n",
    "\n",
    "- **Несмещенность**: Оценка $\\hat{\\theta}(X_{1}, ..., X_{n})$ называется несмещенной оценкой $\\theta$ если $E\\hat{\\theta}(X_{1}, ..., X_{n})=\\theta$, то есть математическое ожидание оценки равно оцениваемой величине. \n",
    "\n",
    "**Пример**: \n",
    "\n",
    "Выборочное среденее $\\bar{x}$ - несмещеная оценка параметра $\\lambda$ распределения Пуассона, т.к. $E\\bar{x}=EX=\\lambda$, то есть математическое ожидание выборочного среднего (оценки) равно параметру распределения (оцениваемая величина). \n",
    "\n",
    "Выборочная дисперсия $s=\\frac{1}{n}\\sum_{i}^{n}(x_{i}-\\bar{x})^{2}$ не является несмещенной оценкой дисперсии нормального распределения. Несещенной оценкой является оценка вида: $s^{*}=n/(n-1)*s$. Еще примеры на стр 74. [Лагутенко](https://www.ozon.ru/context/detail/id/4620326/)\n",
    "\n",
    "- **Состоятельность**: Оценка $\\hat{\\theta}(X_{1}, ..., X_{n})$ называется состоятельной оценкой $\\theta$ если последовательность оценок $\\hat{\\theta_{n}}(X_{1}, ..., X_{n})$ сходится по вероятности к оцениваемой величине $\\theta$ при $n$ стремящимся в бесконечность: \n",
    "\n",
    "\\begin{equation*}\n",
    "    \\forall \\varepsilon >0: P(|\\hat{\\theta_{n}}(X_{1}, ..., X_{n}) - \\theta| > \\varepsilon) \\xrightarrow{P} 0\n",
    "\\end{equation*}\n",
    "\n",
    "\n",
    "Состоятельность говорит о том что погрешность приближений стремиться к нулю при росте размера выборки, то есть выбросы $\\hat{\\theta_{n}}(X_{1}, ..., X_{n})$ за границы интервала ($\\theta - \\varepsilon$, $\\theta + \\varepsilon$) возможны, но с ростом $n$ вероятность выбросов стремиться к нулю.\n",
    "\n",
    "**Пример**: \n",
    "\n",
    "Выборочное среденее $\\bar{x}$ - состоятельная оценка математического ожидания нормального распределения ~$N(a, \\sigma^{2})$, так как дисперсия выборочного среденего (см. ранее) $D\\bar{x}=\\sigma^{2}/n$ и по неравенству Чебышева можно получить оценку:\n",
    "\\begin{equation*}\n",
    "P(|X-a|>\\varepsilon)=\\frac{DX}{\\varepsilon^{2}}=\\frac{\\sigma^{2}}{n\\varepsilon^{2}} \\xrightarrow[n \\rightarrow \\infty]{} 0,\n",
    "\\end{equation*}\n",
    "\n",
    "- **Эффективность**: Оценка $\\hat{\\theta^{*}}(X_{1}, ..., X_{n})$ называется эффективной на некотром классе оценок $K$ (фиксирован рамер выборки, и смотрим строим все возможные точечные оценки), если:\n",
    "\n",
    "\\begin{equation*}\n",
    "E(\\hat{\\theta^{*}}(X_{1}, ..., X_{n})-\\theta)^{2} < E(\\hat{\\theta}(X_{1}, ..., X_{n})-\\theta)^{2} \\quad \\forall \\hat{\\theta}(X_{1}, ..., X_{n}) \\in K\n",
    "\\end{equation*}\n",
    "\n",
    "Эффективной оценкой является та статистика, которая обращает неравенсво Крао-Рамера в равенство (на ограниченность снизу дисперсии). стр. 114 [Лагутенко](https://www.ozon.ru/context/detail/id/4620326/).\n",
    "\n",
    "**НАПИСАТЬ ПРО НЕГО**\n",
    "\n",
    "- **Нормальность**: \n",
    "\n",
    "- **Робастность**:\n"
   ]
  },
  {
   "cell_type": "markdown",
   "metadata": {},
   "source": [
    "### 3 Методы построения оценок.\n",
    "\n",
    "- **Метод моментов**: заключается в том что мы находим теоритический и эмпирический момент и приравниваем их. Хорошо объясняется на \n",
    "[stepic](https://stepik.org/lesson/39625/step/4?unit=45737), но помимо этого стоит иметь ввиду что можно приравнивать и центральные моменты (там сразу получится выборочная дисперсия).\n",
    "- **Метод максимального правдоподобия**: заключается в построении функции правдоподобия, которая по сути является вероятностью совместного распределения (или логарифм произведения), после чего необходимо найти начение которое доставляет максимум функции правдоподобия. То есть найти производную функции правдоподобия, приравнять к 0, и оттуда получить оценку. Подробнее можно посмотреть на [stepic](https://stepik.org/lesson/39625/step/8?unit=45737).\n",
    "Смысл этого метода чилсо умозрительный, мы выбираем распределение отвечающее тому параметро при котором значени выборки наиболее вероятны."
   ]
  },
  {
   "cell_type": "code",
   "execution_count": 2,
   "metadata": {},
   "outputs": [
    {
     "name": "stdout",
     "output_type": "stream",
     "text": [
      "(21.0, 79.0)\n"
     ]
    }
   ],
   "source": [
    "# Поиск дисперсии и  мат ожидания ген совокупности по стратам\n",
    "import numpy as np\n",
    "w = np.array([0.4, 0.6])\n",
    "s1 = np.array([282, 226, 188, 327, 344, 304, 414, 224, 335, 270], dtype=float)\n",
    "s2 = np.array([417,  851,  742, 1217, 1160,  993,  864,  852, 1286,  988], dtype=float)\n",
    "\n",
    "Exi = w[0]*(np.mean(s1)) + w[1]*np.mean(s2)\n",
    "Dxi = w[0]*(np.std(s1)**2+(np.mean(s1)-Exi)**2)+w[1]*(np.std(s2)**2+(np.mean(s2)-Exi)**2)\n",
    "\n",
    "\n",
    "# Задача с разделеением на старты\n",
    "w = np.array([0.25, 0.75])\n",
    "s = np.sqrt(np.array([4., 6.25]))\n",
    "# Это сколько должно быть в сумме вы выборке (в ген совокупности естественно больше) по стратам\n",
    "n = 100.\n",
    "\n",
    "n1 = n*w[0]*s[0] / np.sum(w*s)\n",
    "n2 = n*w[1]*s[1] / np.sum(w*s)\n",
    "print(np.round(n1), np.round(n2))\n"
   ]
  },
  {
   "cell_type": "markdown",
   "metadata": {},
   "source": [
    "\n",
    "### 4. Стратификация\n",
    "\n",
    "Еще одной важной особенностью работы с выборками является возможность **стратификации** выборки по некоторым признакам. \n",
    "Это важно, так как в большинстве случаев каждая **страта** будет иметь свои описательные харрактеристики (дисперсию, математическое ожидание, и.т.д.)\n",
    "\n",
    "Простейший пример стратификации - это распределение роста у мужчин и женщин.\n",
    "Допустим средний рост мужчин в России 170 см. а женщин 160 см. тогда будет неправильно компании которая шьет только мужскую одежду шить большинство размеров на 170 см. (среднее по всей выборке) так как большинство мужчин все-таки выше.\n",
    "\n",
    "На рисунке ниже показано такое рапределение по стратам."
   ]
  },
  {
   "cell_type": "code",
   "execution_count": 3,
   "metadata": {},
   "outputs": [
    {
     "data": {
      "image/png": "[encoded data removed]",
      "text/plain": [
       "<matplotlib.figure.Figure at 0x626bb70>"
      ]
     },
     "metadata": {},
     "output_type": "display_data"
    }
   ],
   "source": [
    "# Sample represent mens with average height=180\n",
    "men = np.random.normal(180, 5, 500)\n",
    "# Sample represent womens with average height=160\n",
    "women = np.random.normal(160, 10, 500)\n",
    "\n",
    "df = pd.DataFrame(zip(men, women))\n",
    "df.columns=['Men','Women']\n",
    "df.plot.hist(figsize=(8,5), alpha=0.5, bins=20, title=u'Distribution of height for men and women')\n",
    "plt.show()"
   ]
  },
  {
   "cell_type": "markdown",
   "metadata": {},
   "source": [
    "Пусть мы разбили генеральную совокупность c функцией распределения $F_{\\xi}(x)$ на $n$ страт, и процент элементов попавших в каждую страту будем обозначать как $w_{i}$.\n",
    "Таким образом, мы имеем вектор весов $w=[w_{1},...,w_{n}]$, и каждая страта имеет распределение $F_{\\xi_{i}}(x)$.\n",
    "\n",
    "Тогда $F_{\\xi}=\\sum_{i}w_{i}F_{\\xi_{i}}(x)$.\n",
    "\n",
    "Математическое ожидание генеральной совокупности по математическим ожиданиям страт:\n",
    "\\begin{equation*}\n",
    "    E\\xi=\\int_{-\\infty}^{+\\infty}xdF_{\\xi}(x)=\\int_{-\\infty}^{+\\infty}x\\sum_{i}w_{i}F_{\\xi_{i}}(x)=\\sum_{i}w_{i}\\int_{-\\infty}^{+\\infty}xdF_{\\xi_{i}}(x)=\\sum_{i}w_{i}\\mu_{i},\n",
    "\\end{equation*}\n",
    "где $\\mu_{i}$ - математическое ожидание каждой страты.\n",
    "\n",
    "Выборочное среднее генеральной совокупности $\\hat{X}=\\sum_{i}w_{i}\\hat{x}_{i}$, где $\\hat{x}_{i}$ - выборочное среднее для каждой страты $i$ является несмещенной оценкой и состоятельной (аналогично у диспресии $\\hat{X}$ в заменателе $n$, и поэтому она стремиться к нулю)\n",
    "\n",
    "Дисперсия генеральной совокупности по дисперсиям страт:\n",
    "\\begin{equation*}\n",
    "    D\\xi=\\int_{-\\infty}^{+\\infty}(x-E\\xi)dF_{\\xi}(x)=\n",
    "    \\int_{-\\infty}^{+\\infty}(x-E\\xi)\\sum_{i}w_{i}F_{\\xi_{i}}=\n",
    "    \\sum_{i}w_{i}\\Big(\\int_{-\\infty}^{+\\infty}(x-E\\xi_{i})dF_{\\xi_{i}}+\\int_{-\\infty}^{+\\infty}(E\\xi_{i}-E\\xi)dF_{\\xi_{i}}(x)\\Big)=\n",
    "    \\sum_{i}w_{i}[\\sigma_{i}^{2}+(\\mu_{i}-E\\xi)^2],\n",
    "\\end{equation*}\n",
    "где $\\sigma_{i}$ - дисперсия каждой страты, $\\mu_{i}$ - математическое ожидание каждой страты, $E\\xi$ - матматическое ожидание генеральной совокупности\n",
    "\n",
    "Выборочная дисперсия генеральной совокупности не явлеяется несмещенной оценкой.\n",
    "\n",
    "\n",
    "**Вопрос**: сколько элементов выбирать их каждой страты для получения оптимальной оценки математического ожидания и дисперсии генеральной совокупности, если объем суммарной выборки их всех страт $m$?\n",
    "\n",
    "На этот вопрос есть несколько ответов:\n",
    "- **Простая стратификация**: необходимо разделить объем общей выборки из всех страт $m$ на количество страт, и это и будет число элементов которые надо взять из каждой страты.\n",
    "- **Пропорциональная стратификация**: необходимо разделить объем общей выборки из всех страт $m$ пропорционально весам каждой из страты, и это и будет число элементов которые надо взять из каждой страты.\n",
    "- **Оптимальная стратификация**: необходимо разделить объем общей выборки из всех страт $m$ так, чтобы выполнялось соотношение:\n",
    "\n",
    "\\begin{equation*}\n",
    "    m_{i}=m\\frac{w_{i}\\sigma_{i}}{\\sum_{j}w_{j}\\sigma_{j}},\n",
    "\\end{equation*}\n",
    "где $w_{i}$ - вес $i$-ой страты, а $\\sigma_{i}$ - среднее квадратичное отклонение каждой страты.\n",
    "\n",
    "**Важно**: Оптимальная стратификация приводит к наименьшей оценки дисперсии.\n",
    "\n",
    "**Пример**:\n",
    "\n",
    "Зададим генеральную совокупность размера $n=500000$, которую поделим на три страты c $w=[0.5, 0.2, 0.3]$.\n",
    "Будем делать выборку из $m=40$ элементов, разделенную между стратами, а число элементов выбирать по одному из трех способов стратификации.\n",
    "Для выбранной выборки найдем выборочное среднее (оценим математическое ожидание) и выборочную дисперсию (оценим дисперсию) для генеральной совокупности по формулам выше.\n",
    "\n",
    "Повторим эту процедуру 4000 раз и получим распределение оценок математического ожидания и дисперсий, для которых построим коробку с усами.\n",
    "\n",
    "Ниже мы создаем генеральную совокупность и страты."
   ]
  },
  {
   "cell_type": "code",
   "execution_count": 5,
   "metadata": {
    "collapsed": true
   },
   "outputs": [],
   "source": [
    "import pandas as pd\n",
    "import matplotlib.pyplot as plt\n",
    "\n",
    "# Weights show us percentage of elements in each strat\n",
    "w = np.array([0.5, 0.2, 0.3])\n",
    "# Expected mean value, dispersion and standard deviation\n",
    "Exi = np.array([1,3,5], dtype=float)\n",
    "Dxi = np.array([0.25,1,25], dtype=float)\n",
    "sxi = np.sqrt(Dxi)\n",
    "\n",
    "# Total number of elements in geneeral sample\n",
    "gen_sample_size = 500000\n",
    "gen_samples_size = np.array(w*gen_sample_size, dtype=int)\n",
    "\n",
    "# Create strats samples and general sample \n",
    "strats = [np.random.normal(Exi[i], sxi[i], gen_samples_size[i]) for i in range(w.shape[0])]\n",
    "gen_sample = np.hstack(strats)\n",
    "# Calculate real dispersion and mean values\n",
    "real_E = np.mean(gen_sample)\n",
    "real_D = np.std(gen_sample)**2"
   ]
  },
  {
   "cell_type": "markdown",
   "metadata": {},
   "source": [
    "Ниже мы выполняем описанную задачу (можно укоротить скрипт). \n",
    "\n",
    "Подобное выполянется на [stepic](https://stepik.org/lesson/26213/step/10?unit=8136)"
   ]
  },
  {
   "cell_type": "code",
   "execution_count": 6,
   "metadata": {},
   "outputs": [
    {
     "data": {
      "image/png": "[encoded data removed]",
      "text/plain": [
       "<matplotlib.figure.Figure at 0xc021940>"
      ]
     },
     "metadata": {},
     "output_type": "display_data"
    },
    {
     "data": {
      "image/png": "[encoded data removed]",
      "text/plain": [
       "<matplotlib.figure.Figure at 0xc4b6048>"
      ]
     },
     "metadata": {},
     "output_type": "display_data"
    }
   ],
   "source": [
    "# Size of sempl we choose from general sample\n",
    "sample_size = 40\n",
    "number_of_rep = 4000\n",
    "\n",
    "# Optimal coeffs for each strat\n",
    "optimal_coefs = map(lambda x: int(np.round(x)), \n",
    "                    np.array([sample_size*w[i]*sxi[i] for i in range(3)])/np.sum(w*sxi))\n",
    "# Proposional coeffs for each strat\n",
    "prop_coefs = map(lambda x: int(np.round(x)), np.array([sample_size*w[i] for i in range(3)]))\n",
    "# Standart coeffs for each strat\n",
    "stand_coefs = [ int(round(sample_size / w.shape[0])) for i in range(3)]\n",
    "\n",
    "# Below in each repetition we find out mean and std for each approach\n",
    "# And than plot distribution of calculcated mean and std values\n",
    "mean = [[],[],[]]\n",
    "std = [[],[],[]]\n",
    "\n",
    "for i in range(number_of_rep):\n",
    "    E_op = 0.\n",
    "    samples = []\n",
    "    for i in range(len(optimal_coefs)):\n",
    "        # Choose appropriate number of values from each strat\n",
    "        si_sample = np.random.choice(strats[i], optimal_coefs[i])\n",
    "        E_op += w[i]*np.mean(si_sample)\n",
    "        samples.append(si_sample)\n",
    "    mean[0].append(E_op)\n",
    "    \n",
    "    D_op = 0.\n",
    "    for i in range(len(optimal_coefs)):\n",
    "        # Find dispersion for this strat\n",
    "        D_op += w[i]*(np.std(samples[i])**2+(np.mean(samples[i])-E_op)**2) \n",
    "    std[0].append(D_op)\n",
    "    \n",
    "    E_pr = 0.\n",
    "    D_pr = 0.\n",
    "    samples = []\n",
    "    for i in range(len(prop_coefs)):\n",
    "        # Choose appropriate number of values from each strat\n",
    "        si_sample = np.random.choice(strats[i], prop_coefs[i])\n",
    "        # Find mean value for this strat\n",
    "        E_pr += w[i]*np.mean(si_sample)\n",
    "        samples.append(si_sample)\n",
    "    mean[1].append(E_pr)\n",
    "    \n",
    "    for i in range(len(prop_coefs)):\n",
    "        # Find dispersion for this strat\n",
    "        D_pr += w[i]*(np.std(samples[i])**2+(np.mean(samples[i])-E_pr)**2) \n",
    "    std[1].append(D_pr)\n",
    "    \n",
    "    E_st = 0.\n",
    "    D_st = 0.\n",
    "    samples = []\n",
    "    for i in range(len(stand_coefs)):\n",
    "        # Choose appropriate number of values from each strat\n",
    "        si_sample = np.random.choice(strats[i], stand_coefs[i])\n",
    "        # Find mean value for this strat\n",
    "        E_st += w[i]*np.mean(si_sample)\n",
    "        samples.append(si_sample)\n",
    "    mean[2].append(E_st)\n",
    "    \n",
    "    for i in range(len(stand_coefs)):\n",
    "        # Find dispersion for this strat\n",
    "        D_st += w[i]*(np.std(samples[i])**2+(np.mean(samples[i])-E_st)**2) \n",
    "    std[2].append(D_st)\n",
    "\n",
    "# Plot Mean distribution\n",
    "df = pd.DataFrame(zip(mean[2],mean[1],mean[0]))\n",
    "df.columns = ['Simple', 'Proportional', 'Optimal']\n",
    "df.plot.box(figsize=(10,5),title='Mean values')\n",
    "plt.plot([0, 5],[real_E, real_E], color='C1', alpha=0.2, lw=3)\n",
    "plt.show()\n",
    "\n",
    "# Plot STD distribution\n",
    "df = pd.DataFrame(zip(std[2],std[1],std[0]))\n",
    "df.columns = ['Simple', 'Proportional', 'Optimal']\n",
    "df.plot.box(figsize=(10,5),title='Standart deviation values')\n",
    "plt.plot([0, 5],[real_D, real_D], color='C1', alpha=0.2, lw=3)\n",
    "plt.show()"
   ]
  },
  {
   "cell_type": "markdown",
   "metadata": {},
   "source": [
    "**Результат**:\n",
    "- Видно что значения выборочных средних не отличаются от мат. ожидания всей генеральной совокупности - **несмещенность**.\n",
    "- Видно что значения выборочных дисперсий отличаются от дисперсии всей генеральной совокупности - **смещенность**, но с ростом размера выборки $m$ убывает - **состоятельность**.\n",
    "- Оптимальная стратификация доставляет минимум дисперсии оценок, как математического ожидания, так и дисперсии. Поэтому она является оптимальной."
   ]
  }
 ],
 "metadata": {
  "kernelspec": {
   "display_name": "Python 2",
   "language": "python",
   "name": "python2"
  },
  "language_info": {
   "codemirror_mode": {
    "name": "ipython",
    "version": 2
   },
   "file_extension": ".py",
   "mimetype": "text/x-python",
   "name": "python",
   "nbconvert_exporter": "python",
   "pygments_lexer": "ipython2",
   "version": "2.7.13"
  }
 },
 "nbformat": 4,
 "nbformat_minor": 2
}
