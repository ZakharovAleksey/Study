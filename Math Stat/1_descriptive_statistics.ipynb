{
 "cells": [
  {
   "cell_type": "code",
   "execution_count": 8,
   "metadata": {
    "collapsed": true
   },
   "outputs": [],
   "source": [
    "import numpy as np\n",
    "import pandas as pd\n",
    "import matplotlib.pyplot as plt\n",
    "import seaborn as sns\n",
    "import scipy.stats as st\n",
    "import os"
   ]
  },
  {
   "cell_type": "markdown",
   "metadata": {},
   "source": [
    "# Математическая статистика.\n",
    "\n",
    "В математической статистике мы хотим на оснгове некотрой выборки сделать какие-либо выводы о характере распределения для того чтобы иметь возможность проводить классификацию, кластеризацию, троить регрессию, предсказывать данные.\n",
    "\n",
    "Будем рассматривать какую-либо выборку $X=[x_{1}, x_{2}, ..., x_{n}]$.\n",
    "\n",
    "Но для простоты и универсальности сгеренируем выборку некоторого размера из нормального распределения, экспоненциального, Пуассона, и.т.д. \n",
    "(Все генераторы распределений есть внутри np.random.) "
   ]
  },
  {
   "cell_type": "code",
   "execution_count": 2,
   "metadata": {},
   "outputs": [
    {
     "data": {
      "text/html": [
       "<div>\n",
       "<style>\n",
       "    .dataframe thead tr:only-child th {\n",
       "        text-align: right;\n",
       "    }\n",
       "\n",
       "    .dataframe thead th {\n",
       "        text-align: left;\n",
       "    }\n",
       "\n",
       "    .dataframe tbody tr th {\n",
       "        vertical-align: top;\n",
       "    }\n",
       "</style>\n",
       "<table border=\"1\" class=\"dataframe\">\n",
       "  <thead>\n",
       "    <tr style=\"text-align: right;\">\n",
       "      <th></th>\n",
       "      <th>Norm</th>\n",
       "      <th>Exp</th>\n",
       "      <th>Pois</th>\n",
       "      <th>Geom</th>\n",
       "      <th>Unif</th>\n",
       "    </tr>\n",
       "  </thead>\n",
       "  <tbody>\n",
       "    <tr>\n",
       "      <th>0</th>\n",
       "      <td>4.583893</td>\n",
       "      <td>0.088701</td>\n",
       "      <td>1</td>\n",
       "      <td>2</td>\n",
       "      <td>7.308927</td>\n",
       "    </tr>\n",
       "    <tr>\n",
       "      <th>1</th>\n",
       "      <td>5.772325</td>\n",
       "      <td>0.334291</td>\n",
       "      <td>5</td>\n",
       "      <td>1</td>\n",
       "      <td>4.867239</td>\n",
       "    </tr>\n",
       "    <tr>\n",
       "      <th>2</th>\n",
       "      <td>6.728120</td>\n",
       "      <td>0.191693</td>\n",
       "      <td>8</td>\n",
       "      <td>1</td>\n",
       "      <td>6.680784</td>\n",
       "    </tr>\n",
       "    <tr>\n",
       "      <th>3</th>\n",
       "      <td>3.974179</td>\n",
       "      <td>0.027338</td>\n",
       "      <td>6</td>\n",
       "      <td>3</td>\n",
       "      <td>5.714510</td>\n",
       "    </tr>\n",
       "    <tr>\n",
       "      <th>4</th>\n",
       "      <td>6.469754</td>\n",
       "      <td>0.079146</td>\n",
       "      <td>8</td>\n",
       "      <td>3</td>\n",
       "      <td>5.092744</td>\n",
       "    </tr>\n",
       "  </tbody>\n",
       "</table>\n",
       "</div>"
      ],
      "text/plain": [
       "       Norm       Exp  Pois  Geom      Unif\n",
       "0  4.583893  0.088701     1     2  7.308927\n",
       "1  5.772325  0.334291     5     1  4.867239\n",
       "2  6.728120  0.191693     8     1  6.680784\n",
       "3  3.974179  0.027338     6     3  5.714510\n",
       "4  6.469754  0.079146     8     3  5.092744"
      ]
     },
     "execution_count": 2,
     "metadata": {},
     "output_type": "execute_result"
    }
   ],
   "source": [
    "# Generate sample with different distributions\n",
    "n = 100\n",
    "X_norm = np.random.normal(5, 2, n)\n",
    "X_exp  = np.random.exponential(0.2, n)\n",
    "X_pois = np.random.poisson(5, n)\n",
    "X_geom = np.random.geometric(0.3, n)\n",
    "X_unif = np.random.uniform(1, 9, n)\n",
    "\n",
    "# Create pandas dataframe\n",
    "data = zip(X_norm, X_exp, X_pois, X_geom, X_unif)\n",
    "df = pd.DataFrame(data, columns=['Norm', 'Exp', 'Pois', 'Geom', 'Unif'])\n",
    "names = df.columns.values\n",
    "df.head()"
   ]
  },
  {
   "cell_type": "markdown",
   "metadata": {},
   "source": [
    "## Описательные статистики.\n",
    "\n",
    "По сути своей описательные статистики помогают понять общие закономерности, свойственные нашей выборке.\n",
    "\n",
    "Изучение данных фактически начинается с анализа описательных статистик и того что можно по ним узнать.\n",
    "\n",
    "Под нахождением описательных статистик понимают поиск:\n",
    "- **Выборочное среднее** $X = \\frac{1}{n}\\sum_{i}x_{i}$ (математическое ожидание). np.mean(data)\n",
    "- **Выборочная дисперсия** $D=\\frac{1}{n}\\sum_{i}(x_{i}-X)^{2}$, где $X$ - это выборочное среднее. (квадратичное отклонение np.std(data))\n",
    "- **Квантили распределения** Обычно выделяют три основных квантили (25%, 50%, 75%). np.percentile(data, 25)\n",
    "- **Порядковые статистики** $X_{1}=min(X)$ минимум среди всех элементов выборки. $X_{2}=min(X|X_{1})$ минимум чреди всех элементов выборки не считая первого. Стоит отметить что порядковая статистика $X_{n}=max(X)$. (np.min(data), np.max(data))\n",
    "- **Коэффицент корреляции** $\\rho = \\frac{\\sum_{i}X_{i}Y_{i}-XY}{\\sqrt(D\\eta_{1}D_eta_{2})}$, где $X,Y$ -выборочные средние. Коэффициент говорит о том, есть ли линейная связь вероятности между двумя выборками (признаками). (np.corrcoef(data_1, data_2))\n",
    "\n",
    "Все эти статистики (кроме коэффициента корреляции) выводит *pandas* все одной функцией.\n",
    "\n",
    "\n",
    "**Что такое квантиль**.\n",
    "Квантиль - это число (число на оси $x$) такое, что с заданной вероятностью (как раз 0.25, 0.5 или 0.75 соответственно) значение случайной величины $\\eta$ лежит левее данного числа.\n",
    "\n",
    "То есть $P(\\eta < x) = 0.25$ тогда $x$ - квантиль порядка 0.25. \n",
    "Графически, для неперерывных случайных величин площадь под графиком плотности распределения до этого числа должна равняться 0.25."
   ]
  },
  {
   "cell_type": "code",
   "execution_count": 3,
   "metadata": {},
   "outputs": [
    {
     "data": {
      "text/html": [
       "<div>\n",
       "<style>\n",
       "    .dataframe thead tr:only-child th {\n",
       "        text-align: right;\n",
       "    }\n",
       "\n",
       "    .dataframe thead th {\n",
       "        text-align: left;\n",
       "    }\n",
       "\n",
       "    .dataframe tbody tr th {\n",
       "        vertical-align: top;\n",
       "    }\n",
       "</style>\n",
       "<table border=\"1\" class=\"dataframe\">\n",
       "  <thead>\n",
       "    <tr style=\"text-align: right;\">\n",
       "      <th></th>\n",
       "      <th>Norm</th>\n",
       "      <th>Exp</th>\n",
       "      <th>Pois</th>\n",
       "      <th>Geom</th>\n",
       "      <th>Unif</th>\n",
       "    </tr>\n",
       "  </thead>\n",
       "  <tbody>\n",
       "    <tr>\n",
       "      <th>count</th>\n",
       "      <td>100.000000</td>\n",
       "      <td>100.000000</td>\n",
       "      <td>100.000000</td>\n",
       "      <td>100.000000</td>\n",
       "      <td>100.000000</td>\n",
       "    </tr>\n",
       "    <tr>\n",
       "      <th>mean</th>\n",
       "      <td>4.787349</td>\n",
       "      <td>0.184814</td>\n",
       "      <td>5.100000</td>\n",
       "      <td>3.360000</td>\n",
       "      <td>4.847533</td>\n",
       "    </tr>\n",
       "    <tr>\n",
       "      <th>std</th>\n",
       "      <td>1.768372</td>\n",
       "      <td>0.183229</td>\n",
       "      <td>2.148525</td>\n",
       "      <td>2.732224</td>\n",
       "      <td>2.293034</td>\n",
       "    </tr>\n",
       "    <tr>\n",
       "      <th>min</th>\n",
       "      <td>0.051601</td>\n",
       "      <td>0.002412</td>\n",
       "      <td>0.000000</td>\n",
       "      <td>1.000000</td>\n",
       "      <td>1.004096</td>\n",
       "    </tr>\n",
       "    <tr>\n",
       "      <th>25%</th>\n",
       "      <td>3.518462</td>\n",
       "      <td>0.056985</td>\n",
       "      <td>3.750000</td>\n",
       "      <td>2.000000</td>\n",
       "      <td>2.966938</td>\n",
       "    </tr>\n",
       "    <tr>\n",
       "      <th>50%</th>\n",
       "      <td>4.906395</td>\n",
       "      <td>0.116698</td>\n",
       "      <td>5.000000</td>\n",
       "      <td>3.000000</td>\n",
       "      <td>4.881104</td>\n",
       "    </tr>\n",
       "    <tr>\n",
       "      <th>75%</th>\n",
       "      <td>5.970497</td>\n",
       "      <td>0.245463</td>\n",
       "      <td>7.000000</td>\n",
       "      <td>4.000000</td>\n",
       "      <td>6.691324</td>\n",
       "    </tr>\n",
       "    <tr>\n",
       "      <th>max</th>\n",
       "      <td>9.759253</td>\n",
       "      <td>0.969430</td>\n",
       "      <td>10.000000</td>\n",
       "      <td>16.000000</td>\n",
       "      <td>8.871887</td>\n",
       "    </tr>\n",
       "  </tbody>\n",
       "</table>\n",
       "</div>"
      ],
      "text/plain": [
       "             Norm         Exp        Pois        Geom        Unif\n",
       "count  100.000000  100.000000  100.000000  100.000000  100.000000\n",
       "mean     4.787349    0.184814    5.100000    3.360000    4.847533\n",
       "std      1.768372    0.183229    2.148525    2.732224    2.293034\n",
       "min      0.051601    0.002412    0.000000    1.000000    1.004096\n",
       "25%      3.518462    0.056985    3.750000    2.000000    2.966938\n",
       "50%      4.906395    0.116698    5.000000    3.000000    4.881104\n",
       "75%      5.970497    0.245463    7.000000    4.000000    6.691324\n",
       "max      9.759253    0.969430   10.000000   16.000000    8.871887"
      ]
     },
     "execution_count": 3,
     "metadata": {},
     "output_type": "execute_result"
    }
   ],
   "source": [
    "df.describe()"
   ]
  },
  {
   "cell_type": "markdown",
   "metadata": {},
   "source": [
    "Стоит отметить некотрые описательные статистики, которые не выводится одной строчкой *pandas*.\n",
    "\n",
    "- **Медиана распределения**. Это число $\\alpha$ такое, что $P(x < \\alpha)$ и $P(x> \\alpha)$ обе равны 0.5. Стоит отметить что медиана может не быть единственной. np.median(data).\n",
    "\n",
    "Существуют и другие описательные статистики, которые говорят о симметричности,  выпуклости, угловатости функции распределния, но я их не буду приводить. Отмечу только что они доступны (st.kurtosis(data), st.skew(data), ...) при: \n",
    "\n",
    "*import scipy.stats as st*\n",
    "\n",
    "\n",
    "\n",
    "**Описательные статистики обычно принято визуализировать.** \n",
    "Потому что наглядность позволяет легче ориентроваться и делать выводы касательно распределния. \n",
    "Ссылка где можно посмтриеть [визуализацию](https://pandas.pydata.org/pandas-docs/stable/visualization.html).\n",
    "\n",
    "Имеется два основных средства визуализации:\n",
    "\n",
    "Коробка с усами **boxplot**.\n",
    "- черточка в середине прямоугольника соответствует выборочному среднему (около него группируются данные). \n",
    "- Нижняя граница прямоугольника это квантитиль $Q_{1}$ первого порядка (25).\n",
    "- Верхняя граница прямоугольника квантиль $Q_{3}$ третьего порядка (75). \n",
    "- Черта выше прямоугольника (ус) это уровень $Q_{3}+(Q_{3}-Q_{1})$.\n",
    "- Черта ниже прямоугольника (ус) это уровень $Q_{1}-(Q_{3}-Q_{1})$.\n",
    "\n",
    "Точки которые непопали между усами это выбросы (Например кто-то очень много денег тратит на образование по сравнению с остальными - это будет выброс)."
   ]
  },
  {
   "cell_type": "code",
   "execution_count": 4,
   "metadata": {},
   "outputs": [
    {
     "data": {
      "image/png": "[encoded data removed]",
      "text/plain": [
       "<matplotlib.figure.Figure at 0xbdc92b0>"
      ]
     },
     "metadata": {},
     "output_type": "display_data"
    }
   ],
   "source": [
    "df[names].plot.box(figsize=(10,5), )\n",
    "plt.show()"
   ]
  },
  {
   "cell_type": "markdown",
   "metadata": {},
   "source": [
    "Гистограмма распределения **histogramm** говорит о распределении данных выборки.\n",
    "- Стоит отметить что припомощи гистограммы в *pandas* можно просто построить **CDF**, для этого указав *cumsum=True*."
   ]
  },
  {
   "cell_type": "code",
   "execution_count": 5,
   "metadata": {},
   "outputs": [
    {
     "data": {
      "image/png": "[encoded data removed]",
      "text/plain": [
       "<matplotlib.figure.Figure at 0xbdbc6a0>"
      ]
     },
     "metadata": {},
     "output_type": "display_data"
    }
   ],
   "source": [
    "df[names].plot.hist(figsize=(10,5), alpha=0.5, bins=10)\n",
    "plt.show()\n",
    "# Good way to visualise data using seaborn\n",
    "# sns.distplot(df['Norm'])"
   ]
  },
  {
   "cell_type": "markdown",
   "metadata": {},
   "source": [
    "### 1.5. Задание по описательным статистикам.\n",
    "\n",
    "Правда ли, что пятница 13е неудачный день."
   ]
  },
  {
   "cell_type": "code",
   "execution_count": 10,
   "metadata": {},
   "outputs": [
    {
     "name": "stdout",
     "output_type": "stream",
     "text": [
      "46.4888888889\n",
      "4.96387147482\n",
      "1.47236056147\n"
     ]
    }
   ],
   "source": [
    "# Load dataframe\n",
    "file_name = os.path.join('data', '13_6.txt')\n",
    "df = pd.read_csv(file_name, sep = '\\t', header=None)\n",
    "df.columns = ['Data Type', 'Date', 'Fry6', 'Fry13', 'Shop']\n",
    "\n",
    "# Difference between 6 and 13\n",
    "df['Diff'] = df['Fry13'] - df['Fry6']\n",
    "diff = df['Diff'].values\n",
    "\n",
    "# Plot stats for 1.4\n",
    "df.describe()\n",
    "print(np.average(diff))\n",
    "print(st.kurtosis(diff))\n",
    "print(st.skew(diff))"
   ]
  },
  {
   "cell_type": "markdown",
   "metadata": {},
   "source": [
    "### 1.5. Задание по описательным статистикам.\n",
    "\n",
    "Описание университетов."
   ]
  },
  {
   "cell_type": "code",
   "execution_count": 11,
   "metadata": {},
   "outputs": [
    {
     "name": "stdout",
     "output_type": "stream",
     "text": [
      "No connection\n",
      "1256.64\n",
      "45.0\n",
      "29    Cal Tech\n",
      "Name: School, dtype: object\n"
     ]
    }
   ],
   "source": [
    "import numpy as np\n",
    "import pandas as pd\n",
    "import seaborn as sns\n",
    "import scipy.stats as st\n",
    "\n",
    "file_name = os.path.join('data', 'school.txt')\n",
    "df = pd.read_csv(file_name, sep='\\t')\n",
    "# Separate on two groups by School_Type\n",
    "art_df  = df[df['School_Type']=='Lib Arts'].copy().assign(Location=1)\n",
    "univ_df = df[df['School_Type']=='Univ'].copy().assign(Location=2)\n",
    "\n",
    "# Check that this datasets has no connection between each other (1.5.7)\n",
    "sc1 = set(univ_df['School'].unique())\n",
    "sc2 = set(art_df['School'].unique())\n",
    "if not bool(sc1.intersection(sc2)):\n",
    "    print('No connection')\n",
    "\n",
    "# (1.5.8)\n",
    "ids = ['%PhD','Grad%']\n",
    "\n",
    "for cur_id in ids:\n",
    "    #pd.concat([art_df[cur_id], univ_df[cur_id]], axis=1).plot.hist(figsize=(10,5),alpha = 0.5, bins=10, title = cur_id)\n",
    "    #pd.concat([art_df[cur_id], univ_df[cur_id]], axis=1).plot.box(figsize=(10,5), title = cur_id)\n",
    "    #pd.concat([art_df[cur_id], univ_df[cur_id]], axis=1).plot.hist(figsize=(10,5),cumulative=True, normed=1, bins=100, alpha = 0.5)\n",
    "    plt.show()\n",
    "\n",
    "# (1.5.9)\n",
    "print(art_df['SAT'].mean())\n",
    "print(np.percentile(univ_df['Acceptance'].values, 75))\n",
    "\n",
    "index = univ_df.index[ univ_df['$/Student'] == univ_df['$/Student'].max()]\n",
    "print(univ_df.iloc[index - 25]['School'])"
   ]
  }
 ],
 "metadata": {
  "kernelspec": {
   "display_name": "Python 2",
   "language": "python",
   "name": "python2"
  },
  "language_info": {
   "codemirror_mode": {
    "name": "ipython",
    "version": 2
   },
   "file_extension": ".py",
   "mimetype": "text/x-python",
   "name": "python",
   "nbconvert_exporter": "python",
   "pygments_lexer": "ipython2",
   "version": "2.7.13"
  }
 },
 "nbformat": 4,
 "nbformat_minor": 2
}
