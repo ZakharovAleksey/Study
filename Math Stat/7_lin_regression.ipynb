{
 "cells": [
  {
   "cell_type": "code",
   "execution_count": 1,
   "metadata": {
    "collapsed": true
   },
   "outputs": [],
   "source": [
    "import numpy as np\n",
    "import matplotlib.pyplot as plt\n",
    "from sklearn.linear_model import LinearRegression\n",
    "import pandas as pd\n",
    "import scipy.stats as st\n",
    "import os"
   ]
  },
  {
   "cell_type": "code",
   "execution_count": 163,
   "metadata": {
    "collapsed": true
   },
   "outputs": [],
   "source": [
    "file_name = os.path.join(os.getcwd(), 'data', 'car_regr.txt')\n",
    "data = pd.read_csv(file_name, delimiter = '\\t')"
   ]
  },
  {
   "cell_type": "code",
   "execution_count": 80,
   "metadata": {},
   "outputs": [
    {
     "data": {
      "text/plain": [
       "0.044508874232087048"
      ]
     },
     "execution_count": 80,
     "metadata": {},
     "output_type": "execute_result"
    }
   ],
   "source": [
    "y = data['price'].values; X = data['year'].values.reshape(-1, 1)\n",
    "\n",
    "clf = LinearRegression()\n",
    "clf.fit(X, y)\n",
    "\n",
    "w1 = clf.coef_\n",
    "w0 = clf.intercept_\n",
    "\n",
    "\n",
    "x1 = np.array(data['year'].values, dtype = float)\n",
    "y1 = np.array(data['price'].values, dtype = float)\n",
    "e = (y1 - (w1 * x1 + w0))\n",
    "RSS = np.sum(e**2)\n",
    "s = np.sqrt( RSS / (e.shape[0] - 2.))\n",
    "\n",
    "alpha = 0.05\n",
    "\n",
    "\n",
    "D_year = np.sum( (x1 - np.mean(x1))**2 ) / (x1.shape[0] - 1)\n",
    "st.t.ppf(1. - alpha / 2., e.shape[0] - 2) * s * np.sqrt(1. / (e.shape[0] * D_year) )\n",
    "\n",
    "\n",
    "\n",
    "p_2012 = int((w0 + w1 * 2012.)[0])\n",
    "\n",
    "den = (1. + ((2012. - np.mean(x1))**2 / D_year)) / x1.shape[0]\n",
    "c = (p_2012 - 290.) / (s * np.sqrt(den))\n",
    "\n",
    "1. - st.t.cdf(c, x1.shape[0] - 2)"
   ]
  },
  {
   "cell_type": "code",
   "execution_count": 164,
   "metadata": {},
   "outputs": [
    {
     "data": {
      "text/html": [
       "<div>\n",
       "<style>\n",
       "    .dataframe thead tr:only-child th {\n",
       "        text-align: right;\n",
       "    }\n",
       "\n",
       "    .dataframe thead th {\n",
       "        text-align: left;\n",
       "    }\n",
       "\n",
       "    .dataframe tbody tr th {\n",
       "        vertical-align: top;\n",
       "    }\n",
       "</style>\n",
       "<table border=\"1\" class=\"dataframe\">\n",
       "  <thead>\n",
       "    <tr style=\"text-align: right;\">\n",
       "      <th></th>\n",
       "      <th>price</th>\n",
       "      <th>year</th>\n",
       "      <th>mileage</th>\n",
       "      <th>auto</th>\n",
       "    </tr>\n",
       "  </thead>\n",
       "  <tbody>\n",
       "    <tr>\n",
       "      <th>0</th>\n",
       "      <td>250</td>\n",
       "      <td>2010</td>\n",
       "      <td>67.0</td>\n",
       "      <td>0</td>\n",
       "    </tr>\n",
       "    <tr>\n",
       "      <th>1</th>\n",
       "      <td>365</td>\n",
       "      <td>2013</td>\n",
       "      <td>59.0</td>\n",
       "      <td>0</td>\n",
       "    </tr>\n",
       "    <tr>\n",
       "      <th>2</th>\n",
       "      <td>365</td>\n",
       "      <td>2013</td>\n",
       "      <td>59.0</td>\n",
       "      <td>0</td>\n",
       "    </tr>\n",
       "    <tr>\n",
       "      <th>3</th>\n",
       "      <td>250</td>\n",
       "      <td>2009</td>\n",
       "      <td>95.0</td>\n",
       "      <td>0</td>\n",
       "    </tr>\n",
       "    <tr>\n",
       "      <th>4</th>\n",
       "      <td>310</td>\n",
       "      <td>2011</td>\n",
       "      <td>76.5</td>\n",
       "      <td>0</td>\n",
       "    </tr>\n",
       "  </tbody>\n",
       "</table>\n",
       "</div>"
      ],
      "text/plain": [
       "   price  year  mileage  auto\n",
       "0    250  2010     67.0     0\n",
       "1    365  2013     59.0     0\n",
       "2    365  2013     59.0     0\n",
       "3    250  2009     95.0     0\n",
       "4    310  2011     76.5     0"
      ]
     },
     "execution_count": 164,
     "metadata": {},
     "output_type": "execute_result"
    }
   ],
   "source": [
    "data['auto'] = map(lambda x: int(x), data['auto'] == 'AT')\n",
    "data.head()"
   ]
  },
  {
   "cell_type": "code",
   "execution_count": 165,
   "metadata": {},
   "outputs": [
    {
     "name": "stdout",
     "output_type": "stream",
     "text": [
      "[  20.48836148   -0.13139714  103.58272344]\n"
     ]
    },
    {
     "data": {
      "text/plain": [
       "0.75"
      ]
     },
     "execution_count": 165,
     "metadata": {},
     "output_type": "execute_result"
    }
   ],
   "source": [
    "y = data['price'].values\n",
    "X = data[['year', 'mileage', 'auto']].as_matrix()\n",
    "\n",
    "clf = LinearRegression()\n",
    "clf.fit(X, y)\n",
    "print(clf.coef_)\n",
    "\n",
    "A0 = np.ones((X.shape[0],1))\n",
    "A = np.hstack((A0,X))\n",
    "\n",
    "a = np.linalg.inv(np.dot(A.T, A))\n",
    "alpha = 0.05\n",
    "S = np.sqrt(np.sum((y - (np.dot(X, clf.coef_) + clf.intercept_))**2) / (y.shape[0] - clf.coef_.shape[0] - 1))\n",
    "betta = st.t.ppf(1. - alpha / 2., y.shape[0] - clf.coef_.shape[0] - 1) * S * np.sqrt(a[2][2])\n",
    "round(betta, 3)\n",
    "\n",
    "from sklearn.metrics import r2_score\n",
    "round(r2_score(y, clf.predict(X)), 2)"
   ]
  },
  {
   "cell_type": "code",
   "execution_count": 147,
   "metadata": {},
   "outputs": [
    {
     "data": {
      "text/plain": [
       "1.24"
      ]
     },
     "execution_count": 147,
     "metadata": {},
     "output_type": "execute_result"
    }
   ],
   "source": [
    "h22 = np.dot(np.dot(A, np.linalg.inv(np.dot(A.T, A))), A.T)[2][2]\n",
    "d2 = (y[1] - clf.predict(X)[1]) / (S*np.sqrt(1. - h22))\n",
    "round(d2, 2)"
   ]
  },
  {
   "cell_type": "code",
   "execution_count": 150,
   "metadata": {
    "collapsed": true
   },
   "outputs": [],
   "source": [
    "file_name = os.path.join(os.getcwd(), 'data', 'regr.txt')\n",
    "data = pd.read_csv(file_name, delimiter = ' ')\n",
    "x = data['X']; y = data['Y']"
   ]
  },
  {
   "cell_type": "code",
   "execution_count": 162,
   "metadata": {},
   "outputs": [
    {
     "data": {
      "image/png": "[encoded data removed]",
      "text/plain": [
       "<matplotlib.figure.Figure at 0x9ec7860>"
      ]
     },
     "metadata": {},
     "output_type": "display_data"
    }
   ],
   "source": [
    "y_ = 4.66 + 1.03 * y\n",
    "e = y_ - y\n",
    "\n",
    "#S = S = np.sqrt(np.sum((y - y_)**2) / (y.shape[0] - 2 - 1))\n",
    "#d2 = (y - y_) / (S*np.sqrt(1. - h))\n",
    "\n",
    "fig, ax = plt.subplots(figsize = (7, 5))\n",
    "\n",
    "#ax.plot(np.linspace(0, 1, y.shape[0]), e)\n",
    "\n",
    "\n",
    "st.probplot(e, plot = ax)\n",
    "\n",
    "plt.show()"
   ]
  },
  {
   "cell_type": "code",
   "execution_count": 181,
   "metadata": {},
   "outputs": [
    {
     "name": "stdout",
     "output_type": "stream",
     "text": [
      "(-2.3060041350333709, 2.3060041350333704)\n"
     ]
    }
   ],
   "source": [
    "p = [[3.25, 0.62],   [2.51,0.95],  [1.46,0.37],  [2.37,1.64], [ 2.45, 0.60], [-0.07,0.19], [ 3.78,1.81], [0.53,0.24], [ 2.09,1.26],  [1.74,-0.93]]\n",
    "x = []\n",
    "y = []\n",
    "for pa in p:\n",
    "    x.append(pa[0])\n",
    "    y.append(pa[1])\n",
    "cor = st.pearsonr(x, y)[0]\n",
    "round(cor * np.sqrt(len(x) - 2) / np.sqrt(1. - cor**2), 2)\n",
    "alpha = 0.05\n",
    "print( st.t.ppf(alpha/2., (len(x) - 2)), st.t.ppf(1.-alpha/2., (len(x) - 2)))"
   ]
  },
  {
   "cell_type": "code",
   "execution_count": 184,
   "metadata": {},
   "outputs": [
    {
     "data": {
      "text/plain": [
       "KendalltauResult(correlation=0.28888888888888886, pvalue=0.24492877823603054)"
      ]
     },
     "execution_count": 184,
     "metadata": {},
     "output_type": "execute_result"
    }
   ],
   "source": [
    "x = [10, 6, 8, 2, 3, 9, 1, 5, 7, 4]\n",
    "y = [6, 2, 10, 8, 3, 9, 1, 5, 4, 7]\n",
    "\n",
    "st.kendalltau(x, y)"
   ]
  },
  {
   "cell_type": "code",
   "execution_count": null,
   "metadata": {
    "collapsed": true
   },
   "outputs": [],
   "source": []
  },
  {
   "cell_type": "code",
   "execution_count": 16,
   "metadata": {},
   "outputs": [
    {
     "data": {
      "text/html": [
       "<div>\n",
       "<style>\n",
       "    .dataframe thead tr:only-child th {\n",
       "        text-align: right;\n",
       "    }\n",
       "\n",
       "    .dataframe thead th {\n",
       "        text-align: left;\n",
       "    }\n",
       "\n",
       "    .dataframe tbody tr th {\n",
       "        vertical-align: top;\n",
       "    }\n",
       "</style>\n",
       "<table border=\"1\" class=\"dataframe\">\n",
       "  <thead>\n",
       "    <tr style=\"text-align: right;\">\n",
       "      <th></th>\n",
       "      <th>race</th>\n",
       "      <th>educ</th>\n",
       "      <th>smoke</th>\n",
       "      <th>preg</th>\n",
       "      <th>weight</th>\n",
       "    </tr>\n",
       "  </thead>\n",
       "  <tbody>\n",
       "    <tr>\n",
       "      <th>0</th>\n",
       "      <td>1</td>\n",
       "      <td>8</td>\n",
       "      <td>0</td>\n",
       "      <td>39</td>\n",
       "      <td>3670</td>\n",
       "    </tr>\n",
       "    <tr>\n",
       "      <th>1</th>\n",
       "      <td>1</td>\n",
       "      <td>9</td>\n",
       "      <td>1</td>\n",
       "      <td>38</td>\n",
       "      <td>2775</td>\n",
       "    </tr>\n",
       "    <tr>\n",
       "      <th>2</th>\n",
       "      <td>1</td>\n",
       "      <td>9</td>\n",
       "      <td>0</td>\n",
       "      <td>38</td>\n",
       "      <td>2680</td>\n",
       "    </tr>\n",
       "    <tr>\n",
       "      <th>3</th>\n",
       "      <td>1</td>\n",
       "      <td>9</td>\n",
       "      <td>0</td>\n",
       "      <td>37</td>\n",
       "      <td>2699</td>\n",
       "    </tr>\n",
       "    <tr>\n",
       "      <th>4</th>\n",
       "      <td>1</td>\n",
       "      <td>9</td>\n",
       "      <td>1</td>\n",
       "      <td>38</td>\n",
       "      <td>2557</td>\n",
       "    </tr>\n",
       "  </tbody>\n",
       "</table>\n",
       "</div>"
      ],
      "text/plain": [
       "   race  educ  smoke  preg  weight\n",
       "0     1     8      0    39    3670\n",
       "1     1     9      1    38    2775\n",
       "2     1     9      0    38    2680\n",
       "3     1     9      0    37    2699\n",
       "4     1     9      1    38    2557"
      ]
     },
     "execution_count": 16,
     "metadata": {},
     "output_type": "execute_result"
    }
   ],
   "source": [
    "file_name = os.path.join(os.getcwd(), 'data', 'weights.txt')\n",
    "data = pd.read_csv(file_name, delimiter = '\\t')\n",
    "data.head()"
   ]
  },
  {
   "cell_type": "code",
   "execution_count": 51,
   "metadata": {},
   "outputs": [
    {
     "name": "stdout",
     "output_type": "stream",
     "text": [
      "First approach:\n",
      "w0 = -2841.38 w1 = -211.57\n",
      "Second approach:\n",
      "w0 = -2841.38 w1 = -211.57\n",
      "439.761624198\n",
      "55.3842495667\n",
      "0.336465211799\n",
      "race -> Important\n",
      "educ -> NOT Important\n",
      "smoke -> NOT Important\n",
      "preg -> Important\n"
     ]
    },
    {
     "data": {
      "text/plain": [
       "1319.9"
      ]
     },
     "execution_count": 51,
     "metadata": {},
     "output_type": "execute_result"
    }
   ],
   "source": [
    "y = data['weight'].values\n",
    "X = data.drop(['weight'], axis = 1).as_matrix()\n",
    "\n",
    "A0 = np.ones((X.shape[0],1))\n",
    "A = np.hstack((A0,X))\n",
    "\n",
    "# --- First approach w = (A^T * A)^ {-1} * A^T * y\n",
    "print('First approach:')\n",
    "weights = np.dot(np.dot(np.linalg.inv(np.dot(A.T, A)), A.T), y)\n",
    "print('w0 = {:.2f} w1 = {:.2f}'.format(weights[0], weights[1]))\n",
    "\n",
    "\n",
    "# --- Second approach \n",
    "print('Second approach:')\n",
    "cl = LinearRegression()\n",
    "cl.fit(X, y)\n",
    "\n",
    "print('w0 = {:.2f} w1 = {:.2f}'.format(cl.intercept_, cl.coef_[0]))\n",
    "\n",
    "alpha = 0.05\n",
    "\n",
    "S2 = np.sum((y - (np.dot(X, cl.coef_) + cl.intercept_))**2) / (y.shape[0] - cl.coef_.shape[0] - 1)\n",
    "S = np.sqrt(S2)\n",
    "print(S)\n",
    "\n",
    "a = np.linalg.inv(np.dot(A.T, A))\n",
    "betta = st.t.ppf(1. - alpha / 2., y.shape[0] - cl.coef_.shape[0] - 1) * S * np.sqrt(a[4][4])\n",
    "print(betta)\n",
    "\n",
    "from sklearn.metrics import r2_score\n",
    "R = r2_score(y, cl.predict(X))\n",
    "print(R)\n",
    "\n",
    "F = R**2 / (1. - R) * (y.shape[0] - cl.coef_.shape[0] - 1) / cl.coef_.shape[0]\n",
    "round(1. - st.f.cdf(F, cl.coef_.shape[0], y.shape[0] - cl.coef_.shape[0] - 1), 2)\n",
    "\n",
    "alpha = 0.05\n",
    "for i in xrange(cl.coef_.shape[0]):\n",
    "    t = cl.coef_[i] / (S * np.sqrt(a[i+1][i+1]))\n",
    "    cr = st.t.ppf(1 - alpha / 2., y.shape[0] - cl.coef_.shape[0] - 1)\n",
    "    if np.abs(t) > cr:\n",
    "        print('{0} -> Important'.format(data.drop(['weight'], axis = 1).columns[i]))\n",
    "    else:\n",
    "        print('{0} -> NOT Important'.format(data.drop(['weight'], axis = 1).columns[i]))\n",
    "\n",
    "RSS = np.sum(((y - cl.predict(X))**2))\n",
    "AIC = 2 * cl.coef_.shape[0] + y.shape[0] * (np.log(RSS / y.shape[0]) + 1.)\n",
    "round(AIC, 1)\n",
    "\n",
    "x1 = data['preg'].values.reshape(-1,1)\n",
    "cl1 = LinearRegression()\n",
    "cl1.fit(x1, y)\n",
    "\n",
    "\n",
    "RSS1 = np.sum(((y - cl1.predict(x1))**2))\n",
    "AIC1 = 2 * cl1.coef_.shape[0] + y.shape[0] * (np.log(RSS1 / y.shape[0]) + 1.)\n",
    "round(AIC1, 1)\n"
   ]
  },
  {
   "cell_type": "code",
   "execution_count": null,
   "metadata": {
    "collapsed": true
   },
   "outputs": [],
   "source": []
  },
  {
   "cell_type": "code",
   "execution_count": null,
   "metadata": {
    "collapsed": true
   },
   "outputs": [],
   "source": []
  },
  {
   "cell_type": "markdown",
   "metadata": {},
   "source": [
    "Last week!!"
   ]
  },
  {
   "cell_type": "code",
   "execution_count": 105,
   "metadata": {},
   "outputs": [
    {
     "data": {
      "text/plain": [
       "0.049"
      ]
     },
     "execution_count": 105,
     "metadata": {},
     "output_type": "execute_result"
    }
   ],
   "source": [
    "data = np.array([128,107,107,92,118,114,117,109,115,106,109,106,109,120,112,128,114,119,110,130])\n",
    "n = data.shape[0]\n",
    "x_ = np.mean(data)\n",
    "s = np.sqrt(np.sum((data - x_)**2) / (n - 1))\n",
    "\n",
    "cr = (x_ - 110.) / (s / np.sqrt(n))\n",
    "round(1. - st.t.cdf(cr, n - 1), 3)\n"
   ]
  },
  {
   "cell_type": "code",
   "execution_count": 75,
   "metadata": {},
   "outputs": [
    {
     "data": {
      "text/plain": [
       "0.417"
      ]
     },
     "execution_count": 75,
     "metadata": {},
     "output_type": "execute_result"
    }
   ],
   "source": [
    "d = np.array([3, 0, 2, 1, 3, 2, 1, 0, 2, 1])\n",
    "round((-7./3. + 1.5) / (-2.0), 3)"
   ]
  },
  {
   "cell_type": "code",
   "execution_count": 113,
   "metadata": {},
   "outputs": [
    {
     "data": {
      "text/plain": [
       "nan"
      ]
     },
     "execution_count": 113,
     "metadata": {},
     "output_type": "execute_result"
    }
   ],
   "source": [
    "file_name = os.path.join(os.getcwd(), 'data', 'rich_people.txt')\n",
    "data = pd.read_csv(file_name, delimiter = ' ')\n",
    "x = data['2015']\n",
    "y = data['2016']\n",
    "z = x - y\n",
    "np.sum(z < 0)\n",
    "st.bernoulli.ppf(0.5, x.shape[0])"
   ]
  },
  {
   "cell_type": "code",
   "execution_count": 114,
   "metadata": {},
   "outputs": [
    {
     "name": "stdout",
     "output_type": "stream",
     "text": [
      "2.586\n"
     ]
    }
   ],
   "source": [
    "x_ = np.array([3.17, 2.72, 2.63, 2.29, 2.12])\n",
    "print(np.mean(x_))"
   ]
  },
  {
   "cell_type": "code",
   "execution_count": 134,
   "metadata": {},
   "outputs": [
    {
     "data": {
      "text/plain": [
       "11423.92"
      ]
     },
     "execution_count": 134,
     "metadata": {},
     "output_type": "execute_result"
    }
   ],
   "source": [
    "x = np.array([19.5, 15.0, 13.5, 23.3, 6.3, 2.5,13.0, 1.8,6.5,1.8]).reshape(-1, 1)\n",
    "y = np.array([0.0, 38.5, 59.0, 97.4, 119.2, 129.5, 198.7, 248.7, 318.0, 438.5])\n",
    "\n",
    "c = LinearRegression()\n",
    "c.fit(x, y)\n",
    "round(c.coef_, 2)\n",
    "\n",
    "RSS = np.sum( (y - c.predict(x))**2)\n",
    "S2 = RSS / (x.shape[0] - 2)\n",
    "round(S2, 2)\n",
    "\n",
    "#round(c.intercept_, 2)"
   ]
  },
  {
   "cell_type": "code",
   "execution_count": null,
   "metadata": {
    "collapsed": true
   },
   "outputs": [],
   "source": []
  }
 ],
 "metadata": {
  "kernelspec": {
   "display_name": "Python 2",
   "language": "python",
   "name": "python2"
  },
  "language_info": {
   "codemirror_mode": {
    "name": "ipython",
    "version": 2
   },
   "file_extension": ".py",
   "mimetype": "text/x-python",
   "name": "python",
   "nbconvert_exporter": "python",
   "pygments_lexer": "ipython2",
   "version": "2.7.13"
  }
 },
 "nbformat": 4,
 "nbformat_minor": 2
}
